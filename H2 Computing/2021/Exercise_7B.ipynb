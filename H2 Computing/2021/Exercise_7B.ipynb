{
 "cells": [
  {
   "cell_type": "markdown",
   "metadata": {},
   "source": [
    "### Exercise Spaghetti\n",
    "\n",
    "1. Create a empty list and assign it to the variable **myList**\n"
   ]
  },
  {
   "cell_type": "code",
   "execution_count": 89,
   "metadata": {},
   "outputs": [],
   "source": [
    "empty = []\n",
    "myList = empty"
   ]
  },
  {
   "cell_type": "markdown",
   "metadata": {},
   "source": [
    "2. Add even numbers from 1 to 50 (inclusive) into **myList** in descending order."
   ]
  },
  {
   "cell_type": "code",
   "execution_count": 90,
   "metadata": {},
   "outputs": [
    {
     "name": "stdout",
     "output_type": "stream",
     "text": [
      "[50, 48, 46, 44, 42, 40, 38, 36, 34, 32, 30, 28, 26, 24, 22, 20, 18, 16, 14, 12, 10, 8, 6, 4, 2]\n"
     ]
    }
   ],
   "source": [
    "for i in range(1,50+1):\n",
    "    if i % 2 == 0:\n",
    "        myList.append(i)\n",
    "\n",
    "myList.reverse()\n",
    "\n",
    "print(myList)\n"
   ]
  },
  {
   "cell_type": "markdown",
   "metadata": {},
   "source": [
    "3. Create another list, **myList2**, which contains the elements which are the multiples of 4 from 1 to 50."
   ]
  },
  {
   "cell_type": "code",
   "execution_count": 91,
   "metadata": {},
   "outputs": [
    {
     "name": "stdout",
     "output_type": "stream",
     "text": [
      "[48, 44, 40, 36, 32, 28, 24, 20, 16, 12, 8, 4]\n"
     ]
    }
   ],
   "source": [
    "myList2 = []\n",
    "for i in myList:\n",
    "    if i % 4 == 0:\n",
    "        myList2.append(i)\n",
    "print(myList2)"
   ]
  },
  {
   "cell_type": "markdown",
   "metadata": {},
   "source": [
    "4. Create another list, **myList3**, which contains the elements which are the multiples of 6 from 1 to 70."
   ]
  },
  {
   "cell_type": "code",
   "execution_count": 92,
   "metadata": {},
   "outputs": [
    {
     "name": "stdout",
     "output_type": "stream",
     "text": [
      "[6, 12, 18, 24, 30, 36, 42, 48, 54, 60, 66]\n"
     ]
    }
   ],
   "source": [
    "myList3 = []\n",
    "for i in range(1,70+1):\n",
    "    if i % 6 == 0:\n",
    "        myList3.append(i)\n",
    "\n",
    "print(myList3)"
   ]
  },
  {
   "cell_type": "markdown",
   "metadata": {},
   "source": []
  },
  {
   "cell_type": "code",
   "execution_count": 93,
   "outputs": [
    {
     "name": "stdout",
     "output_type": "stream",
     "text": [
      "[48, 44, 40, 36, 32, 28, 24, 20, 16, 12, 8, 4, 6, 12, 18, 24, 30, 36, 42, 48, 54, 60, 66]\n"
     ]
    }
   ],
   "source": [
    "myList2 = myList2 + myList3\n",
    "print(myList2)"
   ],
   "metadata": {
    "collapsed": false,
    "pycharm": {
     "name": "#%%\n"
    }
   }
  },
  {
   "cell_type": "markdown",
   "metadata": {},
   "source": [
    "6. Sort and print **myList2**"
   ]
  },
  {
   "cell_type": "code",
   "execution_count": 94,
   "metadata": {},
   "outputs": [
    {
     "name": "stdout",
     "output_type": "stream",
     "text": [
      "[4, 6, 8, 12, 12, 16, 18, 20, 24, 24, 28, 30, 32, 36, 36, 40, 42, 44, 48, 48, 54, 60, 66]\n"
     ]
    }
   ],
   "source": [
    "myList2.sort()\n",
    "print(myList2)"
   ]
  },
  {
   "cell_type": "markdown",
   "metadata": {},
   "source": [
    "7. Remove any duplicates from **myList2**"
   ]
  },
  {
   "cell_type": "code",
   "execution_count": 95,
   "metadata": {},
   "outputs": [
    {
     "name": "stdout",
     "output_type": "stream",
     "text": [
      "[4, 6, 8, 12, 16, 18, 20, 24, 28, 30, 32, 36, 40, 42, 44, 48, 54, 60, 66]\n",
      "19\n"
     ]
    }
   ],
   "source": [
    "newList = []\n",
    "for i in myList2:\n",
    "    if i not in newList:\n",
    "        newList.append(i)\n",
    "myList2 = newList\n",
    "print(myList2)\n",
    "print(len(myList2))"
   ]
  },
  {
   "cell_type": "markdown",
   "metadata": {},
   "source": [
    "8. Append into **myList2**, 10 randomly generated random integers between 1 to 70 that is not already in **myList2**. \n",
    "\n"
   ]
  },
  {
   "cell_type": "code",
   "execution_count": 96,
   "metadata": {},
   "outputs": [
    {
     "name": "stdout",
     "output_type": "stream",
     "text": [
      "[3, 4, 6, 8, 10, 12, 14, 16, 18, 20, 23, 24, 28, 29, 30, 32, 36, 40, 42, 44, 45, 48, 54, 55, 59, 60, 64, 65, 66]\n",
      "29\n"
     ]
    }
   ],
   "source": [
    "import random\n",
    "count = 0\n",
    "random_num = random.randint(1,70)\n",
    "while count < 10:\n",
    "    if random_num not in myList2:\n",
    "        myList2.append(random_num)\n",
    "        count+=1\n",
    "    else:\n",
    "        random_num = random.randint(1,70)\n",
    "myList2.sort()\n",
    "print(myList2)\n",
    "print(len(myList2))"
   ]
  },
  {
   "cell_type": "markdown",
   "metadata": {},
   "source": [
    "9. Remove the elements in **myList** that is in **myList2**"
   ]
  },
  {
   "cell_type": "code",
   "execution_count": 97,
   "metadata": {},
   "outputs": [
    {
     "name": "stdout",
     "output_type": "stream",
     "text": [
      "[50, 48, 46, 44, 42, 40, 38, 36, 34, 32, 30, 28, 26, 24, 22, 20, 18, 16, 14, 12, 10, 8, 6, 4, 2] 25\n",
      "[3, 4, 6, 8, 10, 12, 14, 16, 18, 20, 23, 24, 28, 29, 30, 32, 36, 40, 42, 44, 45, 48, 54, 55, 59, 60, 64, 65, 66] 29\n",
      "[50, 46, 38, 34, 26, 22, 2] 7\n",
      "[3, 4, 6, 8, 10, 12, 14, 16, 18, 20, 23, 24, 28, 29, 30, 32, 36, 40, 42, 44, 45, 48, 54, 55, 59, 60, 64, 65, 66] 29\n"
     ]
    }
   ],
   "source": [
    "print(myList, len(myList))\n",
    "print(myList2, len(myList2))\n",
    "for i in myList2:\n",
    "    if i in myList:\n",
    "        myList.remove(i)\n",
    "\n",
    "print(myList, len(myList))\n",
    "print(myList2, len(myList2))"
   ]
  },
  {
   "cell_type": "markdown",
   "metadata": {},
   "source": [
    "10. Insert into **myList**, 5 randomly generated random integers between 10 to 80 into randomly generated position of **myList**. The generated integer should not be in **myList**. Print out the integers inserted into **myList** and its insertion position and **myList** after the insertion."
   ]
  },
  {
   "cell_type": "code",
   "execution_count": 98,
   "metadata": {
    "pycharm": {
     "name": "#%%\n"
    }
   },
   "outputs": [
    {
     "name": "stdout",
     "output_type": "stream",
     "text": [
      "[50, 46, 38, 34, 26, 22, 2]\n",
      "[50, 46, 38, 59, 34, 26, 18, 22, 2, 62, 25, 35]\n"
     ]
    }
   ],
   "source": [
    "counter = 0\n",
    "print(myList)\n",
    "while counter < 5:\n",
    "    a = random.randint(10,80)\n",
    "    pos = random.randint(1,len(myList))\n",
    "    if a not in myList:\n",
    "        myList.insert(pos,a)\n",
    "        counter+=1\n",
    "    else:\n",
    "        a = random.randint(10,80)\n",
    "\n",
    "print(myList)"
   ]
  }
 ],
 "metadata": {
  "kernelspec": {
   "display_name": "Python 3",
   "language": "python",
   "name": "python3"
  },
  "language_info": {
   "codemirror_mode": {
    "name": "ipython",
    "version": 3
   },
   "file_extension": ".py",
   "mimetype": "text/x-python",
   "name": "python",
   "nbconvert_exporter": "python",
   "pygments_lexer": "ipython3",
   "version": "3.6.4"
  }
 },
 "nbformat": 4,
 "nbformat_minor": 2
}