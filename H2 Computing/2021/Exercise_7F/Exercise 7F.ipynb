{
 "cells": [
  {
   "cell_type": "markdown",
   "metadata": {},
   "source": [
    "Operation on Dictionary\n",
    "```--------------------------------------------------------------------------\n",
    "Function        Descriptions\n",
    "----------------------------------------------------------------------------\n",
    "len(D)          Returns the number of key/value pairs in dictionary D\n",
    "D[key]          Used for inserting a new key, replacing a value or obtaining a value\n",
    "                at an existing key\n",
    "for k in D:     k is bound to each key in dictionary D in an unspecified order\n",
    "```\n",
    "\n",
    "Dictionary Methods\n",
    "```-----------------------------------------------------------------,-----\n",
    "Method            Description\n",
    "----------------------------------------------------------------------------\n",
    "list(D.keys())    Returns a list of dicitonary D's keys\n",
    "list(D.values())  Returns a list of dictionary D's values \n",
    "list(D.items())   Returns a list of dictioanry D's (key, value) pairs\n",
    "\n",
    "D.clear()         Removes all key/value pairs from dictionary D\n",
    "D.get(k)          Returns the value associated with key k, or None if the key isn't present \n",
    "                  (Usually you'll want to use D[k] instead)\n",
    "D.get(k,v)        Returns the value associated with key k, or value v if the key isn't present\n",
    "D.pop(k)          Removes key k from dictionary D and returns the value that was associated\n",
    "                  with k. If k isn't in D, an error is raised.\n",
    "D.pop(k,v)        Removes key k from dictionary D and returns the value that wa associated\n",
    "                  with k. If k isn't in D, returns v.```"
   ]
  },
  {
   "cell_type": "markdown",
   "metadata": {},
   "source": [
    "1  The function  **randint** from the random module  can be used to produce random numbers. A call on **random.randint(1, 6)**, for example, will produce the values 1 to 6 with equal probability. Write a program that loops 1000 times. On each iteration, it makes two calls on **randint** to simulate the rolling a pair of dice. Compute the sum of the two dice, and record the number of times each value appears. After the loop, print the array of sums. Here is what the output should look like:\n",
    "```\n",
    "Sum       Frequency \n",
    "2         27        \n",
    "3         47        \n",
    "4         80        \n",
    "5         94        \n",
    "6         143       \n",
    "7         184       \n",
    "8         137       \n",
    "9         109       \n",
    "10        97        \n",
    "11        54        \n",
    "12        28        \n",
    "Total     1000      \n",
    "```\n"
   ]
  },
  {
   "cell_type": "code",
   "execution_count": null,
   "metadata": {},
   "outputs": [],
   "source": []
  },
  {
   "cell_type": "markdown",
   "metadata": {},
   "source": [
    "2\tWrite a program that reads lines of text from the input until a line with a single character **'q'** is entered. The program should create a dictionary in which the keys are the individual words found in the text and the values are the number of times each word appears. For example, if the word **'the'** appears 5 times, the dictionary should contain an element with **'the'** as the key and 5 as the value. Once the terminating line is found, the program should display the frequency of each word.\n",
    "\n",
    "For example, if the input is this:\n",
    "```\n",
    "it was the best of times\n",
    "it was the worst of times\n",
    "q\n",
    "```\n",
    "Output will look like this:\n",
    "```\n",
    "it occurs 2 times\n",
    "was occurs 2 times\n",
    "the occurs 2 times\n",
    "best occurs 1 times\n",
    "of occurs 2 times\n",
    "times occurs 2 times\n",
    "worst occurs 1 times\n",
    "```"
   ]
  },
  {
   "cell_type": "code",
   "execution_count": null,
   "metadata": {},
   "outputs": [],
   "source": []
  },
  {
   "cell_type": "markdown",
   "metadata": {},
   "source": [
    "3  Write a function named **reverseLookup** that finds all of the keys in a dictionary that map to a specific value. The function will take the dictionay and the value to search for as its only parameters. It will return a (possibly empty) list of keys from the dictionary that map to the provided value.\n",
    "\n",
    "Include the following main program that creates a dictionary and then shows that the **reverseLookup** function works correctly when it returns multiple keys, a single key, and no keys.\n",
    "\n",
    "```\n",
    "def main():\n",
    "    # a dictionary mapping 3 students to their classes\n",
    "    members = {'Kelly': '20A13', 'Ken': '20S6A', 'Kitty': '20A13'}\n",
    "    \n",
    "    # demonstrate the reverseLookup function with 3 cases:\n",
    "    # one that returns multiple keys, \n",
    "    # one that returns one key, and one that returns no keys\n",
    "    \n",
    "    print (\"Students from 20A13 are:\", reverseLookup(members, '20A13'))\n",
    "    print (\"Expected: ['Kelly', 'Kitty']\")\n",
    "    print()\n",
    "    print (\"Students from 20S6A are:\", reverseLookup(members, '20S6A'))\n",
    "    print (\"Expected: ['Ken']\")\n",
    "    print()\n",
    "    print (\"Students from 20A11 are:\", reverseLookup(members, '20A11'))\n",
    "    print (\"Expected: []\")\n",
    "\n",
    "main()\n",
    "```\n"
   ]
  },
  {
   "cell_type": "code",
   "execution_count": null,
   "metadata": {},
   "outputs": [],
   "source": []
  },
  {
   "cell_type": "markdown",
   "metadata": {},
   "source": [
    "4  Two words are anagrams if they contain all of the same letters, but in a different order. For example, **evil** and **live** are anagrams because each contains one e, one i, one v, and one l. Write a program that reads two strings from the user, determines whether or not they are anagrams, and reports the result. "
   ]
  },
  {
   "cell_type": "code",
   "execution_count": null,
   "metadata": {},
   "outputs": [],
   "source": []
  },
  {
   "cell_type": "markdown",
   "metadata": {},
   "source": [
    "5  A Bingo card consists of 5 columns of 5 numbers. The columns are labeled with the letters ```B```, ```I```, ```N```, ```G```, and ```O```. There are 15 numbers that can appear under each letter. The numbers that can appear under the ```B``` range from 1 to 15, the numbers that can appear under the ```I``` range from 16 to 30, the numbers that can appear under the ```N``` range is 31 to 45, and so on.\n",
    "\n",
    "Write a function that creates a random Bingo card and stores it in a dictionary. The keys will be the letters ```B```, ```I```, ```N```, ```G```, and ```O```. The values will be the lists of five distinct numbers that appear under each letter.\n",
    "\n",
    "Write a second function that displays the Bingo card with the column labeled appropriately.\n",
    "\n",
    "Use these functions to write a program that displays a random Bingo card.    \n",
    "\n"
   ]
  },
  {
   "cell_type": "code",
   "execution_count": null,
   "metadata": {},
   "outputs": [],
   "source": [
    "\n",
    "            "
   ]
  },
  {
   "cell_type": "markdown",
   "metadata": {},
   "source": [
    "6  (a) Morse Code is a type of code in which letters are represented by combinations by long or short signals, e.g. the letter ‘A’ is represented by a short followed by a long signal,  i.e. '.-'\n",
    "\n",
    "Here we use the period ('.') to represent the short signal and the dash ('-') to present the  long signal.  The Morse code equivalent for the letters ‘A’ to ‘Z’ is provided in the file ```MORSE.txt```.  In this implementation, we use a space (‘ ‘) to simulate the inter-character gap.\n",
    "\n",
    "Write the program code for a function that will convert a given word into its Morse Code equivalent using the following specification.\n",
    "```\n",
    "            FUNCTION ConvertWord(SingleWord : STRING) RETURNS STRING\n",
    "```\n",
    "The function has a single parameter ```SingleWord``` and returns the Morse Code equivalent for that word as a string.\n",
    "\n",
    "Test your function to show the correct Morse Code equivalent for the word “SOS”.\t                                                                                                           \n",
    "\n"
   ]
  },
  {
   "cell_type": "code",
   "execution_count": null,
   "metadata": {},
   "outputs": [],
   "source": []
  },
  {
   "cell_type": "markdown",
   "metadata": {},
   "source": [
    "6 (b) Write the program code that will do the following:\n",
    "\n",
    "*\tthe user enters a word string in Morse Code\n",
    "*\tthe program converts the Morse Code word to its alphabetical equivalent\n",
    "*\toutputs the converted word.\n",
    "\n",
    "Test your program to show the correct word equivalent for the Morse Code string, “**...  ---  ...**”                                                                                                    \n"
   ]
  },
  {
   "cell_type": "code",
   "execution_count": null,
   "metadata": {},
   "outputs": [],
   "source": []
  },
  {
   "attachments": {
    "image.png": {
     "image/png": "[encoded data removed]"
    }
   },
   "cell_type": "markdown",
   "metadata": {},
   "source": [
    "7 (optional) An application is to be created to process the results of a soccer league. There are a total of 6 teams in the league and matches are played in a round robin fashion (i.e. each team plays every other team once). Points are awards according to the following rules:\n",
    "\n",
    "\n",
    "\n",
    "*\tA win worth 3 points to the winning team\n",
    "\n",
    "*\tA draw is worth 1 point to each team\n",
    "\n",
    "*\tThe difference between goal for (GF) and goal against (GA) is used in the event of a tie.\n",
    "\n",
    "Match results data is provided in file **LEAGUE.txt**. Each match result takes up one line.\n",
    "\n",
    "Here is what the output should look like:\n",
    "![image.png](attachment:image.png)\n",
    "\n",
    "Write program code for this task."
   ]
  },
  {
   "cell_type": "code",
   "execution_count": null,
   "metadata": {},
   "outputs": [],
   "source": []
  },
  {
   "cell_type": "code",
   "execution_count": null,
   "metadata": {},
   "outputs": [],
   "source": []
  }
 ],
 "metadata": {
  "kernelspec": {
   "display_name": "Python 3",
   "language": "python",
   "name": "python3"
  },
  "language_info": {
   "codemirror_mode": {
    "name": "ipython",
    "version": 3
   },
   "file_extension": ".py",
   "mimetype": "text/x-python",
   "name": "python",
   "nbconvert_exporter": "python",
   "pygments_lexer": "ipython3",
   "version": "3.6.4"
  }
 },
 "nbformat": 4,
 "nbformat_minor": 2
}
