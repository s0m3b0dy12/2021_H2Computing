{
 "cells": [
  {
   "cell_type": "markdown",
   "metadata": {},
   "source": [
    "Operations on Lists\n",
    "```--------------------------------------------------------------------------\n",
    "Function    Descriptions\n",
    "----------------------------------------------------------------------------\n",
    "len(L)      Returns the number of items in list L\n",
    "max(L)      Returns the maximum value in list L\n",
    "min(L)      Returns the minimum value in list L\n",
    "sum(L)      Returns the sum of the values in list L\n",
    "sorted(L)   Returns a copy of list L where the items are in order\n",
    "            from smallest to largest (This does not mutate L.)```\n",
    "\n",
    "List Methods\n",
    "```----------------------------------------------------------------------\n",
    "Method                 Description\n",
    "----------------------------------------------------------------------------\n",
    "L.clear()              Removes all items from list L\n",
    "L.append(v)            Appends value v to list L\n",
    "L.count(v)             Returns the number of occurrences of v in list L\n",
    "L.extend(v)            Appends the items in list v to L\n",
    "L.index(v)             Returns the index of the first occurrence of v in L\n",
    "                       An error is raised if v doesn't occur in L.\n",
    "L.insert(i, v)         Inserts value v at index i in list L, shifting subsequent items to make\n",
    "                       room\n",
    "L.pop()                Removes and returns the last item of L\n",
    "L.pop(i)               Removes and returns the item at index i in list L\n",
    "L.remove(v)            Removes the first occurrence of value v in list L\n",
    "                       An error is raised if v dosen't occur in L.\n",
    "L.reverse()            Reverse the order of the values in list L\n",
    "L.sort()               Sorts the values in list L in ascending order (for strings with\n",
    "                       the same letter case, it sorts in alphabetical order)\n",
    "L.sort(reverse = True) Sorts the values in list L ind descending order (for strings with\n",
    "                       the same letter case, it sorts in reverse alphabetical order)``` \n",
    "\n",
    "\n"
   ]
  },
  {
   "cell_type": "markdown",
   "metadata": {},
   "source": [
    "1  Write a program that reads integers from the user and stores them in a list. Use 0 as a sentinal value to mark the end of the input. Once all the values have been read your program should display all the values entered (except for the 0) in order from largest to smallest, with one value appearing on each line. Use either the **sort** method or the **sorted** function to sort the list."
   ]
  },
  {
   "cell_type": "code",
   "execution_count": 2,
   "metadata": {},
   "outputs": [
    {
     "name": "stdout",
     "output_type": "stream",
     "text": [
      "30\n",
      "6\n",
      "4\n",
      "2\n",
      "-5\n",
      "-6\n",
      "-50\n"
     ]
    }
   ],
   "source": [
    "num_list = []\n",
    "num = int(input(\"Key in an integer, or key in a 0 to quit the program\"))\n",
    "\n",
    "while num != 0:\n",
    "    num_list.append(num)\n",
    "    num = int(input(\"Key in an integer, or key in a 0 to quit the program\"))\n",
    "\n",
    "num_list = sorted(num_list)\n",
    "num_list.reverse()\n",
    "\n",
    "for i in num_list:\n",
    "    print(i)\n"
   ]
  },
  {
   "cell_type": "markdown",
   "metadata": {},
   "source": [
    "2  The function  **randint** from the random module  can be used to produce random numbers. A call on **random.randint(1, 6)**, for example, will produce the values 1 to 6 with equal probability. Write a program that loops 1000 times. On each iteration, it makes two calls on **randint** to simulate the rolling a pair of dice. Compute the sum of the two dice, and record the number of times each value appears. After the loop, print the array of sums. Here is what the output should look like:\n",
    "```\n",
    "Sum       Frequency \n",
    "2         27        \n",
    "3         47        \n",
    "4         80        \n",
    "5         94        \n",
    "6         143       \n",
    "7         184       \n",
    "8         137       \n",
    "9         109       \n",
    "10        97        \n",
    "11        54        \n",
    "12        28        \n",
    "Total     1000      \n",
    "```\n"
   ]
  },
  {
   "cell_type": "code",
   "execution_count": 21,
   "metadata": {},
   "outputs": [
    {
     "name": "stdout",
     "output_type": "stream",
     "text": [
      "Sum       Frequency\n",
      "2         28\n",
      "3         56\n",
      "4         84\n",
      "5         103\n",
      "6         139\n",
      "7         180\n",
      "8         139\n",
      "9         124\n",
      "10        75\n",
      "11        48\n",
      "12        24\n",
      "Total     1000\n"
     ]
    }
   ],
   "source": [
    "import random\n",
    "\n",
    "dice = {}\n",
    "roll = 0\n",
    "hold = 2\n",
    "new = {}\n",
    "\n",
    "while roll != 1000:\n",
    "    add = random.randint(1,6) + random.randint(1,6)\n",
    "    if add in dice:\n",
    "        dice[add] +=1\n",
    "    else:\n",
    "        dice[add] = 1\n",
    "\n",
    "    roll+=1\n",
    "\n",
    "for roll in range(2,12+1):\n",
    "    for k,v in dice.items():\n",
    "        if k == hold:\n",
    "            new.update({k:v})\n",
    "    hold+=1\n",
    "\n",
    "print(f\"{'Sum':<10}Frequency\")\n",
    "for k,v in new.items():\n",
    "    print(f\"{k:<10}{v}\")\n",
    "print(f\"{'Total':<10}1000\")"
   ]
  },
  {
   "cell_type": "markdown",
   "metadata": {},
   "source": [
    "3  In order to win the top prize in a lottery, one must match all 6 numbers on his ticket to the 6 numbers between 1 and 49 that are drawn by the lottery organizer. Write a program that generates a random selection of 6 numbers for a lottery ticket. Ensure that the 6 numbers selected do not contain any duplicates. Display the numbers in ascending order.  "
   ]
  },
  {
   "cell_type": "code",
   "execution_count": null,
   "metadata": {},
   "outputs": [],
   "source": []
  },
  {
   "cell_type": "markdown",
   "metadata": {},
   "source": [
    "4   The data file ```VIA.DAT``` contains information about students and the number of hours of the various types of Values in Action projects that the students have completed. The format of \n",
    "   a student record is as follows:\n",
    "  ```\n",
    "  <Student Name>\n",
    "  <Self-Initiated VIA Hours>:<School VIA Hours>:<Other VIA Hours>\n",
    "  ```\n",
    "  Sample record:\n",
    "  ```\n",
    "  Tan Ah Beng\n",
    "  13:5:8\n",
    "  ```\n",
    "  The civics tutor of the class would like to find out the names of the students who have not completed __x__, the minimum number of VIA hours entered by the civics tutor, so that she can 'motivate' them. Write a program to output the count and names of students who have completed less than **x** hours of VIA in ascending number of total VIA hours. \n",
    "\n"
   ]
  },
  {
   "cell_type": "code",
   "execution_count": null,
   "metadata": {},
   "outputs": [],
   "source": []
  },
  {
   "cell_type": "markdown",
   "metadata": {},
   "source": [
    "5(a) The file **words1.txt** and **words2.txt** store a list of single word computing terms used in a text book.\n",
    "\n",
    "Each entry has the following format:\n",
    "```\n",
    "<computing term>\n",
    "<number>\n",
    "```\n",
    "One of the entries is:\n",
    "```\n",
    "program\n",
    "52```\n",
    "\n",
    "This means that after a complete scan of the texbook the word **program** was found **52** times. Write a program code to find and output the term with the highest number of occurrences. Use th file **words1.txt** to test your program\n",
    "(ans: computing 75)\n",
    "\n",
    "[9]"
   ]
  },
  {
   "cell_type": "code",
   "execution_count": null,
   "metadata": {},
   "outputs": [],
   "source": []
  },
  {
   "cell_type": "markdown",
   "metadata": {},
   "source": [
    "5(b) Amend your program code in 5(a) so that if more than one term exists with the highest number of occurrences, all items are reported. Use the file words2.txt to test your program. (ans: 86, system, computer)\n",
    "\n",
    "[6]"
   ]
  },
  {
   "cell_type": "code",
   "execution_count": null,
   "outputs": [],
   "source": [],
   "metadata": {
    "collapsed": false,
    "pycharm": {
     "name": "#%%\n"
    }
   }
  },
  {
   "cell_type": "markdown",
   "source": [
    "6  A role-playing computer game includes a list of items called the inventory. This inventory can be represented using a one-dimensional (1-D)array. **INVENTORY.TXT** is a text file containing the items from the computer game inventory. Each item type can have many ocurrences. For example:\n",
    "\n",
    "```\n",
    "            (Inventory)                      (ItemType)\n",
    "            Iron Ore                         Iron Ore\n",
    "            Stone                            Stone\n",
    "            Sticky Piston                    Sticky Piston\n",
    "            Glass                            Glass\n",
    "            Stone                            Sand\n",
    "            Stone\n",
    "            Sand\n",
    "            Sticky Piston\n",
    "            Iron Ore\n",
    "```\n",
    "Design and write progam code to:\n",
    "* read the contents of __INVENTORY.TXT__ to an appropriate data structure called **Inventory**\n",
    "* find each item type in this inventory and write these into a second array called **ItemTypes**\n",
    "* count the number of each item type in the inventory and store this in a third array called **ItemCounts**\n",
    "* display the contents of the **Itemtypes** and **ItemCounts** data structures using the format given below\n",
    "\n",
    "Example run of the program:\n",
    "\n",
    "```\n",
    "            (Input file)\n",
    "            Iron Ore\n",
    "            Stone\n",
    "            Sticky Piston\n",
    "            Glass\n",
    "            Stone\n",
    "            Stone\n",
    "            Sand\n",
    "            Sticky Piston\n",
    "            Iron Ore\n",
    "```\n",
    "The output generated from the above input file would be:\n",
    "```\n",
    "           ItemType           Count\n",
    "           Iron Ore           2\n",
    "           Stone              3\n",
    "           Sticky Piston      2\n",
    "           Glass              1\n",
    "           Sand               1\n",
    "```\n",
    "[15]"
   ],
   "metadata": {
    "collapsed": false
   }
  },
  {
   "cell_type": "code",
   "execution_count": null,
   "outputs": [],
   "source": [],
   "metadata": {
    "collapsed": false,
    "pycharm": {
     "name": "#%%\n"
    }
   }
  },
  {
   "cell_type": "markdown",
   "source": [
    "7(a)  Design and code a computer prgoam to simulate the following:\n",
    "\n",
    "A garden has a rectangular pond measuring 15 metres by 5 metres.\n",
    "The pond is to be represented on the screen by a rectangular grid. Each square metre of the pond is represented by an x-coordinate and a y-coordinate. The top left square metre of the pond display has x = 1 and y = 1.\n",
    "\n",
    "A boy throws a stone into the pond. The user will input the x-coordinate and y-coordinate of the stone impact position.\n",
    "\n",
    "A grid representing the pond is then displayed with the stone's impact position:\n",
    "\n",
    "```\n",
    "X coordinate <1 to 15>? 4\n",
    "Y coordiane <1 to 5>? 2\n",
    "...............\n",
    "...S...........\n",
    "...............\n",
    "...............\n",
    "...............\n",
    "```\n",
    "\n",
    "The following are the suggested characters to use for the visual reprsentation of the pond:\n",
    "```\n",
    "   ____________________________________________________________________\n",
    "   |   Character   |  ASCII code (decimal) |  Represents              |\n",
    "   |_______________|_______________________|__________________________|\n",
    "   |       .       |        46             | One square metre of water|\n",
    "   |_______________|_______________________|__________________________|\n",
    "   |       S       |        83             | Stone impact position    |\n",
    "   |_______________|_______________________|__________________________|\n",
    "\n",
    "\n",
    "Decide on the design to be used for:\n",
    "\n",
    ">> The data structure to reprsent the grid\n",
    ">> The contents of each square meter of the pond\n",
    ">> Procedure(s) and/or function(s) to be used                         [6]\n",
    "```"
   ],
   "metadata": {
    "collapsed": false
   }
  },
  {
   "cell_type": "code",
   "execution_count": null,
   "outputs": [],
   "source": [],
   "metadata": {
    "collapsed": false,
    "pycharm": {
     "name": "#%%\n"
    }
   }
  },
  {
   "cell_type": "markdown",
   "source": [
    "7(b) Write program code to display the pond contents after a single stone has been thrown.\n",
    "[8]"
   ],
   "metadata": {
    "collapsed": false
   }
  },
  {
   "cell_type": "code",
   "execution_count": null,
   "outputs": [],
   "source": [],
   "metadata": {
    "collapsed": false,
    "pycharm": {
     "name": "#%%\n"
    }
   }
  },
  {
   "cell_type": "markdown",
   "source": [
    "7(c) The boy has been told to stop throwing stones into the pond because the pond now has three fish. The fish randomly swim around. Each fish will occupy a unique grid position.\n",
    "\n",
    "Using a random number generator, simulate the position of the three fish.\n",
    "\n",
    "Use the following character for a fish:\n",
    "```\n",
    "    ________________________________________________________\n",
    "   |   Character   |  ASCII code (decimal) |  Represents   |\n",
    "   |_______________|_______________________|_______________|\n",
    "   |       F       |        70             |     Fish      |\n",
    "   |_______________|_______________________|_______________|\n",
    "```\n",
    "Write program code to show the pond containing the three fish at a partiular instance of time. The progam will now only display the pond and fish.\n",
    "[7]\n"
   ],
   "metadata": {
    "collapsed": false
   }
  },
  {
   "cell_type": "code",
   "execution_count": null,
   "outputs": [],
   "source": [],
   "metadata": {
    "collapsed": false,
    "pycharm": {
     "name": "#%%\n"
    }
   }
  },
  {
   "cell_type": "markdown",
   "source": [
    "7(d) The boy has been asked to feed the fish. He cnnot see the fish in the pond. He throws a food pellet into thepond which lands inside one of hte square metres. If one of the fish is in this sqaure, it eats the food and become a happy fish.\n",
    "\n",
    "Use character symbols for the pond's grid display as follows:\n",
    "```\n",
    "   ____________________________________________________________________________\n",
    "   | Character | ASCII code (decimal) |          Represents                    |\n",
    "   |___________|______________________|________________________________________|\n",
    "   |     .     |         46           | One square metere of water             |\n",
    "   |___________|______________________|________________________________________|\n",
    "   |     P     |         80           |Pellet (if not eaten by one of the fish)|\n",
    "   |___________|______________________|________________________________________|\n",
    "   |     H     |         72           | Happy (fed) fish                       |\n",
    "   |___________|______________________|________________________________________|\n",
    "   |     F     |         70           | Fish                                   |\n",
    "   |___________|______________________|________________________________________|\n",
    "   ```\n",
    "Write prgoram code to simulate the boy throwing one food pellet into the pond. The user will input an x-coordinate and y-coordinate for the food pellet position. You should consider the possible reuse of any code from questions 7(b) and 7(c).\n",
    "\n",
    "A sample screenshot to that shown which shows:\n",
    "\n",
    "  ```\n",
    ">> one throw which did not feed a fish\n",
    "\n",
    "   X coordinate <1 to 15>? 2\n",
    "   Y coordiane <1 to 5>? 5\n",
    "\n",
    "   ...............\n",
    "   ...F...........\n",
    "   .....F.........\n",
    "   ...............\n",
    "   .P.........F...\n",
    "\n",
    "\n",
    ">> a second throw where a fish was fed\n",
    "\n",
    "   X coordinate <1 to 15>? 1\n",
    "   Y coordiane <1 to 5>? 5\n",
    "\n",
    "   ...............\n",
    "   .............F.\n",
    "   ...............\n",
    "   .........F.....\n",
    "   H..............                                                       [9]\n",
    "```"
   ],
   "metadata": {
    "collapsed": false
   }
  },
  {
   "cell_type": "code",
   "execution_count": null,
   "outputs": [],
   "source": [],
   "metadata": {
    "collapsed": false,
    "pycharm": {
     "name": "#%%\n"
    }
   }
  },
  {
   "cell_type": "markdown",
   "source": [
    "8. (optional) The parity system is a simple error detection scheme in data communication. Error correction can be achieved by the sender transmitting extra information for the recipient to rectify the error. Consider the following 4 nibbles (1 nibble = 4 bits) of data using even parity scheme:\n",
    "\n",
    " ```\n",
    " 1100 1011 0111 0101\n",
    "```\n",
    "\n",
    "  We can arrange the nibbles one after and below another, appending a parity bit to each row and column such that the total number of **1**s in each row and column is even.\n",
    "\n",
    "```\n",
    "   11000\n",
    "   10111\n",
    "   01111\n",
    "   01010\n",
    "   01010\n",
    "\n",
    " ```\n",
    "   The receiver verifies that both the latitudinal and longitudinal parities conform to even  parity. Should a random single bit error occurs, the intersection of the row and column which violates even parity will not only detect the position of the error, and since the data is binary, correction is easily achieved by flipping 1 to 0 or 0 to 1.\n",
    "\n",
    "```\n",
    "  11000\n",
    "  10011 --> error\n",
    "  01111\n",
    "  01010\n",
    "  01010\n",
    "    |\n",
    "    v\n",
    "  error\n",
    "  ```\n",
    "   Two sets of data received is given in the text file **DATA.txt**\n",
    "\n",
    " Write a program which reads in and process **DATA.txt** and output either:\n",
    " * the message \"**No error detected.**\" if the data conforms to even parity\n",
    "\n",
    " * (row, column) coordiantes of the single bit error detected and the corrected data if the data does not conform.\n",
    "  ```\n",
    "  e.g. For the data above, the output should be:\n",
    "  ```\n",
    "   **Error at (1,2)**\n",
    "\n",
    "   __Correct data: 1100 1011 0111 0101__\n",
    "\n",
    "\n",
    "  (ans: 1st set: No error detected.\n",
    "        2nd set: Error at (2,6)\n",
    "                 Correct data: 11110000 00110001 11010111 01001111)"
   ],
   "metadata": {
    "collapsed": false
   }
  }
 ],
 "metadata": {
  "kernelspec": {
   "display_name": "Python 3",
   "language": "python",
   "name": "python3"
  },
  "language_info": {
   "codemirror_mode": {
    "name": "ipython",
    "version": 3
   },
   "file_extension": ".py",
   "mimetype": "text/x-python",
   "name": "python",
   "nbconvert_exporter": "python",
   "pygments_lexer": "ipython3",
   "version": "3.6.4"
  }
 },
 "nbformat": 4,
 "nbformat_minor": 2
}