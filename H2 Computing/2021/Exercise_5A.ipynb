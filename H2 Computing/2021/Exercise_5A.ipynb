{
 "cells": [
  {
   "cell_type": "markdown",
   "metadata": {},
   "source": [
    "1 Write a program that converts a binary (base 2) number to decimal (base 10) \n"
   ]
  },
  {
   "cell_type": "code",
   "execution_count": 30,
   "metadata": {},
   "outputs": [
    {
     "name": "stdout",
     "output_type": "stream",
     "text": [
      "bin: 1111110010\n",
      "dec: 1010\n"
     ]
    }
   ],
   "source": [
    "bin = input(\"Key in a binary number: \")\n",
    "num = len(bin) -1\n",
    "dec = 0\n",
    "\n",
    "for i in bin:\n",
    "    dec = dec + (int(i) * (2 ** num))\n",
    "    num-=1\n",
    "\n",
    "print(f\"bin: {bin}\\ndec: {dec}\")"
   ]
  },
  {
   "cell_type": "markdown",
   "metadata": {},
   "source": [
    "2 Write a program that converts a decimal (base 10) number to binary (base 2)."
   ]
  },
  {
   "cell_type": "code",
   "execution_count": 29,
   "metadata": {},
   "outputs": [
    {
     "name": "stdout",
     "output_type": "stream",
     "text": [
      "1111110010\n"
     ]
    }
   ],
   "source": [
    "dec = int(input(\"Key in a decimal number\"))\n",
    "bin = ''\n",
    "quo = dec\n",
    "\n",
    "while quo>0:\n",
    "    rem = quo % 2\n",
    "    bin = str(rem) + bin \n",
    "    quo = quo // 2\n",
    "\n",
    "print(bin)\n",
    "\n",
    "    "
   ]
  },
  {
   "cell_type": "markdown",
   "metadata": {},
   "source": [
    "3 Write two functions, **hex2int** and **int2hex**, that converts between hexadecimal digits (0, 1, 2, 3, 4, 5, 6, 7, 8, 9, A, B, C, D, E, F) and base 10 integers.\n",
    "\n",
    "The **hex2int** function converts a single hexadecimal digit to a base 10 integer, while the **int2hex** function is to convert an integer from 0 to 15 to a single hexadecimcal digit. Each function will take the value to convert as its only parameter and return the converted value. Ensure that the **hex2int** function works correctly for both uppercase and lowercase letters.\n"
   ]
  },
  {
   "cell_type": "code",
   "execution_count": null,
   "metadata": {},
   "outputs": [],
   "source": []
  },
  {
   "cell_type": "markdown",
   "metadata": {},
   "source": [
    "4 Write a program that allows user to convert a number from one base to another base. Your program should support bases between 2 and 16 for both the input number and output number. Divide your program into several functions, including a function that converts from an arbitrary base to base 10, a function that converts from base 10 to an arbitrary base. You may find your solutions to Q1, Q2 and Q3 helpful when completing this question.  "
   ]
  },
  {
   "cell_type": "code",
   "execution_count": null,
   "metadata": {},
   "outputs": [],
   "source": []
  },
  {
   "cell_type": "markdown",
   "metadata": {},
   "source": [
    "5    A **bit shift** is a procedure whereby the bits in a bit string are moved to the left or to the right. For example, we can shift the bits in the string **1011** two places to the left to produce the string **1110**. Note that the leftmost two bits are wrapped around to the right side of the string in this operation. Define two functions, **shiftLeft** and **shiftRight**, that expect a bit string as an input. The function **shiftLeft** shifts the bits in its input one place to the left, wrapping the leftmost bit to the rightmost position. The function **shiftRight** performs the inverse operation. Each function returns the resulting string.\n"
   ]
  },
  {
   "cell_type": "code",
   "execution_count": null,
   "metadata": {},
   "outputs": [],
   "source": [
    "def shiftLeft(aString):\n",
    "# Shifts the input string one place to the left\n",
    "# The leftmost bit wraps around to the rightmost position \n",
    "         \n",
    "         .\n",
    "         .\n",
    "         . \n",
    "\n",
    "    \n",
    "def shiftRight(aString):\n",
    "# Shifts the input string one place to the right\n",
    "# The rightmost bit wraps around to the leftmost position \n",
    "\n",
    "         .\n",
    "         .\n",
    "         . \n",
    "\n",
    " \n",
    "\n",
    "def main():\n",
    "    # Tests the shift left function\n",
    "    print ('Shift Left')\n",
    "    print(shiftLeft(\"100111\"))   # \"001111\"\n",
    "    print(shiftLeft(\"01\"))     # \"10\"\n",
    "    print(shiftLeft(\"1\"))      # \"1\"\n",
    "    \n",
    "    print ()\n",
    "    \n",
    "    print ('Shift Right')\n",
    "    # Tests the shift right function\n",
    "    print(shiftRight(\"001111\"))  # \"100111\"\n",
    "    print(shiftRight(\"10\"))    # \"01\"\n",
    "    print(shiftRight(\"1\"))     # \"1\"\n",
    "\n",
    "main()\n"
   ]
  },
  {
   "cell_type": "markdown",
   "metadata": {},
   "source": [
    "6\tUse the strategy of the decimal to binary conversion and the bit shift left operation defined in question 5 to code an encryption algorithm. The algorithm should add 1 to each character’s numeric ASCII value, convert it to a bit string, and shift the bits of this string one place to the left. A single space character in the encrypted string separates the resulting bit strings."
   ]
  },
  {
   "cell_type": "code",
   "execution_count": null,
   "metadata": {},
   "outputs": [],
   "source": []
  }
 ],
 "metadata": {
  "kernelspec": {
   "display_name": "Python 3",
   "language": "python",
   "name": "python3"
  },
  "language_info": {
   "codemirror_mode": {
    "name": "ipython",
    "version": 3
   },
   "file_extension": ".py",
   "mimetype": "text/x-python",
   "name": "python",
   "nbconvert_exporter": "python",
   "pygments_lexer": "ipython3",
   "version": "3.6.4"
  }
 },
 "nbformat": 4,
 "nbformat_minor": 2
}
