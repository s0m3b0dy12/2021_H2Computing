{
 "cells": [
  {
   "cell_type": "markdown",
   "metadata": {},
   "source": [
    "1 Write a program that converts a binary (base 2) number to decimal (base 10) \n"
   ]
  },
  {
   "cell_type": "code",
   "execution_count": 2,
   "metadata": {},
   "outputs": [
    {
     "name": "stdout",
     "output_type": "stream",
     "text": [
      "bin: 101010\n",
      "dec: 42\n"
     ]
    }
   ],
   "source": [
    "bin = input(\"Key in a binary number: \")\n",
    "num = len(bin) -1\n",
    "dec = 0\n",
    "\n",
    "for i in bin:\n",
    "    dec = dec + (int(i) * (2 ** num))\n",
    "    num-=1\n",
    "\n",
    "print(f\"bin: {bin}\\ndec: {dec}\")"
   ]
  },
  {
   "cell_type": "markdown",
   "metadata": {},
   "source": [
    "2 Write a program that converts a decimal (base 10) number to binary (base 2)."
   ]
  },
  {
   "cell_type": "code",
   "execution_count": 3,
   "metadata": {},
   "outputs": [
    {
     "name": "stdout",
     "output_type": "stream",
     "text": [
      "110010\n"
     ]
    }
   ],
   "source": [
    "dec = int(input(\"Key in a decimal number\"))\n",
    "bin = ''\n",
    "quo = dec\n",
    "\n",
    "while quo>0:\n",
    "    rem = quo % 2\n",
    "    bin = str(rem) + bin \n",
    "    quo = quo // 2\n",
    "\n",
    "print(bin)\n",
    "\n",
    "    "
   ]
  },
  {
   "cell_type": "markdown",
   "metadata": {},
   "source": [
    "3 Write two functions, **hex2int** and **int2hex**, that converts between hexadecimal digits (0, 1, 2, 3, 4, 5, 6, 7, 8, 9, A, B, C, D, E, F) and base 10 integers.\n",
    "\n",
    "The **hex2int** function converts a single hexadecimal digit to a base 10 integer, while the **int2hex** function is to convert an integer from 0 to 15 to a single hexadecimcal digit. Each function will take the value to convert as its only parameter and return the converted value. Ensure that the **hex2int** function works correctly for both uppercase and lowercase letters.\n"
   ]
  },
  {
   "cell_type": "code",
   "execution_count": 4,
   "metadata": {},
   "outputs": [
    {
     "name": "stdout",
     "output_type": "stream",
     "text": [
      "1001\n"
     ]
    }
   ],
   "source": [
    "def hex2int(hex):\n",
    "    exp = len(hex)-1\n",
    "    dec = 0\n",
    "    for i in hex:\n",
    "        if i in \"0123456789\":\n",
    "            i = int(i)\n",
    "            dec = dec + (i * (16**exp))\n",
    "        else: \n",
    "            dec = dec + ((ord(i) - 55) * (16**exp))\n",
    "        exp-=1\n",
    "\n",
    "    return dec\n",
    "\n",
    "print(hex2int('3E9'))\n"
   ]
  },
  {
   "cell_type": "code",
   "execution_count": 5,
   "metadata": {},
   "outputs": [
    {
     "data": {
      "text/plain": "'3E9'"
     },
     "execution_count": 5,
     "metadata": {},
     "output_type": "execute_result"
    }
   ],
   "source": [
    "def int2hex(dec):\n",
    "    quo = dec\n",
    "    hex = ''\n",
    "    while quo >= 1:\n",
    "        letter = 'ABCDE'\n",
    "        rem = quo % 16\n",
    "        if rem in range(9+1):\n",
    "            hex = str(rem) + hex\n",
    "        else:\n",
    "            hex = letter[(rem%10)] + hex\n",
    "        \n",
    "        quo = quo // 16\n",
    "    return hex\n",
    "\n",
    "num = 1001\n",
    "int2hex(num)"
   ]
  },
  {
   "cell_type": "markdown",
   "metadata": {},
   "source": [
    "4 Write a program that allows user to convert a number from one base to another base. Your program should support bases between 2 and 16 for both the input number and output number. Divide your program into several functions, including a function that converts from an arbitrary base to base 10, a function that converts from base 10 to an arbitrary base. You may find your solutions to Q1, Q2 and Q3 helpful when completing this question.  "
   ]
  },
  {
   "cell_type": "code",
   "execution_count": 6,
   "metadata": {},
   "outputs": [
    {
     "name": "stdout",
     "output_type": "stream",
     "text": [
      "40 from base 7 to base 13 is 31\n"
     ]
    }
   ],
   "source": [
    "def b2t(num, old):\n",
    "    # Convert a number from an arbitrary Base to base Ten\n",
    "    exp = len(num)-1\n",
    "    out = 0\n",
    "    for i in num:\n",
    "        if i in \"0123456789\":\n",
    "            i = int(i)\n",
    "        else:\n",
    "            i = ord(i)-55\n",
    "        out = out + (i * (old ** exp))\n",
    "        exp-=1\n",
    "\n",
    "    return out\n",
    "\n",
    "def t2b(num, base):\n",
    "    # Convert a number from base Ten to an arbitrary base\n",
    "    quo = int(num)\n",
    "    out = ''\n",
    "    while quo>=1:\n",
    "        rem = quo % base\n",
    "        if str(rem) in \"0123456789\":\n",
    "            out = str(rem) + out\n",
    "        else:\n",
    "            letter = 'ABCDE'\n",
    "            out = letter[(rem%10)] + out\n",
    "\n",
    "        quo = quo // base\n",
    "\n",
    "    return out\n",
    "\n",
    "\n",
    "\n",
    "def main():\n",
    "    num = input(\"Key in a number in any base\")\n",
    "    old = int(input(\"Key in the base of the number. This program supports bases between 2 and 16.\"))\n",
    "    new = int(input(\"Key in the new base of the number. It should also be between bases 2 adn 16.\"))\n",
    "    if old not in range(2,16):\n",
    "        old = int(input(\"Key in the base of the number. This program supports bases between 2 and 16.\"))\n",
    "\n",
    "    if new not in range (2,16):\n",
    "        new = int(input(\"Key in the new base of the number. It should also be between bases 2 adn 16.\"))\n",
    "\n",
    "    if old == new:\n",
    "        print(f\"{num} from base {old} to base {new} is {num}\")\n",
    "    elif num == '0':\n",
    "        print(f\"0 from base {old} to base {new} is 0\")\n",
    "    elif old == 10:\n",
    "        out = t2b(num,new)\n",
    "        print(f\"{num} from base {old} to base {new} is {out}\")\n",
    "    elif new == 10:\n",
    "        out = b2t(num,old)\n",
    "        print(f\"{num} from base {old} to base {new} is {out}\")\n",
    "\n",
    "    else:\n",
    "        out = b2t(num,old)\n",
    "        out = t2b(num,new)\n",
    "        print(f\"{num} from base {old} to base {new} is {out}\")\n",
    "\n",
    "\n",
    "main()\n",
    "\n"
   ]
  },
  {
   "cell_type": "markdown",
   "metadata": {},
   "source": [
    "5    A **bit shift** is a procedure whereby the bits in a bit string are moved to the left or to the right. For example, we can shift the bits in the string **1011** two places to the left to produce the string **1110**. Note that the leftmost two bits are wrapped around to the right side of the string in this operation. Define two functions, **shiftLeft** and **shiftRight**, that expect a bit string as an input. The function **shiftLeft** shifts the bits in its input one place to the left, wrapping the leftmost bit to the rightmost position. The function **shiftRight** performs the inverse operation. Each function returns the resulting string.\n"
   ]
  },
  {
   "cell_type": "code",
   "execution_count": 7,
   "metadata": {},
   "outputs": [
    {
     "name": "stdout",
     "output_type": "stream",
     "text": [
      "Shift Left\n",
      "001111\n",
      "10\n",
      "1\n",
      "\n",
      "Shift Right\n",
      "100111\n",
      "01\n",
      "1\n"
     ]
    }
   ],
   "source": [
    "def shiftLeft(aString):\n",
    "# Shifts the input string one place to the left\n",
    "# The leftmost bit wraps around to the rightmost position\n",
    "    hold = aString[0]\n",
    "    aString = aString[1:] + hold\n",
    "    return aString\n",
    "\n",
    "\n",
    "    \n",
    "def shiftRight(aString):\n",
    "# Shifts the input string one place to the right\n",
    "# The rightmost bit wraps around to the leftmost position \n",
    "    hold = aString[-1]\n",
    "    aString = hold + aString[:-1]\n",
    "    return aString\n",
    "\n",
    " \n",
    "\n",
    "def main():\n",
    "    # Tests the shift left function\n",
    "    print ('Shift Left')\n",
    "    print(shiftLeft(\"100111\"))   # \"001111\"\n",
    "    print(shiftLeft(\"01\"))     # \"10\"\n",
    "    print(shiftLeft(\"1\"))      # \"1\"\n",
    "    \n",
    "    print ()\n",
    "    \n",
    "    print ('Shift Right')\n",
    "    # Tests the shift right function\n",
    "    print(shiftRight(\"001111\"))  # \"100111\"\n",
    "    print(shiftRight(\"10\"))    # \"01\"\n",
    "    print(shiftRight(\"1\"))     # \"1\"\n",
    "\n",
    "main()\n",
    "\n",
    "\n",
    "\n",
    "\n"
   ]
  },
  {
   "cell_type": "markdown",
   "metadata": {},
   "source": [
    "6\tUse the strategy of the decimal to binary conversion and the bit shift left operation defined in question 5 to code an encryption algorithm. The algorithm should add 1 to each character’s numeric ASCII value, convert it to a bit string, and shift the bits of this string one place to the left. A single space character in the encrypted string separates the resulting bit strings."
   ]
  },
  {
   "cell_type": "code",
   "execution_count": 37,
   "metadata": {},
   "outputs": [
    {
     "name": "stdout",
     "output_type": "stream",
     "text": [
      "Encrypted is:  1010011 1001101 1011011 1011011 1100001\n"
     ]
    }
   ],
   "source": [
    "def shiftLeft(aString):\n",
    "# Shifts the input string one place to the left\n",
    "# The leftmost bit wraps around to the rightmost position\n",
    "    hold = aString[0]\n",
    "    aString = aString[1:] + hold\n",
    "    return aString\n",
    "\n",
    "\n",
    "\n",
    "def encrypt(string):\n",
    "    new = []\n",
    "    out = []\n",
    "    res = ''\n",
    "    # Add 1 to each character ASCII value\n",
    "    for i in string:\n",
    "        add = str(ord(i) + 1)\n",
    "        new.append(add)\n",
    "\n",
    "    for i in new:\n",
    "         out.append(t2b(i,2))\n",
    "    new.clear()\n",
    "\n",
    "    for i in out:\n",
    "        new.append(shiftLeft(i))\n",
    "\n",
    "    for i in new:\n",
    "        res = res + ' ' + i\n",
    "\n",
    "    return res\n",
    "\n",
    "print(\"Encrypted is:\",encrypt('hello'))"
   ]
  },
  {
   "cell_type": "code",
   "execution_count": 8,
   "outputs": [],
   "source": [],
   "metadata": {
    "collapsed": false,
    "pycharm": {
     "name": "#%%\n"
    }
   }
  }
 ],
 "metadata": {
  "kernelspec": {
   "display_name": "Python 3",
   "language": "python",
   "name": "python3"
  },
  "language_info": {
   "codemirror_mode": {
    "name": "ipython",
    "version": 3
   },
   "file_extension": ".py",
   "mimetype": "text/x-python",
   "name": "python",
   "nbconvert_exporter": "python",
   "pygments_lexer": "ipython3",
   "version": "3.8.8"
  }
 },
 "nbformat": 4,
 "nbformat_minor": 2
}