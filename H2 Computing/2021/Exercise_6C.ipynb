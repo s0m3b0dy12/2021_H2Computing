{
 "cells": [
  {
   "cell_type": "markdown",
   "metadata": {},
   "source": [
    "A librarian wishes to keep records of the books held in the library. Each book has the following data recorded:\n",
    "\n",
    "* **CatalogueNo** is used to identify a particular book and is five digits\n",
    "* **Title** represents the title of the book and is at most 25 characters\n",
    "* **Format** is a single character and is used to indicate whether the book is of standard size(```S```) or  paperback (```P```)\n",
    "\n",
    "Write a program to allow the user to enter and store data into a text file named **books.txt**. The file has the following structure:\n",
    "```\n",
    "<NumberOfBooks>\n",
    "<CatalogueNo><Title><Format>\n",
    "<CatalogueNO><Title><Format>\n",
    "............................\n",
    "<CatalogueNO><Title><Format>\n",
    "```\n",
    "**NumberOfBooks** is the number of books in the file e.g. ```3```.\n",
    "\n",
    "\n",
    "Here is a sample of **books.txt**\n",
    "\n",
    "`\n",
    "3\n",
    "20200*Python Workbook*S\n",
    "20223*Practical Progamming*P\n",
    "20210*The Mega Pioneers*S\n",
    "`\n"
   ]
  },
  {
   "cell_type": "code",
   "execution_count": null,
   "metadata": {},
   "outputs": [],
   "source": []
  }
 ],
 "metadata": {
  "kernelspec": {
   "display_name": "Python 3",
   "language": "python",
   "name": "python3"
  },
  "language_info": {
   "codemirror_mode": {
    "name": "ipython",
    "version": 3
   },
   "file_extension": ".py",
   "mimetype": "text/x-python",
   "name": "python",
   "nbconvert_exporter": "python",
   "pygments_lexer": "ipython3",
   "version": "3.6.4"
  }
 },
 "nbformat": 4,
 "nbformat_minor": 2
}
