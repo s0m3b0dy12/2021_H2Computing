{
 "cells": [
  {
   "cell_type": "markdown",
   "metadata": {},
   "source": [
    "1  Write a function that takes three numbers as parameters, and returns the median value of those parameters as its result. Include a main program that reads three values from the user and displays their median.  \n",
    "Hint: The median value is the middle of the three values when they are sorted into ascending order.\n"
   ]
  },
  {
   "cell_type": "code",
   "execution_count": 5,
   "metadata": {},
   "outputs": [
    {
     "name": "stdout",
     "output_type": "stream",
     "text": [
      "[5, 7, 3]\n",
      "[3, 5, 7]\n",
      "The median of the 3 values is  5\n"
     ]
    }
   ],
   "source": [
    "def sort(a,b,c):\n",
    "    values = [a,b,c]\n",
    "    values.sort()\n",
    "    return values[1]\n",
    "\n",
    "def main():\n",
    "    num = input(\"Key in 3 numbers separated by a comma: \")\n",
    "    num = num.split(\",\")\n",
    "    num1 = int(num[0])\n",
    "    num2 = int(num[1])\n",
    "    num3 = int(num[2])\n",
    "    med = sort(num1,num2,num3)\n",
    "    print(\"The median of the 3 values is \", med)\n",
    "\n",
    "main()"
   ]
  },
  {
   "cell_type": "markdown",
   "metadata": {},
   "source": [
    "2 Write a function that takes a string of characters as its first parameter, and the width of the terminal in characters as its second parameter. Your function should return a new string that consists of the original string and the correct number of leading spaces so that the original string will appear centered within the provided width when it is printed. Do not add any characters to the end of the string. Include a main program that demonstrates your function. "
   ]
  },
  {
   "cell_type": "code",
   "execution_count": 13,
   "metadata": {},
   "outputs": [
    {
     "name": "stdout",
     "output_type": "stream",
     "text": [
      "            hello            \n",
      "            weeee            \n",
      "            tries            \n",
      "            centre            \n",
      "          Chapter 1           \n",
      "      is this centered?      \n"
     ]
    }
   ],
   "source": [
    "def center(char, width):\n",
    "    length = len(char)\n",
    "    if length == width:\n",
    "        return char \n",
    "    else:\n",
    "        space = ((width - length) // 2) * ' '\n",
    "        return (space + char + space)\n",
    "\n",
    "def main(): \n",
    "    width = 30\n",
    "    string = input(\"Insert a string that has a maximum of 30 characters: \")\n",
    "    while string != '':\n",
    "        print(center(string,width))\n",
    "        string = input(\"Insert a string that has a maximum of 30 characters: \")\n",
    "        \n",
    "\n",
    "main()"
   ]
  },
  {
   "cell_type": "markdown",
   "metadata": {},
   "source": [
    "3 Write a function that generates a random password. The password should have a random length of between 7 to 10 characters. Each character should be randomly selected from position 33 to 126 in the ASCII table. Your function will not take any parameters. It will return the randomly generated password as its only result. Display the randomly generated password in the main program.  "
   ]
  },
  {
   "cell_type": "code",
   "execution_count": 11,
   "metadata": {},
   "outputs": [
    {
     "name": "stdout",
     "output_type": "stream",
     "text": [
      "S*hYg!P{0H is your randomly generated password\n"
     ]
    }
   ],
   "source": [
    "import random\n",
    "\n",
    "minLen = 7\n",
    "maxLen = 10\n",
    "minACSII = 33\n",
    "maxACSII = 126\n",
    "\n",
    "def main(): \n",
    "  randomLen = random.randint(minLen, maxLen)\n",
    "  password = \"\"\n",
    "  for i in range(randomLen):\n",
    "    randomAscii = random.randint(minACSII, maxACSII)\n",
    "    randomChar = chr(randomAscii)\n",
    "    password = password + randomChar\n",
    "\n",
    "  print(f\"{password} is your randomly generated password\")\n",
    "\n",
    "\n",
    "main()"
   ]
  },
  {
   "cell_type": "markdown",
   "metadata": {},
   "source": [
    "4 Write a function that determines whether or not a password is good. A good password is a one that is at least 8 characters long and contains at least one uppercase letter, at least one lowrcase letter, and at least one digit. Your function should return True if the password passed to it as its only parametere is good. Otherwise it should return False. Include a main program that reads a password from the user and reports whether or not it is a good. \n"
   ]
  },
  {
   "cell_type": "code",
   "execution_count": 22,
   "metadata": {},
   "outputs": [
    {
     "name": "stdout",
     "output_type": "stream",
     "text": [
      "The password is a good password\n"
     ]
    }
   ],
   "source": [
    "def check(passw):\n",
    "    long = False\n",
    "    up = False\n",
    "    low = False\n",
    "    dig = False\n",
    "\n",
    "    if len(passw) >= 8: \n",
    "        long = True\n",
    "\n",
    "    for i in passw:\n",
    "        if i.isupper() == True:\n",
    "            up = True\n",
    "        if i.islower() == True:\n",
    "            low = True\n",
    "        if i.isdigit() == True:\n",
    "            dig = True\n",
    "    \n",
    "    if long == True and up == True and low == True and dig == True:\n",
    "        return True\n",
    "    else:\n",
    "        return False\n",
    "\n",
    "def main():\n",
    "    passw = input(\"Input a password: \")\n",
    "    good = check(passw)\n",
    "    if good == True:\n",
    "        print(\"The password is a good password\")\n",
    "    else:\n",
    "        print(\"The password is a bad password\")\n",
    "            \n",
    "main()"
   ]
  },
  {
   "cell_type": "markdown",
   "metadata": {},
   "source": [
    "5(a) A prime number is an integer greater than 1 that is only divisible by one and itself. Write a function named **isPrime** that determines whether or not its parameter is prime, returning True if it is, and False otherwise. Write a main program that reads an integer from the user and displays a message indicating whether or not it is prime.  \n"
   ]
  },
  {
   "cell_type": "code",
   "execution_count": null,
   "metadata": {},
   "outputs": [],
   "source": [
    "def isPrime(num):\n",
    "  # determines whether parameter is prime\n",
    "  if num == 2:\n",
    "    return True\n",
    "  elif num < 2 or num % 2 == 0:\n",
    "    return False\n",
    "  else:\n",
    "    i = 3\n",
    "    while i < num:\n",
    "      if num % i == 0:\n",
    "       return False\n",
    "      else: \n",
    "        i = i + 2\n",
    "    return True\n",
    "\n",
    "def main():\n",
    "  # reads integer from user and tells user whether or not number is prime\n",
    "  num = int(input(\"Input a number: \"))\n",
    "  if isPrime(num) == True:\n",
    "    print(num, \"is a prime number\")\n",
    "  else: \n",
    "    print(num, \"This number is not a prime number\")\n",
    "\n",
    "\n",
    "main()"
   ]
  },
  {
   "cell_type": "markdown",
   "metadata": {},
   "source": [
    "5(b) Write another program that dispalys all the prime numbers from 1 through 100. The program should have a loop that calls the **isPrime** function in 5(a).\n"
   ]
  },
  {
   "cell_type": "code",
   "execution_count": null,
   "metadata": {},
   "outputs": [],
   "source": [
    "def main():\n",
    "  for num in range(1, 100+1):\n",
    "        if isPrime(num):\n",
    "            print (num, end = ' ')\n",
    "\n",
    "main()"
   ]
  },
  {
   "cell_type": "markdown",
   "metadata": {},
   "source": [
    "5(c) Modify the program in 5(b) so that it will print out the first 20 prime numbers.\n"
   ]
  },
  {
   "cell_type": "code",
   "execution_count": null,
   "metadata": {},
   "outputs": [],
   "source": [
    "def main():\n",
    "    print (\"The first 20 prime numbers:\", end = \" \")   \n",
    "    num = 1\n",
    "    count = 0   \n",
    "    while count < 20:\n",
    "        if isPrime(num):\n",
    "            print (num, end = ' ')\n",
    "            count = count + 1   \n",
    "        num = num + 1\n",
    "\n",
    "main()"
   ]
  }
 ],
 "metadata": {
  "kernelspec": {
   "display_name": "Python 3",
   "language": "python",
   "name": "python3"
  },
  "language_info": {
   "codemirror_mode": {
    "name": "ipython",
    "version": 3
   },
   "file_extension": ".py",
   "mimetype": "text/x-python",
   "name": "python",
   "nbconvert_exporter": "python",
   "pygments_lexer": "ipython3",
   "version": "3.6.4"
  }
 },
 "nbformat": 4,
 "nbformat_minor": 2
}
