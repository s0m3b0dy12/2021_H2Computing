{
 "cells": [
  {
   "cell_type": "markdown",
   "metadata": {},
   "source": [
    "1 When buying software, the purchaser is issued with a licence key. The licence key is a 10 character code, **CCCCCCCCCD**. \n",
    "  \n",
    "* **C** = a randomly generated upper-case letter\n",
    "* **D** = a check digit character calculated from the preceding nine letters. \n",
    "\n",
    "An example licence key is produced as follows:\n",
    "* randomly generated letters:  **FGKWRDFTA**\n",
    "* a set of products is calculated as shown:\n",
    "```\n",
    "|Generated code|ASCII code|Multiplier|Product|\n",
    "|--------------|----------|----------|-------|\n",
    "|      F       |    70    |     1    |   70  |\n",
    "|      G       |    71    |     2    |  142  |\n",
    "|      K       |    75    |     3    |  225  |\n",
    "|      W       |    87    |     4    |  348  |\n",
    "|      R       |    82    |     5    |  410  |\n",
    "|      D       |    68    |     6    |  408  |\n",
    "|      F       |    70    |     7    |  490  |\n",
    "|      T       |    84    |     8    |  672  |\n",
    "|      A       |    65    |     9    |  585  |```\n",
    "\n",
    "* Then the total of the products is calulated, which is 3350\n",
    "* The total 3350 is then divided by 11 to give remainder 6,which becomes the check digit character.\n",
    "* This gives the complete licence key:  **FGKWRDFTA6**\n",
    "* If the calculation gives remainder 10, the check digit character used is **X**.\n",
    "\n",
    "Write program code to implement a function **LicenceKey** to generate a new licence key.\n",
    "Test the function for 3 new licence keys."
   ]
  },
  {
   "cell_type": "code",
   "execution_count": null,
   "metadata": {},
   "outputs": [],
   "source": []
  },
  {
   "cell_type": "markdown",
   "metadata": {},
   "source": [
    "2  Write program code for the  __CheckDigit__ function using the following specification:\n",
    "\n",
    "  **FUNCTION CheckDigit (NRIC: STRING) RETURNS CHAR**\n",
    "                          \n",
    "The function has a single string parameter __NRIC__ and  returns  the check digit as an alphabet for the Singapore NRIC (starts with S or T) / FIN number (starts with G or F).\n",
    "\n",
    "The following is the check digits generation algorithm for the Singapore NRIC / FIN number:\n",
    "\n",
    "1.\tTake for example you want to test the NRIC number S8300130. The first digit you multiply by 2, second multiply by 7, third by 6, fourth by 5, fifth by 4, sixth by 3, seventh by 2. Then you add the totals together.\n",
    "\n",
    "           So, 8*2 + 3*7 + 0*6 + 0*5 + 1*4 + 3*3 + 0*2 = 50\n",
    "\n",
    "2.\tIf the first letter of the NRIC starts with T or G, add 4 to the total.\n",
    "\n",
    "3.\tThen you divide the total by 11 and get the remainder:  50 / 11 =  4 r 6\n",
    "\n",
    "4.\tSubtract the remainder by 11 to give the check digit:   11 – 6 = 5\n",
    "\n",
    "5.\tConvert the check digit to the corresponding alphabet\n",
    "\n",
    "If the IC starts with S or T\n",
    "\n",
    "```Check Digit\t1\t2\t3\t4\t5\t6\t7\t8\t9\t10\t11```\n",
    "\n",
    "```Alphabet  \t A\tB\tC\tD\tE\tF\tG\tH\tI\tZ\tJ```\n",
    "\n",
    "  If the IC starts with F or G:\n",
    "\n",
    "```Check Digit  1   2   3   4   5   6   7   8   9  10  11```\n",
    "\n",
    "```Alphabet     K   L   M   N   P   Q   R   T   U   W   X```        \n",
    "\n",
    "\n",
    "Therefore, the complete NRIC number is S8300130**E**\n"
   ]
  },
  {
   "cell_type": "code",
   "execution_count": null,
   "metadata": {},
   "outputs": [],
   "source": [
    "def CheckDigit(NRIC):    \n",
    "    .\n",
    "    .\n",
    "    .\n",
    "    \n",
    "    \n",
    "    \n",
    "    \n",
    "    \n",
    "    \n",
    "    \n",
    "    \n",
    "    \n",
    "\n",
    "\n",
    "def main():\n",
    "    # Tests the CheckDigit function\n",
    "    \n",
    "    print (CheckDigit(\"S8300130\"))   #E\n",
    "    print (CheckDigit(\"G1442755\"))   #X\n",
    "    print (CheckDigit(\"T0028211\"))   #H\n",
    "\n",
    "main()"
   ]
  }
 ],
 "metadata": {
  "kernelspec": {
   "display_name": "Python 3",
   "language": "python",
   "name": "python3"
  },
  "language_info": {
   "codemirror_mode": {
    "name": "ipython",
    "version": 3
   },
   "file_extension": ".py",
   "mimetype": "text/x-python",
   "name": "python",
   "nbconvert_exporter": "python",
   "pygments_lexer": "ipython3",
   "version": "3.6.4"
  }
 },
 "nbformat": 4,
 "nbformat_minor": 2
}
