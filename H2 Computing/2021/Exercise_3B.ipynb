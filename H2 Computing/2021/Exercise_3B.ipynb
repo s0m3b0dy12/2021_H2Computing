{
 "cells": [
  {
   "cell_type": "markdown",
   "metadata": {},
   "source": [
    "1. Write a program that reads an integer from the user. Then your program should display a message indicating whether the integer is even or odd.\n"
   ]
  },
  {
   "cell_type": "code",
   "execution_count": null,
   "metadata": {},
   "outputs": [],
   "source": []
  },
  {
   "cell_type": "markdown",
   "metadata": {},
   "source": [
    "2. Create a program that reads a letter of the alphabet from the user. It the user enters *__a__*, *__e__*, *__i__*, *__o__* or *__u__* then your program should display a message indicating that the entered letter is a vowel. If the user enters *__y__* then your program should display a message indicating that sometimes y is a vowel, and sometimes y is a consonant. Otherwise your program should display a message indicating that the letter is a consonant.  "
   ]
  },
  {
   "cell_type": "code",
   "execution_count": null,
   "metadata": {},
   "outputs": [],
   "source": []
  },
  {
   "cell_type": "markdown",
   "metadata": {},
   "source": [
    "3    The rules for determining whether or not a year is a leap year follows:\n",
    "* Any year that is divisible by 400 is a leap year\n",
    "* Of the remaining years, any year that is divisible by 100 is **not** a leap year\n",
    "3. Of the remaining years, any year that is divisible by 4 is a leap year\n",
    "4. All other years are **not** leap years.\n",
    "\n",
    "Write a program that reads a year from the user and displays a message indicating whether or not it is a leap year."
   ]
  },
  {
   "cell_type": "code",
   "execution_count": null,
   "metadata": {},
   "outputs": [],
   "source": []
  },
  {
   "cell_type": "markdown",
   "metadata": {},
   "source": [
    "4. Write a program with a loop that asks user to enter a series of positive numbers. The user should enter a negative number to signal the end of the series. After all the positive numbers have been entered, the program should display their sum."
   ]
  },
  {
   "cell_type": "code",
   "execution_count": null,
   "metadata": {},
   "outputs": [],
   "source": []
  },
  {
   "cell_type": "markdown",
   "metadata": {},
   "source": [
    "5. A zoo determines the price of admission based on the age of the guest. Guests 2 years of age and less are admitted without charge. Children between 3 and 12 years of age cost `$`14.00. Seniors aged 65 years and over cost `$`18.00. Admission for all other guests is `$`23.00. Write a progam that begins by reading the ages of all of the guests in a group from the user, with one age entered on each line. The user will enter a blank line to indicate that there are no more guests in the group. Then your program should display the admission cost for the group. The cost should be displayed using two decimal places."
   ]
  },
  {
   "cell_type": "code",
   "execution_count": null,
   "metadata": {},
   "outputs": [],
   "source": []
  },
  {
   "cell_type": "markdown",
   "metadata": {},
   "source": [
    "6    The greatest common divisor of two positive integers, *__n__* and *__m__*, is the largest number, *__d__*, which divides evenly into both *__n__* and *__m__*. There are several algorithms that can be used to solve this problem, including:\n",
    "\n",
    "* Initialize *__d__* to the smaller of *__m__* and *__n__*.\n",
    "* **While** *__d__* does not evenly divide *__m__* or *__d__* does not evenly divide *__n__* __do__\n",
    "    * Decrease the value of *__d__* by 1\n",
    "* Report *__d__* as the greatest common divisor of *__n__* and *__m__*\n",
    "    "
   ]
  },
  {
   "cell_type": "code",
   "execution_count": null,
   "metadata": {},
   "outputs": [],
   "source": []
  }
 ],
 "metadata": {
  "kernelspec": {
   "display_name": "Python 3",
   "language": "python",
   "name": "python3"
  },
  "language_info": {
   "codemirror_mode": {
    "name": "ipython",
    "version": 3
   },
   "file_extension": ".py",
   "mimetype": "text/x-python",
   "name": "python",
   "nbconvert_exporter": "python",
   "pygments_lexer": "ipython3",
   "version": "3.6.4"
  }
 },
 "nbformat": 4,
 "nbformat_minor": 2
}
