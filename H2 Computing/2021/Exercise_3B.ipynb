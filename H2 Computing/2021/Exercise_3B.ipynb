{
 "cells": [
  {
   "cell_type": "markdown",
   "metadata": {},
   "source": [
    "1. Write a program that reads an integer from the user. Then your program should display a message indicating whether the integer is even or odd.\n"
   ]
  },
  {
   "cell_type": "code",
   "execution_count": 13,
   "metadata": {},
   "outputs": [
    {
     "name": "stdout",
     "output_type": "stream",
     "text": [
      "The number is an even number\n"
     ]
    }
   ],
   "source": [
    "num = int(input(\"Enter an integer: \"))\n",
    "if (num % 2 == 0):\n",
    "    print(\"The number is an even number\")\n",
    "else:\n",
    "    print(\"The number is an odd number\")"
   ]
  },
  {
   "cell_type": "markdown",
   "metadata": {},
   "source": [
    "2. Create a program that reads a letter of the alphabet from the user. It the user enters *__a__*, *__e__*, *__i__*, *__o__* or *__u__* then your program should display a message indicating that the entered letter is a vowel. If the user enters *__y__* then your program should display a message indicating that sometimes y is a vowel, and sometimes y is a consonant. Otherwise your program should display a message indicating that the letter is a consonant.  "
   ]
  },
  {
   "cell_type": "code",
   "execution_count": 14,
   "metadata": {},
   "outputs": [
    {
     "name": "stdout",
     "output_type": "stream",
     "text": [
      "The letter entered is a vowel\n"
     ]
    }
   ],
   "source": [
    "key = input(\"Enter an alphabet from the user\")\n",
    "\n",
    "if key in 'aeiou':\n",
    "    print(\"The letter entered is a vowel\")\n",
    "elif key == 'y':\n",
    "    print(\"The letter is sometimes a vowel and sometimes a consonant\")\n",
    "else:\n",
    "    print(\"The letter entered is a consonant\")\n"
   ]
  },
  {
   "cell_type": "markdown",
   "metadata": {},
   "source": [
    "3    The rules for determining whether or not a year is a leap year follows:\n",
    "* Any year that is divisible by 400 is a leap year\n",
    "* Of the remaining years, any year that is divisible by 100 is **not** a leap year\n",
    "3. Of the remaining years, any year that is divisible by 4 is a leap year\n",
    "4. All other years are **not** leap years.\n",
    "\n",
    "Write a program that reads a year from the user and displays a message indicating whether or not it is a leap year."
   ]
  },
  {
   "cell_type": "code",
   "execution_count": 15,
   "metadata": {},
   "outputs": [
    {
     "name": "stdout",
     "output_type": "stream",
     "text": [
      "Year keyed in is:  2000\n",
      "Leap year\n"
     ]
    }
   ],
   "source": [
    "year = int(input(\"Key in a year: \"))\n",
    "print(\"Year keyed in is: \", year)\n",
    "\n",
    "if year % 400 == 0:\n",
    "    print(\"Leap year\")\n",
    "elif year % 100 == 0:\n",
    "    print(\"Not leap year\")\n",
    "elif year % 4 == 0:\n",
    "    print(\"Leap year\")\n",
    "else:\n",
    "    print(\"Not leap year\")\n",
    "\n"
   ]
  },
  {
   "cell_type": "markdown",
   "metadata": {},
   "source": [
    "4. Write a program with a loop that asks user to enter a series of positive numbers. The user should enter a negative number to signal the end of the series. After all the positive numbers have been entered, the program should display their sum."
   ]
  },
  {
   "cell_type": "code",
   "execution_count": 17,
   "metadata": {},
   "outputs": [
    {
     "name": "stdout",
     "output_type": "stream",
     "text": [
      "Sum of the numbers entered is:  45\n"
     ]
    }
   ],
   "source": [
    "mum = 0\n",
    "sum = 0\n",
    "\n",
    "num = int(input(\"Key in a positive number: \"))\n",
    "\n",
    "while num >= 0:\n",
    "    sum = sum + num\n",
    "    num = int(input(\"Key in a positive number or enter a negative number to stop the program: \"))\n",
    "\n",
    "print(\"Sum of the numbers entered is: \", sum)"
   ]
  },
  {
   "cell_type": "markdown",
   "metadata": {},
   "source": [
    "5. A zoo determines the price of admission based on the age of the guest. Guests 2 years of age and less are admitted without charge. Children between 3 and 12 years of age cost `$`14.00. Seniors aged 65 years and over cost `$`18.00. Admission for all other guests is `$`23.00. Write a progam that begins by reading the ages of all of the guests in a group from the user, with one age entered on each line. The user will enter a blank line to indicate that there are no more guests in the group. Then your program should display the admission cost for the group. The cost should be displayed using two decimal places."
   ]
  },
  {
   "cell_type": "code",
   "execution_count": 44,
   "metadata": {},
   "outputs": [
    {
     "name": "stdout",
     "output_type": "stream",
     "text": [
      "The total price for admission tickets to the zoo is 37.00\n"
     ]
    }
   ],
   "source": [
    "# To determine the total price of admission to the zoo\n",
    "baby_agelim = range(0, 3)\n",
    "child_agelim = range(3, 13)\n",
    "adult_agelim = range(13, 65)\n",
    "\n",
    "total = 0\n",
    "age = input(\"Enter the age of the guest, press enter to end: \")\n",
    "\n",
    "while age != '':\n",
    "    if int(age) in baby_agelim:\n",
    "        total = total \n",
    "    elif int(age) in child_agelim:\n",
    "        total = total + 14\n",
    "    elif int(age) in adult_agelim: \n",
    "        total = total + 23\n",
    "    else: \n",
    "        total = total + 18\n",
    "        \n",
    "    age = input(\"Enter the age of the guest, press enter to end: \")\n",
    "        \n",
    "print(f\"The total price for admission tickets to the zoo is {total:.2f}\")\n"
   ]
  },
  {
   "cell_type": "markdown",
   "metadata": {},
   "source": [
    "6    The greatest common divisor of two positive integers, *__n__* and *__m__*, is the largest number, *__d__*, which divides evenly into both *__n__* and *__m__*. There are several algorithms that can be used to solve this problem, including:\n",
    "\n",
    "* Initialize *__d__* to the smaller of *__m__* and *__n__*.\n",
    "* **While** *__d__* does not evenly divide *__m__* or *__d__* does not evenly divide *__n__* __do__\n",
    "    * Decrease the value of *__d__* by 1\n",
    "* Report *__d__* as the greatest common divisor of *__n__* and *__m__*\n",
    "    "
   ]
  },
  {
   "cell_type": "code",
   "execution_count": 43,
   "metadata": {},
   "outputs": [
    {
     "name": "stdout",
     "output_type": "stream",
     "text": [
      "The greatest common divisor of 60 and 40 is 20\n"
     ]
    }
   ],
   "source": [
    "# Find the greatest common denominator of 2 integers\n",
    "\n",
    "n = int(input(\"Input your first number\"))\n",
    "m = int(input(\"Input your second number\"))\n",
    "\n",
    "d = min(n, m)\n",
    "\n",
    "while (n % d != 0) or (m % d != 0):\n",
    "    d = d - 1\n",
    "    \n",
    "print(f\"The greatest common divisor of {n} and {m} is {d}\")"
   ]
  }
 ],
 "metadata": {
  "interpreter": {
   "hash": "f7291e4b392a32fbfa525b87d1bbd0a3d888adf3d0deca0c205c61b9e7284b82"
  },
  "kernelspec": {
   "display_name": "Python 3.6.4 64-bit",
   "name": "python3"
  },
  "language_info": {
   "codemirror_mode": {
    "name": "ipython",
    "version": 3
   },
   "file_extension": ".py",
   "mimetype": "text/x-python",
   "name": "python",
   "nbconvert_exporter": "python",
   "pygments_lexer": "ipython3",
   "version": "3.6.4"
  }
 },
 "nbformat": 4,
 "nbformat_minor": 2
}
