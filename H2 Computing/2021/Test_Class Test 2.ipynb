{
 "cells": [
  {
   "cell_type": "markdown",
   "metadata": {},
   "source": [
    "####           Class Test 2\n",
    "\n",
    "```\n",
    "Date: May 2021 \n",
    "Total marks: 20 \n",
    "Duration: 60 mins\n",
    "\n",
    "```\n"
   ]
  },
  {
   "cell_type": "markdown",
   "metadata": {},
   "source": [
    "1(a) Write program code to:\n",
    "\n",
    "• prompt the user to enter a single letter\n",
    "\n",
    "• read a character from the keyboard\n",
    "\n",
    "• test that it is a single letter in the ranges A-Z or a-z\n",
    "\n",
    "• display the character if it is in the correct range\n",
    "\n",
    "• or display a suitable error message and allow the user to input the character again.   \n",
    "\n",
    "[4]\n",
    "\n",
    "\n",
    "Test your program with the test data:\n",
    "\n",
    "**A**\n",
    "\n",
    "**z**\n",
    "\n",
    "**=**                                                                        \n",
    "\n",
    "[2]\n"
   ]
  },
  {
   "cell_type": "code",
   "execution_count": null,
   "metadata": {},
   "outputs": [],
   "source": []
  },
  {
   "cell_type": "markdown",
   "metadata": {},
   "source": [
    "1(b) Write program code to:\n",
    "\n",
    "•\tinput a single letter\n",
    "\n",
    "•\tinput a number base and check that it is greater than 10 and less than 14\n",
    "\n",
    "•\tdisplay the ASCII value of the letter in denary\n",
    "\n",
    "•\tconvert the ASCII value to the number base input\n",
    "\n",
    "•\tdisplay the letter and both its values.\n",
    "\n",
    "Your screen display should look like this:\n",
    "           \n",
    "\t  Letter\t        A\n",
    "      Denary\t\t    65\n",
    "\t  Number Base 11\t5A\n",
    "[5] \n",
    "\n",
    "Test your program with the following test data: \n",
    "\n",
    "   __A__ and number base **11**\n",
    "   \n",
    "   __z__ and number base **13**\n",
    "\n",
    "[2]"
   ]
  },
  {
   "cell_type": "code",
   "execution_count": null,
   "metadata": {},
   "outputs": [],
   "source": []
  },
  {
   "cell_type": "markdown",
   "metadata": {},
   "source": [
    "1(c)  Extend your program to display a menu showing the conversions available, and allow the user to choose the conversion. Your menu should look like this:\n",
    "\n",
    "     ```\n",
    "     1   Enter a letter\n",
    "     2   Convert to Base 11\n",
    "     3   Convert to Base 12\n",
    "     4   Convert to Base 13\n",
    "     5   End\n",
    "     ```\n",
    "  \n",
    "[4]\n",
    "\n",
    "Test your program with the following test data:\n",
    "\n",
    "  __G__\n",
    "  \n",
    "  __Convert to Base 12__\n",
    "\n",
    "  **Convert to Base 13**\n",
    "  \n",
    "  **End** \n",
    "\n",
    "[3]\n"
   ]
  },
  {
   "cell_type": "code",
   "execution_count": null,
   "metadata": {},
   "outputs": [],
   "source": []
  }
 ],
 "metadata": {
  "kernelspec": {
   "display_name": "Python 3",
   "language": "python",
   "name": "python3"
  },
  "language_info": {
   "codemirror_mode": {
    "name": "ipython",
    "version": 3
   },
   "file_extension": ".py",
   "mimetype": "text/x-python",
   "name": "python",
   "nbconvert_exporter": "python",
   "pygments_lexer": "ipython3",
   "version": "3.6.4"
  }
 },
 "nbformat": 4,
 "nbformat_minor": 2
}
