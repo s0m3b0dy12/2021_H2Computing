{
 "cells": [
  {
   "cell_type": "markdown",
   "metadata": {},
   "source": [
    "1 Design a function that uses recursion to raise a number to a power. The function should accept two arguments: the number to be raised and the exponent. Assume that the exponent is a nonnegative integer. Include a main program that demonstrates your function. \n"
   ]
  },
  {
   "cell_type": "code",
   "execution_count": 5,
   "metadata": {},
   "outputs": [
    {
     "name": "stdout",
     "output_type": "stream",
     "text": [
      "125\n"
     ]
    }
   ],
   "source": [
    "def power(n,e):\n",
    "    if e == 1:\n",
    "        return n\n",
    "    elif e == 0:\n",
    "        return 1\n",
    "    elif n == 0:\n",
    "        return 0\n",
    "    else: \n",
    "        return n * power(n,e-1)\n",
    "\n",
    "\n",
    "def main():\n",
    "    n = int(input(\"Key in number to be raised\"))\n",
    "    e = int(input(\"Key in exponent\"))\n",
    "    print(power(n,e))\n",
    "\n",
    "main()\n"
   ]
  },
  {
   "cell_type": "markdown",
   "metadata": {},
   "source": [
    "2 Write a recursive function that returns the sum of the numbers from __low__ to __high__, both inclusive. Include a main program that demonstrates your function."
   ]
  },
  {
   "cell_type": "code",
   "execution_count": 8,
   "metadata": {},
   "outputs": [
    {
     "name": "stdout",
     "output_type": "stream",
     "text": [
      "30\n"
     ]
    }
   ],
   "source": [
    "def sum(low, high):\n",
    "    if low == high:\n",
    "        return low\n",
    "    else: \n",
    "        return low + sum(low+1, high)\n",
    "\n",
    "\n",
    "def main():\n",
    "    low = int(input(\"Key in the lowest number to sum from: \"))\n",
    "    high = int(input(\"Key in the highest number to sum until: \"))\n",
    "    print(sum(low, high))\n",
    "\n",
    "\n",
    "main()"
   ]
  }
 ],
 "metadata": {
  "kernelspec": {
   "display_name": "Python 3",
   "language": "python",
   "name": "python3"
  },
  "language_info": {
   "codemirror_mode": {
    "name": "ipython",
    "version": 3
   },
   "file_extension": ".py",
   "mimetype": "text/x-python",
   "name": "python",
   "nbconvert_exporter": "python",
   "pygments_lexer": "ipython3",
   "version": "3.6.4"
  }
 },
 "nbformat": 4,
 "nbformat_minor": 2
}
