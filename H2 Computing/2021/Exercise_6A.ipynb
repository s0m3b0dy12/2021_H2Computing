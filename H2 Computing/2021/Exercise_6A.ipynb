{
 "cells": [
  {
   "cell_type": "markdown",
   "metadata": {},
   "source": [
    "### String Testing Methods\n",
    "\n",
    "The string methods shown below test a string for a specific characteristics.\n",
    "\n",
    "| Method | Description |\n",
    "|:--- | :--- |\n",
    "| isalnum() | Return true if the string contains only alphabetic letters or digits and is at least one character in length. Returns false otherwise. |\n",
    "| isalpha() | Returns true if the string contains only alphabetic letters and is at least one character in length. Return false otherwise.| \n",
    "| isdigit() | Returns true if the string contains only numeric digits and is at least one character in length. Return false otherwise.| \n",
    "| islower() | Return true if all of the alphabetic letters in the string are lowercase, and the string contains at least one alphabetic letter. Returns false otherwise.| \n",
    "| isupper() | Return true if all of the alphabetic letters in the string are uppercase and contains at least one alphabetic letter. Returns false otherwise. | \n",
    "| isspace() | Return true if the string contains only whitespace characters and is at least one character in length. Returns false otherwise.( Whitespace characters are spaces, newlines(\\n), tabs(\\t) | \n",
    "\n"
   ]
  },
  {
   "cell_type": "markdown",
   "metadata": {},
   "source": [
    "### String Modification\n",
    "\n",
    "The string methods shown below return modified versions of themselves.\n",
    "\n",
    "| Method | Description |\n",
    "|:--- | :--- |\n",
    "| lower() |Returns a copy of the string with all the alphabetic letters converted to lowercase.  Any character that is already lowercase, or is not an alphabetic letter, is unchanged.|\n",
    "| upper()|Returns a copy of the string with all the alphabetic letters converted to uppercase.  Any character that is already uppercase, or is not an alphabetic letter, is unchanged.|\n",
    "| lstrip() |Returns a copy of the string with all the __leading whitespace__ characters removed. Leading whitespace characters are spaces, newlines(\\n), tabs(\\t) that appear at the beginning of the string.|\n",
    "| lstrip(_char_) |The _char_ argument is a string containing a character. Returns a copy of the string with all instances of _char_ that appear at the beginning of the string removed.|\n",
    "| rstrip() |Returns a copy of the string with all the __trailing whitespace__ characters removed. Trailing whitespace characters are spaces, newlines(\\n), tabs(\\t) that appear at the end of the string.|\n",
    "| rstrip(_char_) |The _char_ argument is a string containing a character. Returns a copy of the string with all instances of _char_ that appear at the end of the string removed.|\n",
    "| strip() | Returns a copy of the string with all leading and trailing whitespace characters removed.|\n",
    "| strip(_char_) | Returns a copy of the string with all instance of _char_ that appears at the beginning and the end of the string removed.|\n"
   ]
  },
  {
   "cell_type": "markdown",
   "metadata": {},
   "source": [
    "### Searching and Replacing\n",
    "\n",
    "\n",
    "| Method | Description |\n",
    "|:--- | :--- |\n",
    "| startswith(_substring_) |The _substring_ argument is a string.  The method returns true if the string starts with substring.|\n",
    "| endswith(_substring_) |The _substring_ argument is a string.  The method returns true if the string ends with substring.|\n",
    "| find(_substring_ [, _start_ [, _end_]]) | The _substring_ argument is a string.  The method returns the lowest index in the string where substring is found.  If substring is not found, the method returns -1. Optional arguments _start_ and _end_ are interpreted as in slice notation|\n",
    "| replace(_old_, _new_[, _count_]) | The _old_ and _new_ arguments are both strings. The method returns a copy of the string with __all instances__ of _old_ replaced by _new_. If the optional argument _count_ is given, only the first _count_ occurrences are replaced.|\n"
   ]
  },
  {
   "cell_type": "markdown",
   "metadata": {},
   "source": [
    "### Other String Method\n",
    "\n",
    "| Method | Description |\n",
    "|:--- | :--- |\n",
    "| count(_substring_ [, _start_ [, _end_]]) | The _substring_ argument is a string.  The method returns the number of non-overlapping occurrences of substring in the string.  Optional arguments _start_ and _end_ are interpreted as in slice notation.|\n",
    "| split([_sep_]) | Return the list of the words in the string, using _sep_ as the delimiter string. If _sep_ is not specified, any whitespace string is a seperator.\n",
    "\n"
   ]
  },
  {
   "cell_type": "code",
   "execution_count": 12,
   "metadata": {},
   "outputs": [
    {
     "name": "stdout",
     "output_type": "stream",
     "text": [
      "True\n",
      "True\n",
      "2\n",
      "-1\n",
      "cdeftt\n",
      "cdef\n",
      "abc\n",
      "['ab', 'cde', 'fgh']\n",
      "3\n",
      "True\n",
      "ABCD123\n",
      "abcd123\n",
      "False\n",
      "ABCD123\n",
      "True\n"
     ]
    }
   ],
   "source": [
    "print ('aAsd'.isalpha())         # True\n",
    "print ('ee11ed'.isalnum())       # True\n",
    "print ('abcdef'.find('c'))       #  2\n",
    "print ('abcdef'.find('2'))       # -1\n",
    "print ('ttcdeftt'.lstrip('t'))   # 'cdeftt'\n",
    "print ('ttcdeftt'.strip('t'))    # 'cdef'\n",
    "print ('abc\\n'.strip())          # 'abc'\n",
    "print('ab|cde|fgh'.split('|'))   # ['ab', 'ced', 'fgh']\n",
    "print ('abcaae'.count('a'))      # 3\n",
    "print ('  \\n\\t  \\n'.isspace())   # True \n",
    "\n",
    "s = 'abcd123'\n",
    "print (s.upper())                # 'ABCD123'  \n",
    "print (s)                        # 'abcd123' \n",
    "print (s.isupper())              # False\n",
    "\n",
    "s = 'abcd123'\n",
    "s = s.upper()\n",
    "print (s)                        # 'ABCD123'\n",
    "print (s.isupper())              # True"
   ]
  },
  {
   "cell_type": "markdown",
   "metadata": {},
   "source": [
    "1  Write a program that ask the user for a sentence followed by a letter. \n",
    "Display the number of times the letter appears in the sentence.\n"
   ]
  },
  {
   "cell_type": "code",
   "execution_count": 13,
   "metadata": {},
   "outputs": [
    {
     "name": "stdout",
     "output_type": "stream",
     "text": [
      "Sentence is: The quick brown fox jumped over the lazy dog\n",
      "The letter 'o' appeared in the sentence 4 times\n"
     ]
    }
   ],
   "source": [
    "sen = input(\"Key in a sentence: \")\n",
    "key = input(\"Key in a latter: \")\n",
    "num = 0\n",
    "print(f\"Sentence is: {sen}\")\n",
    "\n",
    "sen = sen.lower()\n",
    "key = key.lower()\n",
    "for i in sen:\n",
    "    if i == key:\n",
    "        num+=1\n",
    "\n",
    "\n",
    "print(f\"The letter '{key}' appeared in the sentence {num} times\")"
   ]
  },
  {
   "cell_type": "markdown",
   "metadata": {},
   "source": [
    "2\tThe following algorithm is used to generate system login names for students:\n",
    "\n",
    "1.\tGet the first three characters of the student’s first name. \n",
    "2.\tGet the first three characters of the student’s last name. \n",
    "3.\tGet the last three characters of the student’s ID number. \n",
    "4.\tConcatenate the three sets of characters to generate the login name.\n",
    "\n",
    " For example, if a student’s name is  **Amanda Spencer**, and her ID number is **ENG6721**, her login name would be **AmaSpe721**. Write a function that accepts a student’s first name, last name, and ID number as arguments, and returns the student’s login name as a string. "
   ]
  },
  {
   "cell_type": "code",
   "execution_count": 17,
   "metadata": {},
   "outputs": [
    {
     "name": "stdout",
     "output_type": "stream",
     "text": [
      "Your generated login name is:  AmaSpe721\n"
     ]
    }
   ],
   "source": [
    "def generate(first,last,id):\n",
    "    out = ''\n",
    "    out = first[0].upper() + first[1:3] + last[0].upper() + last[1:3] + id[-3:]\n",
    "    return out\n",
    "\n",
    "def main():\n",
    "    first = input(\"Key in your first name: \")\n",
    "    last = input(\"Key in your last name: \")\n",
    "    id = input(\"Key in your id number: \")\n",
    "    login = generate(first,last,id)\n",
    "    print(\"Your generated login name is: \", login)\n",
    "\n",
    "main()"
   ]
  },
  {
   "cell_type": "markdown",
   "metadata": {},
   "source": [
    "3   At a university, passwords for the campus computer system must meet the following requirements:\n",
    " \n",
    "* The password must be at least seven characters long.\n",
    "* It must contain at least one uppercase.\n",
    "* It must contain at least one lowercase.\n",
    "* It must contain at least one numeric digit.\n",
    "\n",
    "Write a function that accepts the password as an argument and returns either **True** or **False**, to indicate whether it is valid. \n"
   ]
  },
  {
   "cell_type": "code",
   "execution_count": 13,
   "metadata": {},
   "outputs": [
    {
     "name": "stdout",
     "output_type": "stream",
     "text": [
      "True True True True\n",
      "Password is valid\n"
     ]
    }
   ],
   "source": [
    "def valid(key):\n",
    "    long = False\n",
    "    up = False\n",
    "    low = False\n",
    "    dig = False\n",
    "    if len(key) >=7:\n",
    "        long = True\n",
    "    for i in key:\n",
    "        if i.isupper() == True:\n",
    "            up = True\n",
    "        if i.islower() == True:\n",
    "            low = True\n",
    "        if i.isdigit() == True:\n",
    "            dig = True\n",
    "\n",
    "    print(long,up,low,dig)\n",
    "\n",
    "    if long == True and up == True and low == True and dig == True:\n",
    "        return True\n",
    "\n",
    "    else:\n",
    "        return False\n",
    "\n",
    "def main():\n",
    "    if valid(\"Abcde123\") == True:\n",
    "        print(\"Password is valid\")\n",
    "    else:\n",
    "        print(\"Password is not valid\")\n",
    "\n",
    "main()"
   ]
  },
  {
   "cell_type": "markdown",
   "metadata": {
    "collapsed": true
   },
   "source": [
    "4\tWrite a program that accepts as input a sentence in which all of the words are run together but the first character of each word is uppercase. Convert the sentence to a string in which the words are separated by spaces and only the first word starts with an uppercase letter. For example, the string **'StopAndSmellTheRoses.'** would be converted to **'Stop and smell the roses.'**  (Assumes that the input  includes no proper nouns)"
   ]
  },
  {
   "cell_type": "code",
   "execution_count": 14,
   "metadata": {},
   "outputs": [],
   "source": [
    "string = input(\"Please input a sentence in which all the words run together but the first character of everyword is uppercase: \")\n",
    "\n",
    "length = len(string)\n",
    "newStr = \"\"\n",
    "\n",
    "for i in string[1:length+1]:\n",
    "\n",
    "  if \"A\" <= i <= \"Z\":\n",
    "    i = \" \" + i.lower()\n",
    "    newStr = newStr + i\n",
    "\n",
    "  else:\n",
    "    newStr = newStr + i\n",
    "\n",
    "\n",
    "print(f\"{string[0]}{newStr}\")"
   ]
  },
  {
   "cell_type": "markdown",
   "metadata": {},
   "source": [
    "5\tWrite a program with a function that accepts a string as an argument and returns a copy of the string with the first character of each sentence capitalized. For instance, if the argument is  **‘hello! my name is Joe. what is your name?’**. The program should return the string  **‘Hello! My name is Joe. What is your name?’**. The program should let the user enter a string and then pass it to the function. The modified string should be displayed.\n",
    "\n"
   ]
  },
  {
   "cell_type": "code",
   "execution_count": 14,
   "metadata": {},
   "outputs": [],
   "source": [
    "def caps(string): # capitalise\n",
    "  # split the words first\n",
    "  # then for every new word then decide if it should be a capitalised word\n",
    "  # then create a new string with first letter of each sentence capitalised\n",
    "\n",
    "  words = string.split()\n",
    "  nextCapitalise = True\n",
    "  newString = \"\"\n",
    "\n",
    "  for item in words:\n",
    "    if nextCapitalise == True:\n",
    "      newWord = item[0].upper() + item[1:]\n",
    "      newString = newString + \" \" + newWord\n",
    "\n",
    "    else: newString = newString + \" \" + item\n",
    "\n",
    "    if item[-1] in \".?!\":\n",
    "      nextCapitalise = True\n",
    "    else:\n",
    "      nextCapitalise = False\n",
    "\n",
    "  return newString\n",
    "\n",
    "def main():\n",
    "  # Returns a copy of the string w first character of each sentence capitalised\n",
    "\n",
    "  string = input(\"Input a string: \")\n",
    "  result = caps(string)\n",
    "  print(\"It is capitalised as: \", result)\n",
    "\n",
    "\n",
    "main()"
   ]
  }
 ],
 "metadata": {
  "kernelspec": {
   "display_name": "Python 3",
   "language": "python",
   "name": "python3"
  },
  "language_info": {
   "codemirror_mode": {
    "name": "ipython",
    "version": 3
   },
   "file_extension": ".py",
   "mimetype": "text/x-python",
   "name": "python",
   "nbconvert_exporter": "python",
   "pygments_lexer": "ipython3",
   "version": "3.6.4"
  }
 },
 "nbformat": 4,
 "nbformat_minor": 2
}