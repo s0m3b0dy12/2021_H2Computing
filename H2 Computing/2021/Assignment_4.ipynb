{
 "cells": [
  {
   "cell_type": "markdown",
   "metadata": {},
   "source": [
    "1. Design a recursive function that accepts two arguments into the parametrs x and y. The function should return the value of x times y. Remember, multiplication can be performed as repeated addition as follows:\n",
    " \n",
    "                  7 x 4 = 4 + 4 + 4 + 4 + 4 + 4 + 4\n",
    "                  \n",
    "   (To keep the function simple, assume that x and y will always hold positive integers.)"
   ]
  },
  {
   "cell_type": "code",
   "execution_count": 11,
   "metadata": {},
   "outputs": [
    {
     "name": "stdout",
     "output_type": "stream",
     "text": [
      "Product of 5 and 5 is 25\n"
     ]
    }
   ],
   "source": [
    "# Assume that x and y will always hold positive integers\n",
    "\n",
    "def recur(x,y):\n",
    "    # Function is a recurring function that gives the product of x and y\n",
    "    if y == 1:\n",
    "        return x\n",
    "    elif y == 0 or x == 0:\n",
    "        return 0\n",
    "    else:\n",
    "        return x + recur(x, y-1)  # Add x for y times\n",
    "\n",
    "\n",
    "\n",
    "def main():\n",
    "    x = int(input(\"Key in the value of x\"))\n",
    "    y = int(input(\"Key in the value of y\"))\n",
    "    \n",
    "    prod = recur(x,y) # Product of x and y\n",
    "    print(f\"Product of {x} and {y} is {prod}\")\n",
    "\n",
    "\n",
    "main()"
   ]
  },
  {
   "cell_type": "markdown",
   "metadata": {},
   "source": [
    "2. Write a recursive function that accepts an integer argument, n. The function should display n lines of asterisks on the screen, with the first line showing 1 asterisk, the second line showing 2 asterisks, up to the nth line which shows n asterisks."
   ]
  },
  {
   "cell_type": "code",
   "execution_count": 17,
   "metadata": {},
   "outputs": [
    {
     "name": "stdout",
     "output_type": "stream",
     "text": [
      "*\n",
      "**\n",
      "***\n",
      "****\n",
      "*****\n"
     ]
    }
   ],
   "source": [
    "def ast(n):\n",
    "    if n == 1:\n",
    "        print(\"*\")\n",
    "    elif n == 0:\n",
    "        print(\"None\")\n",
    "    else:\n",
    "        ast(n-1)\n",
    "        print(\"*\" * n)\n",
    "\n",
    "\n",
    "ast(5)\n"
   ]
  },
  {
   "cell_type": "markdown",
   "metadata": {},
   "source": [
    "3. Design a function that accepts an integer argument and returns the sum of all the integers from 1 up to the number passed as an argument. For example, if 50 is passed as an argument, the function will return the sum of  1, 2 , 3, . . . ,50. Use recursion to calculate the sum. "
   ]
  },
  {
   "cell_type": "code",
   "execution_count": 20,
   "metadata": {},
   "outputs": [
    {
     "name": "stdout",
     "output_type": "stream",
     "text": [
      "The total of all the integers frm 1 to 9 is 45\n"
     ]
    }
   ],
   "source": [
    "def sum(n):\n",
    "    total = 0\n",
    "    if n == 0:\n",
    "        return 0\n",
    "    else: \n",
    "        total = n + sum(n-1)\n",
    "    return total\n",
    "\n",
    "\n",
    "def main():\n",
    "    n = int(input(\"Key in a number: \"))\n",
    "    total = sum(n)\n",
    "    print(f\"The total of all the integers frm 1 to {n} is {total}\")\n",
    "\n",
    "main()"
   ]
  },
  {
   "cell_type": "markdown",
   "metadata": {},
   "source": [
    "4 Write a menu-driven automatic teller program in which the user’s bank balance is initialized to $1,000.  The user should be allowed to perform as many transactions as he or she wishes from the menu.\n",
    "\n",
    " 1.\tDeposit\n",
    " 2.\tWithdrawal\n",
    " 3.\tSee balance\n",
    " 4.\tQuit\n",
    "\n",
    "For the withdrawal option, the user should be prompted to select from the choices `$50`, \t`$100`, `$200`, and `$500`.  (Do not allow user to overdraw.)  After each transaction, the \tprogram should print the current balance.  On exiting, the program should print a \tcourteous message. In this program, design a function for each option. \n"
   ]
  },
  {
   "cell_type": "code",
   "execution_count": 30,
   "metadata": {},
   "outputs": [
    {
     "name": "stdout",
     "output_type": "stream",
     "text": [
      "Your balance is now 1000\n",
      "Your balance is now 500\n",
      "Your balance is now 0\n",
      "Too little money in the account\n",
      "Your balance is now 0\n",
      "Too little money in the account\n",
      "Your balance is now 500\n",
      "Have a nice day!\n"
     ]
    }
   ],
   "source": [
    "def dep(n):\n",
    "    add = int(input(\"Key in the amount that you would want to deposit: \"))\n",
    "    n = n + add\n",
    "    return n\n",
    "\n",
    "def out(n):\n",
    "    choice = int(input(\"Please choose from one of the following options.\\n(1) $50\\n(2) $100\\n(3) $200\\n(4) $500\"))\n",
    "    hold = n #placeholder digit\n",
    "    if choice == 1:\n",
    "        hold = n - 50\n",
    "        if hold < 0:\n",
    "            print(\"Too little money in the account\")\n",
    "            return n\n",
    "        else:\n",
    "            return n - 50\n",
    "\n",
    "    elif choice == 2:\n",
    "        hold = n - 100\n",
    "        if hold < 0:\n",
    "            print(\"Too little money in the account\")\n",
    "            return n\n",
    "        else:\n",
    "            return n - 100           \n",
    "\n",
    "    elif choice == 3:\n",
    "        hold = n - 200\n",
    "        if hold < 0:\n",
    "            print(\"Too little money in the account\")\n",
    "            return n\n",
    "        else:\n",
    "            return n - 200\n",
    "\n",
    "    elif choice == 4:\n",
    "        hold = n - 500\n",
    "        if hold < 0:\n",
    "            print(\"Too little money in the account\")\n",
    "            return n\n",
    "        else:\n",
    "            return n - 500\n",
    "\n",
    "    elif choice == 5:\n",
    "        choice = int(input(\"Please choose from one of the following options.\\n(1) $50\\n(2) $100\\n(3) $200\\n(4) $500\"))\n",
    "\n",
    "\n",
    "def main():\n",
    "    n = 1000\n",
    "    opt = int(input(\"This is an ATM program. Please select one of the options below.\\n(1) Deposit\\n(2) Withdrawal\\n(3) See balance\\n(4) Quit)\"))\n",
    "    while opt != 4:\n",
    "        if opt == 1:\n",
    "            n = dep(n)\n",
    "            opt = int(input(\"This is an ATM program. Please select one of the options below.\\n(1) Deposit\\n(2) Withdrawal\\n(3) See balance\\n(4) Quit)\"))\n",
    "\n",
    "        elif opt == 2:\n",
    "            n = out(n)\n",
    "            opt = int(input(\"This is an ATM program. Please select one of the options below.\\n(1) Deposit\\n(2) Withdrawal\\n(3) See balance\\n(4) Quit)\"))\n",
    "\n",
    "        elif opt == 3:\n",
    "            print(\"Your balance is now\", n)\n",
    "            opt = int(input(\"This is an ATM program. Please select one of the options below.\\n(1) Deposit\\n(2) Withdrawal\\n(3) See balance\\n(4) Quit)\"))\n",
    " \n",
    "    \n",
    "    print(\"Have a nice day!\")\n",
    "\n",
    "\n",
    "main()"
   ]
  },
  {
   "cell_type": "code",
   "execution_count": null,
   "metadata": {},
   "outputs": [],
   "source": []
  }
 ],
 "metadata": {
  "interpreter": {
   "hash": "f7291e4b392a32fbfa525b87d1bbd0a3d888adf3d0deca0c205c61b9e7284b82"
  },
  "kernelspec": {
   "display_name": "Python 3.6.4 64-bit",
   "name": "python3"
  },
  "language_info": {
   "codemirror_mode": {
    "name": "ipython",
    "version": 3
   },
   "file_extension": ".py",
   "mimetype": "text/x-python",
   "name": "python",
   "nbconvert_exporter": "python",
   "pygments_lexer": "ipython3",
   "version": "3.6.4"
  }
 },
 "nbformat": 4,
 "nbformat_minor": 2
}
