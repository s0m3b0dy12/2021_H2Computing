{
 "cells": [
  {
   "cell_type": "markdown",
   "metadata": {},
   "source": [
    "1. Design a recursive function that accepts two arguments into the parametrs x and y. The function should return the value of x times y. Remember, multiplication can be performed as repeated addition as follows:\n",
    " \n",
    "                  7 x 4 = 4 + 4 + 4 + 4 + 4 + 4 + 4\n",
    "                  \n",
    "   (To keep the function simple, assume that x and y will always hold positive integers.)"
   ]
  },
  {
   "cell_type": "code",
   "execution_count": null,
   "metadata": {},
   "outputs": [],
   "source": []
  },
  {
   "cell_type": "markdown",
   "metadata": {},
   "source": [
    "2. Write a recursive function that accepts an integer argument, n. The function should display n lines of asterisks on the screen, with the first line showing 1 asterisk, the second line showing 2 asterisks, up to the nth line which shows n asterisks."
   ]
  },
  {
   "cell_type": "code",
   "execution_count": null,
   "metadata": {},
   "outputs": [],
   "source": []
  },
  {
   "cell_type": "markdown",
   "metadata": {},
   "source": [
    "3. Design a function that accepts an integer argument and returns the sum of all the integers from 1 up to the number passed as an argument. For example, if 50 is passed as an argument, the function will return the sum of  1, 2 , 3, . . . ,50. Use recursion to calculate the sum. "
   ]
  },
  {
   "cell_type": "code",
   "execution_count": null,
   "metadata": {},
   "outputs": [],
   "source": []
  },
  {
   "cell_type": "markdown",
   "metadata": {},
   "source": [
    "4 Write a menu-driven automatic teller program in which the user’s bank balance is initialized to $1,000.  The user should be allowed to perform as many transactions as he or she wishes from the menu.\n",
    "\n",
    " 1.\tDeposit\n",
    " 2.\tWithdrawal\n",
    " 3.\tSee balance\n",
    " 4.\tQuit\n",
    "\n",
    "For the withdrawal option, the user should be prompted to select from the choices `$50`, \t`$100`, `$200`, and `$500`.  (Do not allow user to overdraw.)  After each transaction, the \tprogram should print the current balance.  On exiting, the program should print a \tcourteous message. In this program, design a function for each option. \n"
   ]
  },
  {
   "cell_type": "code",
   "execution_count": null,
   "metadata": {},
   "outputs": [],
   "source": []
  }
 ],
 "metadata": {
  "kernelspec": {
   "display_name": "Python 3",
   "language": "python",
   "name": "python3"
  },
  "language_info": {
   "codemirror_mode": {
    "name": "ipython",
    "version": 3
   },
   "file_extension": ".py",
   "mimetype": "text/x-python",
   "name": "python",
   "nbconvert_exporter": "python",
   "pygments_lexer": "ipython3",
   "version": "3.6.4"
  }
 },
 "nbformat": 4,
 "nbformat_minor": 2
}
