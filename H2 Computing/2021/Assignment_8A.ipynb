{
 "cells": [
  {
   "cell_type": "markdown",
   "metadata": {},
   "source": [
    "2 We want to use linear search to count the number of occurrence of a key in a list. When the key does not exist in the list, it is 0 occurrence. Write a recursive function **RecSearch(A, key, start)** which requires three parameters, the list A, the key to be found, and the start index to search in the \tlist. This function returns the number of occurrence of this key in the list. "
   ]
  },
  {
   "cell_type": "code",
   "execution_count": null,
   "metadata": {},
   "outputs": [],
   "source": []
  },
  {
   "cell_type": "markdown",
   "metadata": {},
   "source": [
    "3 Write a recursive function **binSearch ( A, low, high, key)** which searches a sorted list A, A[low] . . . . . A[high] , for a match with **key** using binary search. Return\tthe index of the matching item or −1 if the key is not found. "
   ]
  },
  {
   "cell_type": "code",
   "execution_count": null,
   "metadata": {},
   "outputs": [],
   "source": []
  }
 ],
 "metadata": {
  "kernelspec": {
   "display_name": "Python 3",
   "language": "python",
   "name": "python3"
  },
  "language_info": {
   "codemirror_mode": {
    "name": "ipython",
    "version": 3
   },
   "file_extension": ".py",
   "mimetype": "text/x-python",
   "name": "python",
   "nbconvert_exporter": "python",
   "pygments_lexer": "ipython3",
   "version": "3.6.4"
  }
 },
 "nbformat": 4,
 "nbformat_minor": 2
}