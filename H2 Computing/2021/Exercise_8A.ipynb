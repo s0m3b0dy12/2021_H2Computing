{
 "cells": [
  {
   "cell_type": "markdown",
   "metadata": {},
   "source": [
    "1 Write a function to implement the **linear search**.\n",
    "\n",
    "**def linearSearch(A, n, key):**\n",
    "```\n",
    "# Search the n-element integer array A for a match with key.\n",
    "# Return the index position of the key item if found, or -1 otherwise.\n",
    "```\n",
    "\n",
    "Complete the main function to test the linear search by determining the index position of a key in a list.\n",
    "```\n",
    "<Sample output 1 >                      <Sample output 2>\n",
    "Number of integers in the array: 4      Number of integers in the array: 3  \n",
    "Enter integer 1: 20                     Enter integer 1: 5 \n",
    "Enter integer 2: 30                     Enter integer 2: 8\n",
    "Enter integer 3: 10                     Enter integer 3: 2\n",
    "Enter integer 4: 50\n",
    "                                        [5, 8, 2]\n",
    "[20, 30, 10, 50]                        Enter a key: 15 \n",
    "Enter a key: 10                         15 is not found!\n",
    "10 is found at index positon 2\n",
    "```\n"
   ]
  },
  {
   "cell_type": "code",
   "execution_count": 10,
   "metadata": {},
   "outputs": [
    {
     "name": "stdout",
     "output_type": "stream",
     "text": [
      "\n",
      "[50, 10, 20, 30]\n",
      "Key:'20' is in index 2\n",
      "\n",
      "[50, 1, 20, 30]\n",
      "Key:'45' is not in list\n"
     ]
    }
   ],
   "source": [
    "def linearSearch(A, n, key):\n",
    "\n",
    "# Search the n-element integer array A for a match with key.\n",
    "# Return the index position of the key item if found, or -1 otherwise.\n",
    "    try:\n",
    "        index = A.index(key)\n",
    "        return index\n",
    "    except ValueError:\n",
    "        return -1\n",
    "\n",
    "\n",
    "def main():\n",
    "  \n",
    "    numList =[]     # initialize an empty list\n",
    "    n = int(input(\"Number of integers in the array: \"))\n",
    "\n",
    "    for i in range(n):\n",
    "        num = int(input(f\"Enter integer {i+1}:\"))\n",
    "        numList.append(num)\n",
    "    \n",
    "    print ()\n",
    "    print (numList)\n",
    "\n",
    "    key = int(input(\"Enter a key: \"))\n",
    "\n",
    "    if linearSearch(numList,n,key) == -1:\n",
    "        print(f\"Key:'{key}' is not in list\")\n",
    "    else:\n",
    "        print(f\"Key:'{key}' is in index\", linearSearch(numList,n,key))\n",
    "\n",
    "        \n",
    "main()\n",
    "main()\n"
   ]
  },
  {
   "cell_type": "markdown",
   "metadata": {},
   "source": [
    "2 Write a function to implement the **binary search**\n",
    "\n",
    "**def binarySearch(A, n, key):**\n",
    "```\n",
    "# Search the n-element sorted integer array A for a match with key.\n",
    "# Return the index position of the key item if found, or -1 otherwise.\n",
    "```\n",
    "Complete the main function to test the binary search by determining the index position of a key in a list.\n",
    "```\n",
    "<Sample output 1 >                      <Sample output 2>\n",
    "Number of integers in the array: 4      Number of integers in the array: 3 \n",
    "Enter integers in ascending order       Enter integers in ascending order\n",
    "Enter integer 1: 20                     Enter integer 1: 5 \n",
    "Enter integer 2: 30                     Enter integer 2: 8\n",
    "Enter integer 3: 40                     Enter integer 3: 9\n",
    "Enter integer 4: 50\n",
    "                                        [5, 8, 9]\n",
    "[20, 30, 40, 50]                        Enter a key: 15 \n",
    "Enter a key: 30                         15 is not found!\n",
    "30 is found at index positon 1\n",
    "```"
   ]
  },
  {
   "cell_type": "code",
   "execution_count": 34,
   "metadata": {},
   "outputs": [
    {
     "name": "stdout",
     "output_type": "stream",
     "text": [
      "[10, 20, 30, 40, 50, 60, 70, 80, 90, 100]\n",
      "4\n",
      "Key:'50' is at index 4\n",
      "[10, 20, 30, 40, 50, 60, 70, 80, 90, 100]\n",
      "-1\n",
      "Key:'-45' is not in list\n"
     ]
    }
   ],
   "source": [
    "def binarySearch(A, n, key):\n",
    "\n",
    "# Search the n-element sorted integer array A for a match with key.\n",
    "# Return the index position of the key item if found, or -1 otherwise.\n",
    "    high = n-1\n",
    "    low = 0\n",
    "\n",
    "    while high != low:\n",
    "        mid = (high+low)//2\n",
    "        if key == A[mid]:\n",
    "            return mid\n",
    "        elif key < A[mid]:\n",
    "            high = mid-1\n",
    "        elif key > A[mid]:\n",
    "            low= mid+1\n",
    "    return -1\n",
    "\n",
    "def main():\n",
    "  \n",
    "    numList =[10,20,30,40,50,60,70,80,90,100]     # initialize an empty list\n",
    "    n = 10\n",
    "    print (numList)\n",
    "\n",
    "    key = int(input(\"Enter a key: \"))\n",
    "        \n",
    "    if binarySearch(numList,n,key) == -1:\n",
    "        print(binarySearch(numList,n,key))\n",
    "        print(f\"Key:'{key}' is not in list\")\n",
    "    else:\n",
    "        print(binarySearch(numList,n,key))\n",
    "        print(f\"Key:'{key}' is at index\",binarySearch(numList,n,key))\n",
    "\n",
    "main()\n",
    "main()\n",
    "\n"
   ]
  },
  {
   "cell_type": "markdown",
   "metadata": {},
   "source": [
    "3 Repeat question **2**, but using a recursive function for the binary search\n",
    "\n",
    "**def recurBinSearch(A, low, high, key):**          \n",
    "```\n",
    "# Search a sorted array A, A[low] . . . . . A[high], for a match with key using\n",
    "# the recursive binary search.\n",
    "# Return the index of the matching array element or -1 if the key is not found\n",
    "```\n"
   ]
  },
  {
   "cell_type": "code",
   "execution_count": 1,
   "metadata": {
    "pycharm": {
     "name": "#%%\n"
    }
   },
   "outputs": [
    {
     "name": "stdout",
     "output_type": "stream",
     "text": [
      "[10, 20, 30, 40, 50, 60, 70, 80, 90, 100]\n",
      "index: 4\n",
      "index: None\n",
      "Key:'50' is at index 4\n",
      "[10, 20, 30, 40, 50, 60, 70, 80, 90, 100]\n",
      "index: 4\n",
      "index: None\n",
      "Key:'45' is not in list\n"
     ]
    }
   ],
   "source": [
    "def recurBinSearch(A, low, high, key):\n",
    "    # Search a sorted array A, A[low] . .. A[high], for a match with key using\n",
    "    # the recursive binary search.\n",
    "    # Return the index of the matching array element or -1 if a match does not occur\n",
    "    if low == high:\n",
    "        return -1\n",
    "\n",
    "    mid = (low+high)//2\n",
    "\n",
    "    if key == A[mid]:\n",
    "        return mid\n",
    "    else:\n",
    "        if key < A[mid]:\n",
    "            high = mid-1\n",
    "        elif key > A[mid]:\n",
    "            low= mid+1\n",
    "        recurBinSearch(A,low,high,key)\n",
    "\n",
    "\n",
    "def main():\n",
    "  \n",
    "    numList =[10,20,30,40,50,60,70,80,90,100]     # initialize a list\n",
    "\n",
    "    print (numList)\n",
    "\n",
    "    key = int(input(\"Key in a key: \"))\n",
    "\n",
    "    low = 0\n",
    "    high = len(numList)-1\n",
    "\n",
    "    if recurBinSearch(numList,low,high,key) == -1:\n",
    "        print()\n",
    "    print(f\"index: {recurBinSearch(numList,low,high,50)}\")\n",
    "    print(f\"index: {recurBinSearch(numList,low,high,45)}\")\n",
    "\n",
    "    if recurBinSearch(numList, low, high, key) is None:\n",
    "        print(f\"Key:'{key}' is not in list\")\n",
    "    else:\n",
    "        print(f\"Key:'{key}' is at index\",recurBinSearch(numList,low,high,key))\n",
    "\n",
    "\n",
    "\n",
    "        \n",
    "main()\n",
    "main()"
   ]
  }
 ],
 "metadata": {
  "kernelspec": {
   "display_name": "Python 3",
   "language": "python",
   "name": "python3"
  },
  "language_info": {
   "codemirror_mode": {
    "name": "ipython",
    "version": 3
   },
   "file_extension": ".py",
   "mimetype": "text/x-python",
   "name": "python",
   "nbconvert_exporter": "python",
   "pygments_lexer": "ipython3",
   "version": "3.6.4"
  }
 },
 "nbformat": 4,
 "nbformat_minor": 2
}