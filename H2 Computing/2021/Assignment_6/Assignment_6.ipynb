{
 "cells": [
  {
   "cell_type": "markdown",
   "metadata": {},
   "source": [
    "1  Assume that the variable **myString** refers to a string. Write a code segment that uses a loop to print the characters of the string in reverse order."
   ]
  },
  {
   "cell_type": "code",
   "execution_count": null,
   "metadata": {},
   "outputs": [],
   "source": []
  },
  {
   "cell_type": "markdown",
   "metadata": {},
   "source": [
    "2  Write a function that takes a binary number of up to 16 digits, and converts it into a hexadecimal number. "
   ]
  },
  {
   "cell_type": "code",
   "execution_count": null,
   "metadata": {},
   "outputs": [],
   "source": [
    "# Binary numbers to Hexadecimal numbers\n",
    "\n",
    "# Method 1  (bin -> dec -> hex)\n",
    "\n",
    "def bin2dec(bin):\n",
    "    .\n",
    "    .\n",
    "    .\n",
    "\n",
    "\n",
    "def dec2hex(dec):\n",
    "    .\n",
    "    .\n",
    "    .\n",
    "    \n",
    "    \n",
    "def main():\n",
    "    print(\"Method 1: convert bin to dec then from dec to hex\")\n",
    "    \n",
    "    bin = input(\"Enter a binary number (up to 16 digits): \")\n",
    "    \n",
    "    dec = bin2dec(bin)\n",
    "    hex = dec2hex(dec)\n",
    "\n",
    "    print ('Binary:      ', bin)   # 1001001111\n",
    "    print ('Hexadecimal: ', hex)   # 24F\n",
    "        \n",
    "\n",
    "main()\n",
    "  \n"
   ]
  },
  {
   "cell_type": "code",
   "execution_count": null,
   "metadata": {},
   "outputs": [],
   "source": [
    "# Binary numbers to Hexadecimal numbers\n",
    "\n",
    "# Method 2  \n",
    "# -- Starting from LSD, sector in group of four. Insert dummy 0’s when there is not enough\n",
    "# -- For each group of four, calculate its decimal value, and it is the digit for hexadecimal\n",
    "\n",
    "# e.g.  1011110100 --> 001011110100 --> 2F4\n",
    "         \n",
    "       \n",
    "def bin2hex(bin):\n",
    "      .\n",
    "      .\n",
    "      .\n",
    "    \n",
    "    \n",
    "\n",
    "def main():\n",
    "    print (\"Method 2\")\n",
    "    print (\"- Starting from right-most bit, sector in group of four.\")\n",
    "    print (\"- Insert dummy 0’s when there is not enough.\")\n",
    "    print (\"- For each group of four, calculate its decimal value, and it is the digit for hexadecimal\")\n",
    "\n",
    "    bin = input(\"Enter a binary number (up to 16 digits): \")\n",
    "      \n",
    "    hexa = bin2hex(bin)\n",
    "  \n",
    "    print ('Binary: ', bin)       # 1011110100\n",
    "    print ('Hexadecimal:', hexa)  # 2F4\n",
    "    \n",
    "main()"
   ]
  }
 ],
 "metadata": {
  "kernelspec": {
   "display_name": "Python 3",
   "language": "python",
   "name": "python3"
  },
  "language_info": {
   "codemirror_mode": {
    "name": "ipython",
    "version": 3
   },
   "file_extension": ".py",
   "mimetype": "text/x-python",
   "name": "python",
   "nbconvert_exporter": "python",
   "pygments_lexer": "ipython3",
   "version": "3.6.4"
  }
 },
 "nbformat": 4,
 "nbformat_minor": 2
}
