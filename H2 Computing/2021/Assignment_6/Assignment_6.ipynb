{
 "cells": [
  {
   "cell_type": "markdown",
   "metadata": {},
   "source": [
    "1  Assume that the variable **myString** refers to a string. Write a code segment that uses a loop to print the characters of the string in reverse order."
   ]
  },
  {
   "cell_type": "code",
   "execution_count": 5,
   "metadata": {},
   "outputs": [
    {
     "name": "stdout",
     "output_type": "stream",
     "text": [
      "!dlroW olleH\n"
     ]
    }
   ],
   "source": [
    "myString = input(\"Key in a sentence: \")\n",
    "\n",
    "def reverse(myString):\n",
    "  reverse = \"\"\n",
    "  for i in myString:\n",
    "    reverse = i + reverse\n",
    "  \n",
    "  print(reverse)\n",
    "\n",
    "\n",
    "\n",
    "reverse(myString)"
   ]
  },
  {
   "cell_type": "markdown",
   "metadata": {},
   "source": [
    "2  Write a function that takes a binary number of up to 16 digits, and converts it into a hexadecimal number. "
   ]
  },
  {
   "cell_type": "code",
   "execution_count": 5,
   "metadata": {},
   "outputs": [
    {
     "name": "stdout",
     "output_type": "stream",
     "text": [
      "Method 1: convert bin to dec then from dec to hex\n",
      "Binary:       0\n",
      "Hexadecimal:  0\n"
     ]
    }
   ],
   "source": [
    "# Binary numbers to Hexadecimal numbers\n",
    "\n",
    "# Method 1  (bin -> dec -> hex)\n",
    "\n",
    "def bin2dec(bin):\n",
    "  #binary to decimal\n",
    "  exponential = len(bin) - 1 \n",
    "  decimal = 0\n",
    "\n",
    "  for i in bin:\n",
    "    decimal = int(i) * 2 ** exponential + decimal\n",
    "    exponential = exponential - 1    \n",
    "\n",
    "  return decimal\n",
    "\n",
    "\n",
    "def dec2hex(dec):\n",
    "    quotient = dec\n",
    "    hex = \"\"\n",
    "    remainder = 0\n",
    "\n",
    "    while quotient != 0:\n",
    "      remainder = quotient % 16\n",
    "      if 0 <= remainder <= 9:\n",
    "        hex = str(remainder) + hex\n",
    "      else:\n",
    "        hex =  chr((ord('A') + remainder - 10)) + hex\n",
    "\n",
    "      quotient = quotient // 16\n",
    "\n",
    "    return hex\n",
    "    \n",
    "def main():\n",
    "    print(\"Method 1: convert bin to dec then from dec to hex\")\n",
    "    \n",
    "    bin = '0'\n",
    "\n",
    "    if len(bin) > 16:\n",
    "      print(\"Please enter only up to 16 digits\")\n",
    "\n",
    "    elif bin == '0':\n",
    "        print ('Binary:      ', bin)\n",
    "        print ('Hexadecimal:  0')\n",
    "    else: \n",
    "      dec = bin2dec(bin)\n",
    "      hex = dec2hex(dec)\n",
    "\n",
    "      print ('Binary:      ', bin)   # 1001001111\n",
    "      print ('Hexadecimal: ', hex)   # 24F\n",
    "        \n",
    "\n",
    "main()\n"
   ]
  },
  {
   "cell_type": "code",
   "execution_count": 6,
   "metadata": {},
   "outputs": [
    {
     "name": "stdout",
     "output_type": "stream",
     "text": [
      "Method 2\n",
      "- Starting from right-most bit, sector in group of four.\n",
      "- Insert dummy 0’s when there is not enough.\n",
      "- For each group of four, calculate its decimal value, and it is the digit for hexadecimal\n",
      "Binary:  0\n",
      "Hexadecimal: 0\n"
     ]
    }
   ],
   "source": [
    "# Binary numbers to Hexadecimal numbers\n",
    "\n",
    "# Method 2  \n",
    "# -- Starting from LSD, sector in group of four. Insert dummy 0’s when there is not enough\n",
    "# -- For each group of four, calculate its decimal value, and it is the digit for hexadecimal\n",
    "\n",
    "# e.g.  1011110100 --> 001011110100 --> 2F4\n",
    "         \n",
    "       \n",
    "def bin2dec(bin):\n",
    "    exponential = len(bin) - 1\n",
    "    dec = 0\n",
    "\n",
    "    for i in bin:\n",
    "        dec = int(i) * 2 ** exponential + dec\n",
    "        exponential = exponential - 1\n",
    "\n",
    "\n",
    "    return dec\n",
    "\n",
    "def bin2hex(bin):\n",
    "    hexDigit = \"0123456789ABCDEF\"\n",
    "    hex = \"\"\n",
    "\n",
    "    if len(bin) % 16 != 0:\n",
    "        bin = \"0\" * (16 - len(bin)) + bin\n",
    "\n",
    "    for i in range(0, 16, 4):\n",
    "        fourBit = bin[i:i+4]\n",
    "        dec = bin2dec(fourBit)\n",
    "        hex = hex + hexDigit[dec]\n",
    "\n",
    "    if hex == \"0000\":\n",
    "        hex = '0'\n",
    "    else:           # e.g. '04A3'-->'4A3'; '00F4'-->'F4'; '000D'->'D'\n",
    "        hex = hex.lstrip('0')   # remove leading '0's\n",
    "    return hex\n",
    "\n",
    "def main():\n",
    "    print (\"Method 2\")\n",
    "    print (\"- Starting from right-most bit, sector in group of four.\")\n",
    "    print (\"- Insert dummy 0’s when there is not enough.\")\n",
    "    print (\"- For each group of four, calculate its decimal value, and it is the digit for hexadecimal\")\n",
    "\n",
    "    bin = input(\"Enter a binary number (up to 16 digits): \")\n",
    "    if len(bin) > 16:\n",
    "        print(\"Maximum number of digits is 16\")\n",
    "    else:\n",
    "        hexa = bin2hex(bin)\n",
    "  \n",
    "    print ('Binary: ', bin)       # 1011110100\n",
    "    print ('Hexadecimal:', hexa)  # 2F4\n",
    "    \n",
    "main()"
   ]
  },
  {
   "cell_type": "markdown",
   "source": [
    "3 Write a script to prompt the user for the names of two text files. The contents of the first file should be input and written to the second file."
   ],
   "metadata": {
    "collapsed": false
   }
  },
  {
   "cell_type": "code",
   "execution_count": 2,
   "outputs": [
    {
     "name": "stdout",
     "output_type": "stream",
     "text": [
      "File created\n"
     ]
    }
   ],
   "source": [
    "def write_new(old,new):\n",
    "    old_file = open(f\"{old}\", \"r\")\n",
    "    new_file = open(f\"{new}\", \"w\")\n",
    "    for line in old_file:\n",
    "        new_file.write(line)\n",
    "\n",
    "    new_file.close()\n",
    "\n",
    "    return 0\n",
    "\n",
    "def main():\n",
    "    file_1 = \"Q3.txt\"\n",
    "    file_2 = input(\"Key in second file: \")\n",
    "    write_new(file_1,file_2)\n",
    "    print(\"File created\")\n",
    "\n",
    "main()"
   ],
   "metadata": {
    "collapsed": false,
    "pycharm": {
     "name": "#%%\n"
    }
   }
  },
  {
   "cell_type": "markdown",
   "source": [
    "4  The Payroll Department keeps a list of employee information for each pay period in a text file. The format of each line of the file is the following:\n",
    "\n",
    "```<last name>  <hourly wage>  <hours worked>```\n",
    "\n",
    "Write a program that inputs a filename from the user and prints to the terminal a report of the wages paid to the employees for the given period. The report should be in tabular format with the appropriate header. Each line should contain an employee’s name, the hours worked and the wages paid for that period."
   ],
   "metadata": {
    "collapsed": false
   }
  },
  {
   "cell_type": "code",
   "execution_count": 63,
   "outputs": [
    {
     "name": "stdout",
     "output_type": "stream",
     "text": [
      "Report generating\n",
      "\n",
      "========================================\n",
      "Name        Hours worked     Wages paid\n",
      "Tommy       8.50               85.00\n",
      "Amy         6.00              123.00\n",
      "Johnson     30.00             240.00\n",
      "\n",
      ", Report generated\n"
     ]
    }
   ],
   "source": [
    "def report(file):\n",
    "    f = open(f\"{file}\", \"r\")\n",
    "    print(\"=\" * 40)\n",
    "    print(f\"{'Name':<12}{'Hours worked':>5}{'Wages paid':>15}\")\n",
    "    for line in f:\n",
    "        line = line.strip().split()\n",
    "        new = []\n",
    "        for i in line:\n",
    "            wage = 0\n",
    "            try:\n",
    "                new.append(float(i))\n",
    "            except ValueError:\n",
    "                new.append(i)\n",
    "        wage = new[1] * new[2]\n",
    "        print(f\"{line[0]:<12}{line[1]:<5}{wage:>19.2f}\")\n",
    "\n",
    "\n",
    "\n",
    "    return 0\n",
    "\n",
    "\n",
    "\n",
    "def main():\n",
    "    infile = \"Q4.txt\"\n",
    "    print(\"Report generating\\n\")\n",
    "    report(infile)\n",
    "    print(\"\\n, Report generated\")\n",
    "\n",
    "main()"
   ],
   "metadata": {
    "collapsed": false,
    "pycharm": {
     "name": "#%%\n"
    }
   }
  },
  {
   "cell_type": "code",
   "execution_count": null,
   "outputs": [],
   "source": [],
   "metadata": {
    "collapsed": false,
    "pycharm": {
     "name": "#%%\n"
    }
   }
  }
 ],
 "metadata": {
  "kernelspec": {
   "display_name": "Python 3",
   "language": "python",
   "name": "python3"
  },
  "language_info": {
   "codemirror_mode": {
    "name": "ipython",
    "version": 3
   },
   "file_extension": ".py",
   "mimetype": "text/x-python",
   "name": "python",
   "nbconvert_exporter": "python",
   "pygments_lexer": "ipython3",
   "version": "3.6.4"
  }
 },
 "nbformat": 4,
 "nbformat_minor": 2
}