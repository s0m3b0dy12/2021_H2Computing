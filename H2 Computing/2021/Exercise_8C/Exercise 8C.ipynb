{
 "cells": [
  {
   "cell_type": "code",
   "execution_count": null,
   "metadata": {},
   "outputs": [],
   "source": [
    "# How to swap 2 elements in an array\n",
    "\n",
    "def swap(A, i, j):\n",
    "# interchange the values of A[i] and A[j]\n",
    "    temp = A[i]      \n",
    "    A[i] = A[j]     \n",
    "    A[j] = temp\n",
    "\n",
    "                \n",
    "def printList(A, n):\n",
    "# step through the n-element list and print each value \n",
    "    for i in range(0, n):\n",
    "        print (A[i], end = ' ')\n",
    "    print ()\n",
    "    \n"
   ]
  },
  {
   "cell_type": "markdown",
   "metadata": {},
   "source": [
    "1 (a) For the following array A, show A after each pass using **bubble sort** to arrange the elements in ascending order.\n",
    "\n",
    "```\n",
    "__________________________________________\n",
    "|  i  |  0  |  1  |  2  |  3  |  4  |  5  |\n",
    "|-----|-----|-----|-----|-----|-----|-----|\n",
    "|A[i] | 40  | 60  | 50  | 20  | 30  | 10  |\n",
    "|_____|_____|_____|_____|_____|_____|_____|\n",
    "```\n"
   ]
  },
  {
   "cell_type": "code",
   "execution_count": 5,
   "metadata": {},
   "outputs": [
    {
     "name": "stdout",
     "output_type": "stream",
     "text": [
      "Sorted list is:  [10, 20, 30, 40, 50, 60, 70, 80, 90, 100]\n"
     ]
    }
   ],
   "source": [
    "def swap(A,i,j):\n",
    "    temp = A[i]\n",
    "    A[i] = A[j]\n",
    "    A[j] = temp\n",
    "    return A\n",
    "\n",
    "def bubbleSort(A):\n",
    "    sorts = len(A)\n",
    "    while sorts>0:\n",
    "        swaps = False\n",
    "        for i in range(1,len(A)):\n",
    "            if A[i-1] > A[i]:\n",
    "                swap(A,i-1,i)\n",
    "                swaps = True\n",
    "        if not swaps:\n",
    "            break\n",
    "\n",
    "        sorts-=1\n",
    "\n",
    "    return A\n",
    "\n",
    "\n",
    "def main():\n",
    "    arrays = [90,50,70,30,100,20,60,10,40,80]\n",
    "    print(\"Sorted list is: \", bubbleSort(arrays))\n",
    "\n",
    "main()"
   ]
  },
  {
   "cell_type": "markdown",
   "metadata": {},
   "source": [
    "1 (b)  Write a function to implement the **bubble sort**.\n",
    "\n",
    "**def bubbleSort_1\n",
    "(A, n):**\n",
    "```\n",
    "# sort the n-element integer array A (A[0], . . . ,A[n-1]) in ascending order\n",
    "```\n",
    "\n",
    "\n"
   ]
  },
  {
   "cell_type": "code",
   "execution_count": 6,
   "metadata": {},
   "outputs": [
    {
     "name": "stdout",
     "output_type": "stream",
     "text": [
      "Original List: \n",
      "[38, 58, 13, 15, 51, 27, 10, 19, 12, 86, 49, 67, 84, 60, 25] 15\n",
      "Sorted List: \n",
      "[10, 12, 13, 15, 19, 25, 27, 38, 49, 51, 58, 60, 67, 84, 86] 15\n"
     ]
    }
   ],
   "source": [
    "def bubbleSort_1(A, n):\n",
    "# sort the n-element integer array A (A[0], . . . ,A[n-1]) in ascending\n",
    "    sorts = n\n",
    "    while sorts>0:\n",
    "        swaps = False\n",
    "        for i in range(1,n):\n",
    "            if A[i-1] > A[i]:\n",
    "                swap(A,i-1,i)\n",
    "                swaps = True\n",
    "        if not swaps:\n",
    "            break\n",
    "\n",
    "        sorts-=1\n",
    "\n",
    "    return A\n",
    "\n",
    "\n",
    "def  main():\n",
    "    A = [38, 58, 13, 15, 51, 27, 10, 19, 12, 86, 49, 67, 84, 60, 25]\n",
    "    n = len(A)          # number of elements in the list\n",
    "    \n",
    "    print (\"Original List: \")\n",
    "    print(A, n)\n",
    "\n",
    "    bubbleSort_1 (A, n)\n",
    "\n",
    "    print (\"Sorted List: \")\n",
    "    print(A, n)\n",
    "\n",
    "\n",
    "main()    \n"
   ]
  },
  {
   "cell_type": "markdown",
   "metadata": {},
   "source": [
    "2 (a) **Improved bubble sort** - early termination\n",
    "\n",
    "For the following array A, show A after each pass using **bubble sort** to arrange the elements in ascending order.\n",
    "\n",
    "```\n",
    "__________________________________________\n",
    "|  i  |  0  |  1  |  2  |  3  |  4  |  5  |\n",
    "|-----|-----|-----|-----|-----|-----|-----|\n",
    "|A[i] | 40  | 10  | 30  | 20  | 50  | 60  |\n",
    "|_____|_____|_____|_____|_____|_____|_____|\n",
    "```\n"
   ]
  },
  {
   "cell_type": "code",
   "execution_count": 9,
   "metadata": {},
   "outputs": [
    {
     "name": "stdout",
     "output_type": "stream",
     "text": [
      "Original list [38, 58, 13, 15, 51, 27, 10, 19, 12, 86, 49, 67, 84, 60, 25]\n",
      "Sorting\n",
      "[38, 58, 13, 15, 51, 27, 10, 19, 12, 86, 49, 67, 84, 60, 25]\n",
      "[38, 13, 15, 51, 27, 10, 19, 12, 58, 49, 67, 84, 60, 25, 86]\n",
      "[13, 15, 38, 27, 10, 19, 12, 51, 49, 58, 67, 60, 25, 84, 86]\n",
      "[13, 15, 27, 10, 19, 12, 38, 49, 51, 58, 60, 25, 67, 84, 86]\n",
      "[13, 15, 10, 19, 12, 27, 38, 49, 51, 58, 25, 60, 67, 84, 86]\n",
      "[13, 10, 15, 12, 19, 27, 38, 49, 51, 25, 58, 60, 67, 84, 86]\n",
      "[10, 13, 12, 15, 19, 27, 38, 49, 25, 51, 58, 60, 67, 84, 86]\n",
      "[10, 12, 13, 15, 19, 27, 38, 25, 49, 51, 58, 60, 67, 84, 86]\n",
      "[10, 12, 13, 15, 19, 27, 25, 38, 49, 51, 58, 60, 67, 84, 86]\n",
      "[10, 12, 13, 15, 19, 25, 27, 38, 49, 51, 58, 60, 67, 84, 86]\n",
      "Sort completed\n",
      "Sorted list is:  [10, 12, 13, 15, 19, 25, 27, 38, 49, 51, 58, 60, 67, 84, 86]\n"
     ]
    }
   ],
   "source": [
    "def bubbleSort(A):\n",
    "    print(\"Sorting\")\n",
    "    sorts = len(A)\n",
    "    while sorts>0:\n",
    "        print(A)\n",
    "        swaps = False\n",
    "        for i in range(1,len(A)):\n",
    "            if A[i-1] > A[i]:\n",
    "                swap(A,i-1,i)\n",
    "                swaps = True\n",
    "        if not swaps:\n",
    "            break\n",
    "\n",
    "        sorts-=1\n",
    "    print(\"Sort completed\")\n",
    "    return A\n",
    "\n",
    "\n",
    "A = [38, 58, 13, 15, 51, 27, 10, 19, 12, 86, 49, 67, 84, 60, 25]\n",
    "\n",
    "print(\"Original list\", A)\n",
    "print(\"Sorted list is: \", bubbleSort_2(A))\n",
    "\n",
    "\n",
    "\n",
    "\n",
    "\n"
   ]
  },
  {
   "cell_type": "markdown",
   "metadata": {},
   "source": [
    "2 (b)  Write a function to implement the **improved bubble sort** - early termination.\n",
    "\n",
    "**def bubbleSort_2(A, n):**       \n",
    "```\n",
    "# sort the n-element integer array A (A[0], . . ., A[n-1]) in ascending order\n",
    "```\n",
    "\n"
   ]
  },
  {
   "cell_type": "code",
   "execution_count": 11,
   "metadata": {},
   "outputs": [
    {
     "name": "stdout",
     "output_type": "stream",
     "text": [
      "Original List: \n",
      "[38, 58, 13, 15, 51, 27, 10, 19, 12, 86, 49, 67, 84, 60, 25] 15\n",
      "[38, 58, 13, 15, 51, 27, 10, 19, 12, 86, 49, 67, 84, 60, 25]\n",
      "[38, 13, 15, 51, 27, 10, 19, 12, 58, 49, 67, 84, 60, 25, 86]\n",
      "[13, 15, 38, 27, 10, 19, 12, 51, 49, 58, 67, 60, 25, 84, 86]\n",
      "[13, 15, 27, 10, 19, 12, 38, 49, 51, 58, 60, 25, 67, 84, 86]\n",
      "[13, 15, 10, 19, 12, 27, 38, 49, 51, 58, 25, 60, 67, 84, 86]\n",
      "[13, 10, 15, 12, 19, 27, 38, 49, 51, 25, 58, 60, 67, 84, 86]\n",
      "[10, 13, 12, 15, 19, 27, 38, 49, 25, 51, 58, 60, 67, 84, 86]\n",
      "[10, 12, 13, 15, 19, 27, 38, 25, 49, 51, 58, 60, 67, 84, 86]\n",
      "[10, 12, 13, 15, 19, 27, 25, 38, 49, 51, 58, 60, 67, 84, 86]\n",
      "[10, 12, 13, 15, 19, 25, 27, 38, 49, 51, 58, 60, 67, 84, 86]\n",
      "Sorted List: \n",
      "[10, 12, 13, 15, 19, 25, 27, 38, 49, 51, 58, 60, 67, 84, 86] 15\n"
     ]
    }
   ],
   "source": [
    "def bubbleSort_2(A, n):   #improved bubble sort\n",
    "# sort the n-element integer array A (A[0], . . . ,A[n-1]) in ascending order\n",
    "    sorts = len(A)\n",
    "    while sorts>0:\n",
    "        print(A)\n",
    "        swaps = False\n",
    "        for i in range(1,len(A)):\n",
    "            if A[i-1] > A[i]:\n",
    "                swap(A,i-1,i)\n",
    "                swaps = True\n",
    "        if not swaps:\n",
    "            break\n",
    "\n",
    "        sorts-=1\n",
    "    return A\n",
    "        \n",
    "\n",
    "def  main():\n",
    "    A = [38, 58, 13, 15, 51, 27, 10, 19, 12, 86, 49, 67, 84, 60, 25]\n",
    "    n = len(A)          # number of elements in the list\n",
    "    \n",
    "    print (\"Original List: \")\n",
    "    print(A, n)\n",
    "\n",
    "    bubbleSort_2 (A, n)\n",
    "\n",
    "    print (\"Sorted List: \")\n",
    "    print(A, n)\n",
    "\n",
    "\n",
    "main()    \n"
   ]
  },
  {
   "cell_type": "markdown",
   "source": [
    "3\n",
    "The following is a pseudocode algorithm for a bubble sort on an array Animal.\n",
    "This array stores string data and has a final subscript ```MAX```\n",
    "The algorithm is both poorly designed and inefficient (but does work).\n",
    "\n",
    "```\n",
    "FOR A=1 TO MAX-1\n",
    "    FOR B=1 TO MAX-1\n",
    "        IF Animal(B) > Animal(B+1)\n",
    "            THEN\n",
    "                Temp = Animal(B)\n",
    "                Animal(B)=Animal(B+1)\n",
    "                Animal(B+1)=Temp\n",
    "        ENDIF\n",
    "    ENDFOR\n",
    "```\n",
    "\n",
    "Task 2.1\n",
    "Write program code for this algorithm including all the improvements you would make to:\n",
    "- follow good programming practice\n",
    "- make the algorithm more efficient\n",
    "\n",
    "Use the sample array data available from text file ```ANIMALS+SPORTS.txt``` and paste this into your programming code [9]"
   ],
   "metadata": {
    "collapsed": false
   }
  },
  {
   "cell_type": "code",
   "execution_count": null,
   "metadata": {},
   "outputs": [],
   "source": [
    "# Task 2.1\n"
   ]
  },
  {
   "cell_type": "markdown",
   "source": [
    "Task 2.2\n",
    "The bubble sort code could be useful for many programs where a sort routine is required.\n",
    "Redesign the code to have a procedure ```BubbleSort```. This procedure should have parameters which allow it to be used for any array of string data"
   ],
   "metadata": {
    "collapsed": false
   }
  },
  {
   "cell_type": "code",
   "execution_count": null,
   "metadata": {},
   "outputs": [],
   "source": [
    "# Task 2.2\n"
   ]
  }
 ],
 "metadata": {
  "kernelspec": {
   "display_name": "Python 3 (ipykernel)",
   "language": "python",
   "name": "python3"
  },
  "language_info": {
   "codemirror_mode": {
    "name": "ipython",
    "version": 3
   },
   "file_extension": ".py",
   "mimetype": "text/x-python",
   "name": "python",
   "nbconvert_exporter": "python",
   "pygments_lexer": "ipython3",
   "version": "3.9.9"
  }
 },
 "nbformat": 4,
 "nbformat_minor": 2
}