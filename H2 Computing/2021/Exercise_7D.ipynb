{
 "cells": [
  {
   "cell_type": "markdown",
   "metadata": {},
   "source": [
    "### Dictionary\n",
    "A dictionary is an object that stores a collection of data.\n",
    "\n",
    "Each element in a dictionary has 2 parts : a key and a value. \n",
    "\n",
    "The pair of values are known as a ***key-value*** pair. \n",
    "\n",
    "Normally the key is used to locate a specific value in a dictionary.\n",
    "\n",
    "In Python, dictionaries are defined in **dict** data type.\n",
    "* It stores keys and their corresponding values.\n",
    "* It is **mutable**, i.e. you can add and remove items from a dictionary.\n",
    "* It is **unordered**, i.e. items in a dictionary are not ordered.  The elements are stored in insertion order ( starting from python version3.6).\n",
    "* Keys must be \n",
    "    * **unique**\n",
    "    * **immutable objects**, normally are strings / integers\n",
    "* Values can be objects of any types.\n",
    "\n"
   ]
  },
  {
   "cell_type": "markdown",
   "metadata": {},
   "source": [
    "### Creating a Dictionary\n",
    "\n",
    "You can create an empty dictionary and add elements as the program executes.\n",
    "\n",
    "**Example**\n",
    "\n",
    "```\n",
    "# create an empty dictionary\n",
    "country_codes = {}\n",
    "\n",
    "# or using the built-in function dict()\n",
    "country_codes = dict()\n",
    "\n",
    "```\n",
    "You can create a dictionary with a set of key value pairs. Key and value are separated by colon \"**:**\".\n",
    "\n",
    "**Example**\n",
    "```\n",
    "country_codes = {'SG':'Singapore', 'AR':'Argentina', 'AU':'Australia'}\n",
    "print(country_codes)\n",
    "```\n",
    "In the above example,the keys and values are both strings.  \n",
    "\n",
    "The values in a dictionary can be objects of any type, but the keys must be **immutable objects**\n",
    "That is to say, keys can be strings, integers, floating point values, or tuple but cannot be lists or any other type of immutable object.\n",
    "\n",
    "The key and value of the elements in a dictionary can be of different datatypes.\n",
    "\n",
    "**Example**\n",
    "```\n",
    "mixed_up = { ('A', 'B'):'AB', 123:556, 0.12:12}\n",
    "print(mixed_up)\n",
    "```"
   ]
  },
  {
   "cell_type": "code",
   "execution_count": null,
   "metadata": {},
   "outputs": [],
   "source": [
    "\n",
    "\n"
   ]
  },
  {
   "cell_type": "markdown",
   "metadata": {},
   "source": [
    "### Retrieving a value from a dictionary\n",
    "\n",
    "To retrieve a value from a dictionary\n",
    "    \n",
    " ```\n",
    "     x = dictionary_name[key]\n",
    " ```\n",
    " If the key exists in the dictionary, the expression returns the value that is associated with the key. \n",
    " If the key does not exist, a KeyError  exception is raised.\n",
    " \n",
    " **Example**\n",
    " ```\n",
    " country_codes = {'SG':'Singapore', 'AR':'Argentina', 'AU':'Australia'}\n",
    " \n",
    " code = 'AR'\n",
    " country = country_codes[code]\n",
    " print(country)\n",
    " \n",
    " ## KeyError example\n",
    " code = 'AB'\n",
    " country = country_codes[code]\n",
    " print(country)\n",
    " ```\n",
    " "
   ]
  },
  {
   "cell_type": "code",
   "execution_count": null,
   "metadata": {},
   "outputs": [],
   "source": [
    "\n",
    "\n"
   ]
  },
  {
   "cell_type": "markdown",
   "metadata": {},
   "source": [
    "### Adding Elements to an Existing Dictionary\n",
    "You can add new key-value pairs to a dictionary with an assignment statement as follow:\n",
    "```\n",
    "    dictionary_name[key] = value\n",
    "\n",
    "```\n",
    "**Example**\n",
    "```\n",
    "country_codes['EG'] = 'Egypt'\n",
    "```\n",
    "If the key does not exist, the key value pair will be added to the dictionary. \n",
    "\n",
    "If the key exists in the dictionary, the existing value that is associated with the key will be changed to the new value.\n",
    "\n",
    "Note: You cannot have duplicated keys in a dictionary.  When you assign a value to an existing key, the new value replaces the existing value.\n",
    "\n",
    "**Example**\n",
    "\n",
    "```\n",
    "country_codes = {'SG':'Singapore', 'AR':'Argentina', 'AU':'Australia\n",
    "country_codes['EG'] = 'Egypt'\n",
    "print (country_codes)\n",
    "country_codes['FI'] = 'France'\n",
    "print(country_codes)\n",
    "country_codes['FI'] = 'Finland'\n",
    "print(country_codes)\n",
    "\n",
    "```\n"
   ]
  },
  {
   "cell_type": "code",
   "execution_count": null,
   "metadata": {},
   "outputs": [],
   "source": [
    "\n",
    "\n"
   ]
  },
  {
   "cell_type": "markdown",
   "metadata": {},
   "source": [
    "### Deleting Elements\n",
    "You can delete an existing key-value pair from a dictionary with the **_del_** statement.\n",
    "```\n",
    "    del dictionary_name[key]\n",
    "    \n",
    "```\n",
    "After the statement executes, the element with the key will be deleted from the dictionary.\n",
    "If the key does not exist, a KeyError exception is raised.\n",
    "\n",
    "**Example**\n",
    "\n",
    "```\n",
    "country_codes = {'SG':'Singapore', 'AR':'Argentina', 'AU':'Australia'}\n",
    "\n",
    "del country_codes['AR']\n",
    "print (country_codes)\n",
    "\n",
    "## KeyError example\n",
    "del country_codes['BC']\n",
    "print(country_codes)\n",
    "```"
   ]
  },
  {
   "cell_type": "code",
   "execution_count": null,
   "metadata": {},
   "outputs": [],
   "source": [
    "\n",
    "\n"
   ]
  },
  {
   "cell_type": "markdown",
   "metadata": {},
   "source": [
    "### Testing for a value in Dictionary using in and not in operator\n",
    "\n",
    "You can use the **_in_** operator to determine whether a **_key_** exists before trying to retrieve a value.\n",
    "\n",
    "**Example**\n",
    "```\n",
    "country_codes = {'SG':'Singapore', 'AR':'Argentina', 'AU':'Australia'}\n",
    "\n",
    "## using \"in\" operator to check that the key exists before getting the name\n",
    "code = 'SG'\n",
    "if code in country_codes:\n",
    "     name = country_codes[code]\n",
    "print (name)\n",
    "\n",
    "## using \"not in\" operator to check that the code does not exists in the dictionary\n",
    "code='FR'\n",
    "name='France'\n",
    "if code not in country_codes:\n",
    "    country_codes[code] = name\n",
    "\n",
    "print (country_codes)\n",
    "\n",
    "```"
   ]
  },
  {
   "cell_type": "code",
   "execution_count": null,
   "metadata": {},
   "outputs": [],
   "source": [
    "\n",
    "\n"
   ]
  },
  {
   "cell_type": "markdown",
   "metadata": {},
   "source": [
    "### Getting the number of elements in a dictionary\n",
    "\n",
    "You can use **len** function to get the number of elements in a dictionary.\n",
    "\n",
    "**Example**\n",
    "``` \n",
    "country_codes = {'SG':'Singapore', 'AR':'Argentina', 'AU':'Australia'}\n",
    "num_of_elements = len(country_codes)\n",
    "print(num_of_elements)    # 3\n",
    "```"
   ]
  },
  {
   "cell_type": "markdown",
   "metadata": {},
   "source": [
    "### Looping through a dictionary\n",
    "\n",
    "You can use a **_for_** loop to iterate over all the keys in a dictionary:\n",
    "\n",
    "```\n",
    "for var in dictionary:\n",
    "    statement\n",
    "    statement\n",
    "    \n",
    "```\n",
    "\n",
    "**Example**\n",
    "```\n",
    "country_codes = {'SG':'Singapore', 'AR':'Argentina', 'AU':'Australia'}\n",
    "for code in country_codes:\n",
    "    name = country_codes[code]\n",
    "    print (f\"{code} : {name}\")\n",
    "```\n"
   ]
  },
  {
   "cell_type": "code",
   "execution_count": null,
   "metadata": {
    "scrolled": true
   },
   "outputs": [],
   "source": [
    "\n",
    "\n"
   ]
  },
  {
   "cell_type": "markdown",
   "metadata": {},
   "source": [
    "### Dictionary Methods\n",
    "| Method | Description |\n",
    "|:---    |:---         |\n",
    "| clear | Clears the contents of a dictionary|\n",
    "| get | Gets the value of the associated with a specified key.  If the key is not found, the method does not raise an exception. Instead, it returns a default value|\n",
    "| items | Returns all the keys in a dictionary and their associated values as a sequence of tuples|\n",
    "| keys | Returns all the keys in a dictionary as a sequence of tuples|\n",
    "| pop() | Returns the value associated with a specified key and remove that key-value pair from the dictionary. If the key is not found, the method returns a default value.|\n",
    "| popitem() | Returns a randomly selected key-value pair as a tuple from the dictionary and removes that key-value pair from the dictionary.|\n",
    "| update() | Updates the dictionary with elements from a dictionary object or an iterable object of key/value pairs.\n",
    "| values() | Returns all the values in the dictionary as a sequence of tuples|\n"
   ]
  },
  {
   "cell_type": "markdown",
   "metadata": {},
   "source": [
    "### clear\n",
    "\n",
    "The method deletes all elements in a dictionary. The dictionary will be empty after the method is invoked.\n",
    "\n",
    "```\n",
    "    dictionary_name.clear()\n",
    "```\n",
    "\n",
    "**Example**\n",
    "```\n",
    "\n",
    "country_codes = {'SG':'Singapore', 'AR':'Argentina', 'AU':'Australia'}\n",
    "print(country_codes)\n",
    "country_codes.clear()\n",
    "print(country_codes)\n",
    "```\n"
   ]
  },
  {
   "cell_type": "code",
   "execution_count": null,
   "metadata": {},
   "outputs": [],
   "source": [
    "\n",
    "\n"
   ]
  },
  {
   "cell_type": "markdown",
   "metadata": {},
   "source": [
    "### get\n",
    "\n",
    "The method is an alternative to the [ ] operator for getting a value from a dictionary.  \n",
    "If the key is not found in the dictionary, the default value, that is provided in the second argument, will be returned. If the key is not found and the default value is omitted, **None** will be returned.\n",
    "\n",
    "``` \n",
    "dictionary_name.get(key, default)\n",
    "```\n",
    "**Example**\n",
    "```\n",
    "country_codes = {'SG':'Singapore', 'AR':'Argentina', 'AU':'Australia'}\n",
    "print(country_codes)\n",
    "name = country_codes.get('SG')\n",
    "print(name)\n",
    "name = country_codes.get('SG','Not found')\n",
    "print(name)\n",
    "name = country_codes.get('ST')\n",
    "print(name)\n",
    "name = country_codes.get('ST','Not found')\n",
    "print(name)\n",
    "```\n"
   ]
  },
  {
   "cell_type": "code",
   "execution_count": null,
   "metadata": {},
   "outputs": [],
   "source": [
    "\n",
    "\n"
   ]
  },
  {
   "cell_type": "markdown",
   "metadata": {},
   "source": [
    "### items\n",
    "\n",
    "The method returns all of the elements in the dictionary as a *dictionary view* (dict_items).\n",
    "The *dictionary view* is a list of tuples.  Each tuple contains a key and its associated value.\n",
    "\n",
    "``` \n",
    "dictionary_name.items()\n",
    "```\n",
    "**Example**\n",
    "```\n",
    "country_codes = {'SG':'Singapore', 'AR':'Argentina', 'AU':'Australia'} \n",
    "cc = list(country_codes.items())\n",
    "print(cc)\n",
    "print()\n",
    "for (code, country) in country_codes.items():\n",
    "    print (code, country)\n",
    "```\n"
   ]
  },
  {
   "cell_type": "code",
   "execution_count": null,
   "metadata": {},
   "outputs": [],
   "source": [
    "\n",
    "\n",
    "\n"
   ]
  },
  {
   "cell_type": "markdown",
   "metadata": {},
   "source": [
    "### keys\n",
    "The method returns all the keys in the dictionary as a *dictionary view* (dict_keys).  The dictionary view contains a list of keys. \n",
    "``` \n",
    "dictionary_name.keys()\n",
    "```\n",
    "**Example**\n",
    "```\n",
    "country_codes = {'SG':'Singapore', 'AR':'Argentina', 'AU':'Australia'} \n",
    "k = list(country_codes.keys())\n",
    "print(k)\n",
    "print ()\n",
    "for code in sorted(country_codes.keys()):\n",
    "    print (code)\n",
    "```\n"
   ]
  },
  {
   "cell_type": "code",
   "execution_count": null,
   "metadata": {},
   "outputs": [],
   "source": [
    "\n",
    "\n"
   ]
  },
  {
   "cell_type": "markdown",
   "metadata": {},
   "source": [
    "### pop\n",
    "The method returns the value associated with a specified key and removes that element from the dictionary.  \n",
    "If the key is not found, the method returns the default value that is provided in the second argument. If the key does not exist and the default is omitted, a KeyError exception is raised.\n",
    "```\n",
    "    dictionary_name.pop(key, default)\n",
    "```\n",
    "\n",
    "**Example**\n",
    "```\n",
    "country_codes = {'SG':'Singapore', 'AR':'Argentina', 'AU':'Australia'}\n",
    "print (country_codes)\n",
    "v = country_codes.pop('HK','Unknown')\n",
    "print(v)\n",
    "v = country_codes.pop('AR')\n",
    "print (v)\n",
    "print (country_codes)\n",
    "v = country_codes.pop('AR','Unknown')\n",
    "print(v)\n",
    "print(country_codes)\n",
    "```"
   ]
  },
  {
   "cell_type": "code",
   "execution_count": null,
   "metadata": {},
   "outputs": [],
   "source": [
    "\n",
    "\n"
   ]
  },
  {
   "cell_type": "markdown",
   "metadata": {},
   "source": [
    "### popitem\n",
    "The method returns a randomly selected element and remove that element from the dictionary.  The element is returned as a tuple.\n",
    "\n",
    "```\n",
    "    dictionary_name.popitem()\n",
    "```\n",
    "**Example**\n",
    "```\n",
    "country_codes = {'SG':'Singapore', 'AR':'Argentina', 'AU':'Australia'} \n",
    "print (country_codes)\n",
    "v = country_codes.popitem()\n",
    "print(v)\n",
    "print(country_codes)\n",
    "## try this\n",
    "k,v = country_codes.popitem()\n",
    "print(k,v)\n",
    "print (country_codes)\n",
    "\n",
    "```\n"
   ]
  },
  {
   "cell_type": "code",
   "execution_count": null,
   "metadata": {},
   "outputs": [],
   "source": [
    "\n",
    "\n"
   ]
  },
  {
   "cell_type": "markdown",
   "metadata": {},
   "source": [
    "### values\n",
    "The method returns all the values in the dictionary (without the keys) as a *dictionary view* (dict_values).\n",
    "The dictionary view contains a list of values. \n",
    "``` \n",
    "dictionary_name.values()\n",
    "```\n",
    "**Example**\n",
    "```\n",
    "country_codes = {'SG':'Singapore', 'AR':'Argentina', 'AU':'Australia'}\n",
    "print (country_codes)\n",
    "v = list(country_codes.values())\n",
    "print(v)\n",
    "```\n",
    "\n"
   ]
  },
  {
   "cell_type": "code",
   "execution_count": null,
   "metadata": {},
   "outputs": [],
   "source": [
    "\n",
    "\n"
   ]
  },
  {
   "cell_type": "code",
   "execution_count": null,
   "metadata": {},
   "outputs": [],
   "source": []
  }
 ],
 "metadata": {
  "kernelspec": {
   "display_name": "Python 3",
   "language": "python",
   "name": "python3"
  },
  "language_info": {
   "codemirror_mode": {
    "name": "ipython",
    "version": 3
   },
   "file_extension": ".py",
   "mimetype": "text/x-python",
   "name": "python",
   "nbconvert_exporter": "python",
   "pygments_lexer": "ipython3",
   "version": "3.6.4"
  }
 },
 "nbformat": 4,
 "nbformat_minor": 2
}
