{
 "cells": [
  {
   "cell_type": "markdown",
   "metadata": {},
   "source": [
    "1. Write a function, for each part, that converts\n",
    "\n",
    "    (a) Binary numbers to decimal numbers\n",
    "    \n",
    "    (b) Decimal numbers to hexadecimal numbers\n",
    "    \n",
    "    (c) Hexadecimal numbers to binary numbers"
   ]
  },
  {
   "cell_type": "code",
   "execution_count": null,
   "metadata": {},
   "outputs": [],
   "source": []
  },
  {
   "cell_type": "markdown",
   "metadata": {},
   "source": [
    "2. A department store operates its own computerized credit system by issuing privileged customers with credit cards against which purchases can be charged, up to the customer’s credit limit. Each credit card has a five-digit account number, for example 3475D where D is a modulus-eleven check-digit for the account number.\n",
    "\n",
    "    (a) Describe an algorithm which is suitable for a routine which checks whether the credit card number is valid. [6]\n",
    "    \n",
    "    (b) Using your algorithm, calculate the value of D. [1]"
   ]
  },
  {
   "cell_type": "code",
   "execution_count": null,
   "metadata": {},
   "outputs": [],
   "source": []
  },
  {
   "cell_type": "markdown",
   "metadata": {},
   "source": [
    "3. Write a program that calculates the check digit for the Singapore NRIC number of 7 digits using the system given in the example."
   ]
  },
  {
   "cell_type": "code",
   "execution_count": null,
   "metadata": {},
   "outputs": [],
   "source": []
  },
  {
   "cell_type": "code",
   "execution_count": null,
   "metadata": {},
   "outputs": [],
   "source": []
  }
 ],
 "metadata": {
  "kernelspec": {
   "display_name": "Python 3",
   "language": "python",
   "name": "python3"
  },
  "language_info": {
   "codemirror_mode": {
    "name": "ipython",
    "version": 3
   },
   "file_extension": ".py",
   "mimetype": "text/x-python",
   "name": "python",
   "nbconvert_exporter": "python",
   "pygments_lexer": "ipython3",
   "version": "3.6.4"
  }
 },
 "nbformat": 4,
 "nbformat_minor": 2
}
