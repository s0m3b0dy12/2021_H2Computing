{
 "cells": [
  {
   "cell_type": "markdown",
   "metadata": {},
   "source": [
    "1. Write a function, for each part, that converts\n",
    "\n",
    "    (a) Binary numbers to decimal numbers\n",
    "    \n",
    "    (b) Decimal numbers to hexadecimal numbers\n",
    "    \n",
    "    (c) Hexadecimal numbers to binary numbers"
   ]
  },
  {
   "cell_type": "code",
   "execution_count": null,
   "metadata": {},
   "outputs": [],
   "source": [
    "#1(a) Binary numbers to decimal numbers\n",
    "def bin2dec(bin):\n",
    "    exp = len(bin)-1\n",
    "    dec = 0\n",
    "    for i in bin:\n",
    "        dec = dec + (int(i) * (2 ** exp))\n",
    "        exp-=1\n",
    "    return dec      \n",
    "\n",
    "def main():\n",
    "    bin = '1010'\n",
    "    print(bin2dec(bin))\n",
    "\n",
    "main()"
   ]
  },
  {
   "cell_type": "code",
   "execution_count": 12,
   "metadata": {},
   "outputs": [
    {
     "name": "stdout",
     "output_type": "stream",
     "text": [
      "2E\n"
     ]
    }
   ],
   "source": [
    "# 1(b)  Decimal numbers to hexadecimal numbers\n",
    "\n",
    "def dec2hex(dec):\n",
    "    quo = dec\n",
    "    hex = ''\n",
    "    if quo == 0:\n",
    "        return 0\n",
    "    else:\n",
    "        while quo >= 1:  \n",
    "            rem = quo%16\n",
    "            if rem in range(0,9):  \n",
    "                hex = str(rem) + hex\n",
    "            else:\n",
    "                hex =  chr((ord('A') + rem - 10)) + hex\n",
    "            quo = quo//16\n",
    "    return hex \n",
    "\n",
    "print (dec2hex(46))         #2E"
   ]
  },
  {
   "cell_type": "code",
   "execution_count": 23,
   "metadata": {},
   "outputs": [
    {
     "name": "stdout",
     "output_type": "stream",
     "text": [
      "101110\n"
     ]
    }
   ],
   "source": [
    "# 1(c) Hexadecimal numbers to binary numbers\n",
    "\n",
    "def hex2bin(hex):\n",
    "    bin = ''\n",
    "    exp = len(hex)-1\n",
    "    dec = 0\n",
    "    for i in hex:\n",
    "        if i in \"0123456789\":\n",
    "            i = int(i)\n",
    "            dec = dec + (i * (16**exp))\n",
    "        else: \n",
    "            dec = dec + ord(i) - 55\n",
    "\n",
    "    quo = dec\n",
    "    rem = 0\n",
    "    while quo>0:\n",
    "\n",
    "        rem = quo%2\n",
    "        bin = str(rem) + bin #For hex to bin the new digit is place infront of the old\n",
    "        quo = quo//2\n",
    "    \n",
    "    return bin\n",
    "            \n",
    "\n",
    "print(hex2bin('2E'))\n",
    "\n",
    "\n",
    " "
   ]
  },
  {
   "cell_type": "markdown",
   "metadata": {},
   "source": [
    "2. A department store operates its own computerized credit system by issuing privileged customers with credit cards against which purchases can be charged, up to the customer’s credit limit. Each credit card has a five-digit account number, for example 3475D where D is a modulus-eleven check-digit for the account number.\n",
    "\n",
    "    (a) Describe an algorithm which is suitable for a routine which checks whether the credit card number is valid. [6]\n",
    "    \n",
    "    (b) Using your algorithm, calculate the value of D. [1]"
   ]
  },
  {
   "cell_type": "code",
   "execution_count": 44,
   "metadata": {},
   "outputs": [
    {
     "name": "stdout",
     "output_type": "stream",
     "text": [
      "Valid\n"
     ]
    }
   ],
   "source": [
    "def valid(dig):\n",
    "    sum = 0\n",
    "    check = 'ABCDEFGHIJ'\n",
    "    for i in dig[:3]:\n",
    "        sum = sum + int(i)\n",
    "    letter = dig[-1].upper()\n",
    "\n",
    "    sum = sum % 11\n",
    "    if letter == check[sum]:\n",
    "        return True\n",
    "    else:\n",
    "        return False\n",
    "\n",
    "def main():\n",
    "    dig = input(\"Key in your credit card number: \")\n",
    "\n",
    "    num = True\n",
    "    for i in dig[:3]:\n",
    "        if i not in '0123456789':\n",
    "            num = False\n",
    "            dig = input(\"Key in your credit card number again: \")\n",
    "\n",
    "\n",
    "    if len(dig) == 5 and num == True:\n",
    "        if valid(dig) == True:\n",
    "            print(\"Valid\")\n",
    "        else:\n",
    "            print(\"Not valid\")\n",
    "    else:\n",
    "        dig = input(\"Key in your credit card number again: \")\n",
    " \n",
    "    \n",
    "\n",
    "\n",
    "main()"
   ]
  },
  {
   "cell_type": "markdown",
   "metadata": {},
   "source": [
    "3. Write a program that calculates the check digit for the Singapore NRIC number of 7 digits using the system given in the example."
   ]
  },
  {
   "cell_type": "code",
   "execution_count": null,
   "metadata": {},
   "outputs": [],
   "source": []
  }
 ],
 "metadata": {
  "kernelspec": {
   "display_name": "Python 3",
   "language": "python",
   "name": "python3"
  },
  "language_info": {
   "codemirror_mode": {
    "name": "ipython",
    "version": 3
   },
   "file_extension": ".py",
   "mimetype": "text/x-python",
   "name": "python",
   "nbconvert_exporter": "python",
   "pygments_lexer": "ipython3",
   "version": "3.6.4"
  }
 },
 "nbformat": 4,
 "nbformat_minor": 2
}
