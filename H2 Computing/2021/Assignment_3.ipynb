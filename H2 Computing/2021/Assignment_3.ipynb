{
 "cells": [
  {
   "cell_type": "markdown",
   "metadata": {},
   "source": [
    "1.\tThe factorial of an integer N is the product of all of the integers between 1 and N, inclusive. Write a program that computes the factorial of a given integer N. \n"
   ]
  },
  {
   "cell_type": "code",
   "execution_count": null,
   "metadata": {},
   "outputs": [],
   "source": []
  },
  {
   "cell_type": "markdown",
   "metadata": {},
   "source": [
    "2.\tWrite a program that accepts the lengths of three sides of a triangle as inputs. \n",
    "The program output should indicate whether or not the triangle is an equilateral triangle."
   ]
  },
  {
   "cell_type": "code",
   "execution_count": null,
   "metadata": {},
   "outputs": [],
   "source": [
    "\n"
   ]
  },
  {
   "cell_type": "markdown",
   "metadata": {},
   "source": [
    "3. Write a program that reads a word and print the numbe of letters in the word, the number of vowels in the word, and the percentage of vowels.\n",
    "\n",
    "  **Enter a word: sequoia**\n",
    "\n",
    "  **Letters:  7**\n",
    "\n",
    "  **Vowels:  5**\n",
    "\n",
    "  **Perentage of vowels:  71.43**\n"
   ]
  },
  {
   "cell_type": "code",
   "execution_count": null,
   "metadata": {},
   "outputs": [],
   "source": []
  },
  {
   "cell_type": "markdown",
   "metadata": {},
   "source": [
    "4. Write a progam that inputs a positive integer n and then prints a rectangle of asterisks n lines high and 2n columns wide. For example, if the input is 5 then the output should be\n",
    "\n",
    "                      * * * * * * * * * *\n",
    "                      *                 *\n",
    "                      *                 *\n",
    "                      *                 *\n",
    "                      * * * * * * * * * *\n",
    "                      "
   ]
  },
  {
   "cell_type": "code",
   "execution_count": null,
   "metadata": {},
   "outputs": [],
   "source": []
  },
  {
   "cell_type": "markdown",
   "metadata": {},
   "source": [
    "5. The sum of the divisors of the number 15 is 24 (= 1 + 3 + 5 + 15). Write a program that will print the sum of the divisors for each of the integers from 100 to 110. The final line of the printout should state which integer has the largest sum. Format the output as follows:\n",
    "\n",
    "```\n",
    "100:  1   2   4   5   10  20  25  50  100\n",
    "sum of divisors 217\n",
    ".\n",
    ".\n",
    ".\n",
    "110:  1   2   5   10  11  22  55  110\n",
    "sum of divisors ________\n",
    "\n",
    "________ has maximum sum of divisors\n",
    "```\n",
    "  \n"
   ]
  },
  {
   "cell_type": "code",
   "execution_count": null,
   "metadata": {},
   "outputs": [],
   "source": []
  },
  {
   "cell_type": "markdown",
   "metadata": {},
   "source": [
    "6. In the game of Lucky Sevens, the player rolls a pair of dice. If the dots add up to 7, the \tplayer wins ```$4```; otherwise, the player loses $1. Suppose that a casino tells player that there are lots of ways to win: (1, 6), (2, 5), etc. Write a program that takes as input the\tamount of money that the player wants to put into the pot, and play the game until the pot is empty. At that point, the program should print the number of rolls it took to break the player, as well as maximum amount of money in the pot."
   ]
  },
  {
   "cell_type": "code",
   "execution_count": null,
   "metadata": {},
   "outputs": [],
   "source": []
  },
  {
   "cell_type": "markdown",
   "metadata": {},
   "source": [
    "7.\t**Guess My Number Game (Design the program for both versions)**\n",
    "\n",
    "   __Version A:__ the computer picks a random number between 1 and 100 that the player has to guess. For each guess, the computer must tell the player if the number is too small or too large for the actual number. When the player gets the number, the program will display the number of tries that the player used. A sample output is shown below.\n",
    "\n",
    "```\n",
    "  Enter your guess: 50\n",
    "  Too small\n",
    "  Enter your guess: 75\n",
    "  Too large\n",
    "  Enter your guess: 60\n",
    "  Too large\n",
    "  Enter your guess: 56\n",
    "  You've got it in 4 tries!\n",
    "```\n",
    " \n",
    "   **Verion B:** The player and the computer trade places. That is, the player picks a random number between 1 and 100 that the computer has to guess. Before you start, think about how the computer will guess.  \n",
    "Hint: you may use random.randint to generate random number from among numbers between two arguments, included.\n",
    "            \n"
   ]
  },
  {
   "cell_type": "code",
   "execution_count": null,
   "metadata": {},
   "outputs": [],
   "source": []
  },
  {
   "cell_type": "code",
   "execution_count": null,
   "metadata": {},
   "outputs": [],
   "source": []
  }
 ],
 "metadata": {
  "kernelspec": {
   "display_name": "Python 3",
   "language": "python",
   "name": "python3"
  },
  "language_info": {
   "codemirror_mode": {
    "name": "ipython",
    "version": 3
   },
   "file_extension": ".py",
   "mimetype": "text/x-python",
   "name": "python",
   "nbconvert_exporter": "python",
   "pygments_lexer": "ipython3",
   "version": "3.6.4"
  }
 },
 "nbformat": 4,
 "nbformat_minor": 2
}
