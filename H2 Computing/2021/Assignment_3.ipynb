{
 "cells": [
  {
   "cell_type": "markdown",
   "metadata": {},
   "source": [
    "1.\tThe factorial of an integer N is the product of all of the integers between 1 and N, inclusive. Write a program that computes the factorial of a given integer N. \n"
   ]
  },
  {
   "cell_type": "code",
   "execution_count": 26,
   "metadata": {},
   "outputs": [
    {
     "name": "stdout",
     "output_type": "stream",
     "text": [
      "The factorial of the integer N is 120\n"
     ]
    }
   ],
   "source": [
    "def fact(N):\n",
    "    if N == 1:\n",
    "       return N\n",
    "    else:\n",
    "       return N*fact(N-1)\n",
    "\n",
    "\n",
    "def main():\n",
    "    N = int(input(\"Key in an integer\"))\n",
    "    factorial = fact(N)\n",
    "    print(\"The factorial of the integer N is\", factorial)\n",
    "\n",
    "main()\n"
   ]
  },
  {
   "cell_type": "markdown",
   "metadata": {},
   "source": [
    "2.\tWrite a program that accepts the lengths of three sides of a triangle as inputs. \n",
    "The program output should indicate whether or not the triangle is an equilateral triangle."
   ]
  },
  {
   "cell_type": "code",
   "execution_count": 33,
   "metadata": {},
   "outputs": [
    {
     "name": "stdout",
     "output_type": "stream",
     "text": [
      "This triangle is not an equilateral triangle\n"
     ]
    }
   ],
   "source": [
    "def equi(sides):\n",
    "    if sides[0] == sides[1]:\n",
    "        if sides[1] == sides[2]:\n",
    "            return True\n",
    "        else:\n",
    "            return False\n",
    "    else:\n",
    "        return False\n",
    "\n",
    "\n",
    "def main():\n",
    "    sides = input(\"Enter the length of 3 sides of a triangle, separated by a comma\")\n",
    "    sides = sides.split(\",\")\n",
    "    same = equi(sides) #this variable tells us whether the triangle is equilateral or not\n",
    "    if same == True:\n",
    "        print(\"This triangle is an equilateral triangle\")\n",
    "    else:\n",
    "        print(\"This triangle is not an equilateral triangle\")\n",
    "\n",
    "main()\n"
   ]
  },
  {
   "cell_type": "markdown",
   "metadata": {},
   "source": [
    "3. Write a program that reads a word and print the numbe of letters in the word, the number of vowels in the word, and the percentage of vowels.\n",
    "\n",
    "  **Enter a word: sequoia**\n",
    "\n",
    "  **Letters:  7**\n",
    "\n",
    "  **Vowels:  5**\n",
    "\n",
    "  **Perentage of vowels:  71.43**\n"
   ]
  },
  {
   "cell_type": "code",
   "execution_count": 37,
   "metadata": {},
   "outputs": [
    {
     "name": "stdout",
     "output_type": "stream",
     "text": [
      "In the word 'sequoia', there are 7 letters and 5 vowels.\n",
      "The percentage of vowels is 71.43%\n"
     ]
    }
   ],
   "source": [
    "def vow(word):\n",
    "    num = 0\n",
    "    for i in word:\n",
    "        if i in \"aeiou\":\n",
    "            num = num + 1\n",
    "\n",
    "    return num\n",
    "\n",
    "def perc(letter,vowel):\n",
    "    percent = (vowel / letter) * 100\n",
    "    return percent\n",
    "\n",
    "\n",
    "\n",
    "def main():\n",
    "    word = input(\"Please input a word\")\n",
    "    let = len(word)\n",
    "    vowel = vow(word)\n",
    "    percent = perc(let, vowel)\n",
    "\n",
    "    print(f\"In the word '{word}', there are {let} letters and {vowel} vowels.\\nThe percentage of vowels is {percent:.2f}%\")\n",
    "\n",
    "main()"
   ]
  },
  {
   "cell_type": "markdown",
   "metadata": {},
   "source": [
    "4. Write a progam that inputs a positive integer n and then prints a rectangle of asterisks n lines high and 2n columns wide. For example, if the input is 5 then the output should be\n",
    "\n",
    "                      * * * * * * * * * *\n",
    "                      *                 *\n",
    "                      *                 *\n",
    "                      *                 *\n",
    "                      * * * * * * * * * *\n",
    "                      "
   ]
  },
  {
   "cell_type": "code",
   "execution_count": 49,
   "metadata": {},
   "outputs": [
    {
     "name": "stdout",
     "output_type": "stream",
     "text": [
      "* * * * * * * * * * \n",
      "*                 * \n",
      "*                 * \n",
      "*                 * \n",
      "* * * * * * * * * * \n"
     ]
    }
   ],
   "source": [
    "def box(n):\n",
    "    ast = \"* \" # ast stands for asterisks\n",
    "    for i in range(1, n+1):\n",
    "        if (i == 1) or (i == n):\n",
    "            border = ast * 2 * n\n",
    "            print (border)\n",
    "            \n",
    "        else:\n",
    "            blank = \"  \" * ((2 * n) - 2)\n",
    "            print(ast + blank + ast)\n",
    "\n",
    "def main():\n",
    "    n = int(input(\"Key in a positive integer\"))\n",
    "    box(n)\n",
    "\n",
    "main()"
   ]
  },
  {
   "cell_type": "markdown",
   "metadata": {},
   "source": [
    "5. The sum of the divisors of the number 15 is 24 (= 1 + 3 + 5 + 15). Write a program that will print the sum of the divisors for each of the integers from 100 to 110. The final line of the printout should state which integer has the largest sum. Format the output as follows:\n",
    "\n",
    "```\n",
    "100:  1   2   4   5   10  20  25  50  100\n",
    "sum of divisors 217\n",
    ".\n",
    ".\n",
    ".\n",
    "110:  1   2   5   10  11  22  55  110\n",
    "sum of divisors ________\n",
    "\n",
    "________ has maximum sum of divisors\n",
    "```\n",
    "  \n"
   ]
  },
  {
   "cell_type": "code",
   "execution_count": 36,
   "metadata": {},
   "outputs": [
    {
     "name": "stdout",
     "output_type": "stream",
     "text": [
      "100: [1, 2, 4, 5, 10, 20, 25, 50, 100]\n",
      "sum of divisors 217\n",
      "101: [1, 101]\n",
      "sum of divisors 102\n",
      "102: [1, 2, 3, 6, 17, 34, 51, 102]\n",
      "sum of divisors 216\n",
      "103: [1, 103]\n",
      "sum of divisors 104\n",
      "104: [1, 2, 4, 8, 13, 26, 52, 104]\n",
      "sum of divisors 210\n",
      "105: [1, 3, 5, 7, 15, 21, 35, 105]\n",
      "sum of divisors 192\n",
      "106: [1, 2, 53, 106]\n",
      "sum of divisors 162\n",
      "107: [1, 107]\n",
      "sum of divisors 108\n",
      "108: [1, 2, 3, 4, 6, 9, 12, 18, 27, 36, 54, 108]\n",
      "sum of divisors 280\n",
      "109: [1, 109]\n",
      "sum of divisors 110\n",
      "110: [1, 2, 5, 10, 11, 22, 55, 110]\n",
      "sum of divisors 216\n",
      "108 has the maximum sum of divisors\n"
     ]
    }
   ],
   "source": [
    "def div(n):\n",
    "    sum = 0\n",
    "    factor = []\n",
    "    for i in range(1,n+1):\n",
    "        # factor array will hold the divisors for n \n",
    "        if (n % i) == 0:\n",
    "            sum = sum + i\n",
    "            factor.append(i)\n",
    "    print(f\"{n}: {factor}\\nsum of divisors {sum}\")\n",
    "\n",
    "    return sum\n",
    "\n",
    "def maxi(dict):\n",
    "    max = 0\n",
    "    max_num = 0\n",
    "    for k,v in dict.items(): # k,v stands for key, value\n",
    "        if int(v) > max:\n",
    "            max = int(v)\n",
    "        \n",
    "    for k,v in dict.items():\n",
    "        if int(v) == max:\n",
    "            max_num = k\n",
    "\n",
    "    return max_num\n",
    "\n",
    "\n",
    "\n",
    "def main():\n",
    "    all_sum = {}\n",
    "    for n in range(100,110+1):\n",
    "        all_sum.update({f\"{n}\": f\"{div(n)}\"})\n",
    "\n",
    "    max_num = maxi(all_sum)\n",
    "\n",
    "    print(f\"{max_num} has the maximum sum of divisors\")\n",
    "\n",
    "\n",
    "main()\n"
   ]
  },
  {
   "cell_type": "markdown",
   "metadata": {},
   "source": [
    "6. In the game of Lucky Sevens, the player rolls a pair of dice. If the dots add up to 7, the \tplayer wins ```$4```; otherwise, the player loses $1. Suppose that a casino tells player that there are lots of ways to win: (1, 6), (2, 5), etc. Write a program that takes as input the\tamount of money that the player wants to put into the pot, and play the game until the pot is empty. At that point, the program should print the number of rolls it took to break the player, as well as maximum amount of money in the pot."
   ]
  },
  {
   "cell_type": "code",
   "execution_count": null,
   "metadata": {},
   "outputs": [],
   "source": []
  },
  {
   "cell_type": "markdown",
   "metadata": {},
   "source": [
    "7.\t**Guess My Number Game (Design the program for both versions)**\n",
    "\n",
    "   __Version A:__ the computer picks a random number between 1 and 100 that the player has to guess. For each guess, the computer must tell the player if the number is too small or too large for the actual number. When the player gets the number, the program will display the number of tries that the player used. A sample output is shown below.\n",
    "\n",
    "```\n",
    "  Enter your guess: 50\n",
    "  Too small\n",
    "  Enter your guess: 75\n",
    "  Too large\n",
    "  Enter your guess: 60\n",
    "  Too large\n",
    "  Enter your guess: 56\n",
    "  You've got it in 4 tries!\n",
    "```\n",
    " \n",
    "   **Verion B:** The player and the computer trade places. That is, the player picks a random number between 1 and 100 that the computer has to guess. Before you start, think about how the computer will guess.  \n",
    "Hint: you may use random.randint to generate random number from among numbers between two arguments, included.\n",
    "            \n"
   ]
  },
  {
   "cell_type": "code",
   "execution_count": null,
   "metadata": {},
   "outputs": [],
   "source": []
  },
  {
   "cell_type": "code",
   "execution_count": null,
   "metadata": {},
   "outputs": [],
   "source": []
  }
 ],
 "metadata": {
  "interpreter": {
   "hash": "f7291e4b392a32fbfa525b87d1bbd0a3d888adf3d0deca0c205c61b9e7284b82"
  },
  "kernelspec": {
   "display_name": "Python 3.6.4 64-bit",
   "name": "python3"
  },
  "language_info": {
   "codemirror_mode": {
    "name": "ipython",
    "version": 3
   },
   "file_extension": ".py",
   "mimetype": "text/x-python",
   "name": "python",
   "nbconvert_exporter": "python",
   "pygments_lexer": "ipython3",
   "version": "3.6.4"
  }
 },
 "nbformat": 4,
 "nbformat_minor": 2
}
