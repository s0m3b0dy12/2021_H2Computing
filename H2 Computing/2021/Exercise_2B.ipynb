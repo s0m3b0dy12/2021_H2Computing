{
 "cells": [
  {
   "cell_type": "markdown",
   "metadata": {},
   "source": [
    "__Q1.__ Write a program that asks user to enter his or her name, The program should respond with a message that says hello to the user, using his or her name."
   ]
  },
  {
   "cell_type": "code",
   "execution_count": 1,
   "metadata": {},
   "outputs": [
    {
     "name": "stdout",
     "output_type": "stream",
     "text": [
      "Hello Nic\n"
     ]
    }
   ],
   "source": [
    "name = input(\"Please enter your name\")\n",
    "print(\"Hello\", name)"
   ]
  },
  {
   "cell_type": "markdown",
   "metadata": {},
   "source": [
    "__Q2.__ Create a program that reads two integers, *__a__* and *__b__*, from the user.Your program should compute and display:\n",
    "\n",
    "* The product of *__a__* and *__b__*\n",
    "* The quotient when *__a__* is divided by *__b__*\n",
    "* The remainder when *__a__* is divided by *__b__*\n",
    "* The result of *__a__* to the power of *__b__*\n",
    "* The result of log10*__a__*\n",
    "\n",
    "\n"
   ]
  },
  {
   "cell_type": "code",
   "execution_count": 7,
   "metadata": {},
   "outputs": [
    {
     "name": "stdout",
     "output_type": "stream",
     "text": [
      "a and b are 10 and 2 respectively\n",
      "Product of a and b is 20\n",
      "Quotient of a divided by b is 5.0\n",
      "Remainder when a is divided by b is 0\n",
      "Power of a to b is 100\n",
      "The result of log10(a) is 1.0\n"
     ]
    }
   ],
   "source": [
    "import math\n",
    "a = int(input(\"Please key in an integer, a: \"))\n",
    "b = int(input(\"Please key in an integer, b: \"))\n",
    "\n",
    "prod = a * b\n",
    "quo = a / b\n",
    "remain = a % b\n",
    "power = a ** b\n",
    "log = math.log10(a)\n",
    "\n",
    "print(f\"a and b are {a} and {b} respectively\")\n",
    "print(\"Product of a and b is\", prod)\n",
    "print(\"Quotient of a divided by b is\", quo)\n",
    "print(\"Remainder when a is divided by b is\", remain)\n",
    "print(\"Power of a to b is\", power)\n",
    "print(\"The result of log10(a) is\", log)\n",
    "\n",
    "\n",
    "    \n"
   ]
  },
  {
   "cell_type": "markdown",
   "metadata": {},
   "source": [
    "__Q3.__ Write a program that reads three integers from the user and display them in sorted order (from smallest to largest).  Use the **min** and **max** functions to find the smallest and largest values. The middle value can be found by computing the sum of all three values, and then subtracting the minimum value and the maximum value.\n"
   ]
  },
  {
   "cell_type": "code",
   "execution_count": 29,
   "metadata": {},
   "outputs": [
    {
     "name": "stdout",
     "output_type": "stream",
     "text": [
      "Sorted list is:  ['4', '7', '9']\n",
      "Max number is 9, min number is 4\n"
     ]
    }
   ],
   "source": [
    "nums = input(\"Key in 3 integers separated by a comma\")\n",
    "nums = nums.split(\",\")\n",
    "nums.sort()\n",
    "\n",
    "#Initiate\n",
    "min = nums[0]\n",
    "max = nums[0]\n",
    "total = 0 \n",
    "\n",
    "#Program\n",
    "for i in nums:\n",
    "    total = total + int(i)\n",
    "    if i < min:\n",
    "        min = i\n",
    "    elif i > max:\n",
    "        max = i\n",
    "\n",
    "print(\"Sorted list is: \", nums)\n",
    "print(f\"Max number is {max}, min number is {min}\")\n",
    "\n",
    "\n",
    "\n"
   ]
  },
  {
   "cell_type": "markdown",
   "metadata": {},
   "source": [
    "**Q4.** A bakery sells loaves of bread for $3.50 each. Day old bread is discounted by 60 percent. Write a program that begins by reading the number of loaves of day old bread being purchased from the user. Then your program should display the regular price for the bread, the discount because it is a day old, and the total price.\n",
    "\n",
    "All of the values should be displayed using two decimal places, and the decimal points in all of the numbers should be aligned when reasonable values are entered by the user."
   ]
  },
  {
   "cell_type": "code",
   "execution_count": 51,
   "metadata": {},
   "outputs": [
    {
     "name": "stdout",
     "output_type": "stream",
     "text": [
      "Item              Qty  Price\n",
      "==============================\n",
      "Day old bread     5    $17.50\n",
      "Discount              -$ 7.00\n",
      "==============================\n",
      "Total                  $10.50\n"
     ]
    }
   ],
   "source": [
    "bread = 3.5\n",
    "\n",
    "num = int(input(\"Key in the number of loaves of day old bread: \"))\n",
    "total = num * bread \n",
    "disc_price = 0.4 * num * bread\n",
    "disc = 0.6 * num * bread\n",
    "\n",
    "print (f\"{'Item':<18}{'Qty':<5}{'Price'}\")\n",
    "print(\"=\" * 30)\n",
    "print(f\"{'Day old bread':<10}{num:>6}{'$':>5}{total:.2f}\")\n",
    "print(f\"{'Discount'}{'-$':>16} {disc_price:.2f}\")\n",
    "print(\"=\" * 30)\n",
    "print(f\"Total{'$':>19}{disc:.2f}\")"
   ]
  },
  {
   "cell_type": "code",
   "execution_count": null,
   "metadata": {},
   "outputs": [],
   "source": []
  }
 ],
 "metadata": {
  "interpreter": {
   "hash": "f7291e4b392a32fbfa525b87d1bbd0a3d888adf3d0deca0c205c61b9e7284b82"
  },
  "kernelspec": {
   "display_name": "Python 3.6.4 64-bit",
   "name": "python3"
  },
  "language_info": {
   "codemirror_mode": {
    "name": "ipython",
    "version": 3
   },
   "file_extension": ".py",
   "mimetype": "text/x-python",
   "name": "python",
   "nbconvert_exporter": "python",
   "pygments_lexer": "ipython3",
   "version": "3.6.4"
  }
 },
 "nbformat": 4,
 "nbformat_minor": 2
}
