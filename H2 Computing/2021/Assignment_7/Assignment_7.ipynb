{
 "cells": [
  {
   "cell_type": "markdown",
   "metadata": {},
   "source": [
    "1.  Write a program that compute the median and mode of a set of numbers. It reads a list of numbers from a text file **q1.txt** and print their median and mode. \n",
    "\n"
   ]
  },
  {
   "cell_type": "code",
   "execution_count": 71,
   "metadata": {},
   "outputs": [
    {
     "name": "stdout",
     "output_type": "stream",
     "text": [
      "Median:  4.5\n",
      "Mode:  7 \n"
     ]
    }
   ],
   "source": [
    "f = open(\"q1.txt\", \"r\")\n",
    "num = []\n",
    "mid = 0\n",
    "freq_num = {}\n",
    "max = 0\n",
    "modes = \"\"\n",
    "\n",
    "for line in f:\n",
    "    line = line.strip().split()\n",
    "    for i in line:\n",
    "        num.append(int(i))\n",
    "        if i in freq_num:\n",
    "            freq_num[i] += 1\n",
    "        else:\n",
    "            freq_num[i] = 1\n",
    "\n",
    "num.sort()\n",
    "if len(num)%2 == 1:\n",
    "    mid = num[len(num)//2]\n",
    "else:\n",
    "    mid = (num[len(num)//2] + num[(len(num)//2) -1])/2\n",
    "\n",
    "print(\"Median: \", mid)\n",
    "\n",
    "\n",
    "for k,v in freq_num.items():\n",
    "    if v > max:\n",
    "        max = v\n",
    "\n",
    "for k,v in freq_num.items():\n",
    "\n",
    "    if v == max:\n",
    "        modes = modes + k + \" \"\n",
    "\n",
    "print(\"Mode: \", modes)"
   ]
  },
  {
   "cell_type": "markdown",
   "metadata": {},
   "source": [
    "2.   Write a program that allows the user to navigate the lines of text in a file. The program should prompt the user for a filename and input the lines of text into a list. The program then prints the number of lines in the file and prompts the user for a line number. Actual line numbers range from 1 to the number of lines in the file, If the input is zero, the program quits. Otherwise, the program prints the line associated with that number. Use **q2.txt** to test your program.\n",
    "\n"
   ]
  },
  {
   "cell_type": "code",
   "execution_count": 72,
   "metadata": {},
   "outputs": [
    {
     "name": "stdout",
     "output_type": "stream",
     "text": [
      "This is the second line.\n",
      "This is the first line.\n",
      "Terminated\n"
     ]
    }
   ],
   "source": [
    "file_name = \"q2.txt\"\n",
    "q2_file = open(file_name, \"r\")\n",
    "all_lines = []\n",
    "for row in q2_file:\n",
    "    row = row.strip()\n",
    "    all_lines.append(row)\n",
    "no = int(input(\"Input a line number or '0' to quit: \"))\n",
    "while no != 0 and no in range(len(all_lines)):\n",
    "    print(all_lines[no-1])\n",
    "    no = int(input(\"Input a line number or '0' to quit: \"))\n",
    "print(\"Terminated\")\n",
    "\n",
    "f.close()"
   ]
  },
  {
   "cell_type": "markdown",
   "metadata": {},
   "source": [
    "3.\tA file, **q3.txt**, contains words separated by newlines. \n",
    "\n",
    "(a)\tWrite a program that print all of the unique words in the file in alphabetical order\n",
    "\n",
    "(b)\tWrite a program that output the unique words and their frequencies in alphabetical order\n",
    "\n",
    "(c)\tWrite a program that output the most frequent word(s) in alphabetical order\n",
    "\n"
   ]
  },
  {
   "cell_type": "code",
   "execution_count": 89,
   "metadata": {},
   "outputs": [
    {
     "name": "stdout",
     "output_type": "stream",
     "text": [
      "{'man': 1, 'chased': 2, 'the': 2, 'cow': 2, 'dog': 1}\n",
      "(a)\n",
      "Unique words sorted in alphabetical order:\n",
      "chased\n",
      "cow\n",
      "dog\n",
      "man\n",
      "the\n",
      "\n",
      "(b)\n",
      "Outputs unique words and their frequencies in alphabetical order\n",
      "chased : 2\n",
      "cow : 2\n",
      "dog : 1\n",
      "man : 1\n",
      "the : 2\n",
      "\n",
      "(c)Outputs the most frequent words in alphabetical order\n",
      "chased : 2\n",
      "the : 2\n",
      "cow : 2\n",
      "man : 1\n",
      "dog : 1\n"
     ]
    }
   ],
   "source": [
    "f = open(\"q3.txt\", \"r\")\n",
    "unique = {}\n",
    "alpha = []\n",
    "\n",
    "# Create dictionary for unique words in the file\n",
    "for line in f:\n",
    "    line = line.strip()\n",
    "    if line in unique:\n",
    "        unique[line]+=1\n",
    "    else:\n",
    "        unique[line]=1\n",
    "\n",
    "print(unique)\n",
    "# Create list that sorts unique words in file by alphabetical order\n",
    "for k,v in unique.items():\n",
    "    alpha.append(k)\n",
    "    alpha.sort()\n",
    "\n",
    "print(\"(a)\\nUnique words sorted in alphabetical order:\")\n",
    "for i in alpha:\n",
    "    print(i)\n",
    "\n",
    "# Output unique words and frequencies in alphabetical order\n",
    "print(\"\\n(b)\\nOutputs unique words and their frequencies in alphabetical order\")\n",
    "for i in alpha:\n",
    "    print(i, \":\", unique[f\"{i}\"])\n",
    "\n",
    "# Outputs the most frequent words in alphabetical order\n",
    "maxi = 0\n",
    "\n",
    "print(\"\\n(c)Outputs the most frequent words in alphabetical order\")\n",
    "for k,v in unique.items():\n",
    "    if v >= maxi:\n",
    "        maxi = v\n",
    "\n",
    "while maxi >=0:\n",
    "    for k,v in unique.items():\n",
    "        if v == maxi:\n",
    "            print(k, \":\", v)\n",
    "    maxi-=1"
   ]
  },
  {
   "cell_type": "code",
   "execution_count": 73,
   "outputs": [],
   "source": [],
   "metadata": {
    "collapsed": false,
    "pycharm": {
     "name": "#%%\n"
    }
   }
  }
 ],
 "metadata": {
  "kernelspec": {
   "display_name": "Python 3",
   "language": "python",
   "name": "python3"
  },
  "language_info": {
   "codemirror_mode": {
    "name": "ipython",
    "version": 3
   },
   "file_extension": ".py",
   "mimetype": "text/x-python",
   "name": "python",
   "nbconvert_exporter": "python",
   "pygments_lexer": "ipython3",
   "version": "3.6.4"
  }
 },
 "nbformat": 4,
 "nbformat_minor": 2
}