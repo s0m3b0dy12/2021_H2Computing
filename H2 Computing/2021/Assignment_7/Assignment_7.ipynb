{
 "cells": [
  {
   "cell_type": "markdown",
   "metadata": {},
   "source": [
    "1.  Write a program that compute the median and mode of a set of numbers. It reads a list of numbers from a text file **q1.txt** and print their median and mode. \n",
    "\n"
   ]
  },
  {
   "cell_type": "code",
   "execution_count": 32,
   "metadata": {},
   "outputs": [
    {
     "name": "stdout",
     "output_type": "stream",
     "text": [
      "Median:  4.5\n",
      "Mode:  7\n"
     ]
    }
   ],
   "source": [
    "f = open(\"q1.txt\", \"r\")\n",
    "num = []\n",
    "mid = 0\n",
    "freq_num = {}\n",
    "for line in f:\n",
    "    line = line.strip().split()\n",
    "    for i in line:\n",
    "        num.append(int(i))\n",
    "        if i in freq_num:\n",
    "            freq_num[i] += 1\n",
    "        else:\n",
    "            freq_num[i] = 1\n",
    "\n",
    "num.sort()\n",
    "if len(num)%2 == 1:\n",
    "    mid = num[len(num)//2]\n",
    "else:\n",
    "    mid = (num[len(num)//2] + num[(len(num)//2) -1])/2\n",
    "\n",
    "print(\"Median: \", mid)\n",
    "\n",
    "max = 0\n",
    "for k,v in freq_num.items():\n",
    "    if v > max:\n",
    "        max = v\n",
    "\n",
    "for k,v in freq_num.items():\n",
    "    if v == max:\n",
    "        print(\"Mode: \", k)\n"
   ]
  },
  {
   "cell_type": "markdown",
   "metadata": {},
   "source": [
    "2.   Write a program that allows the user to navigate the lines of text in a file. The program should prompt the user for a filename and input the lines of text into a list. The program then prints the number of lines in the file and prompts the user for a line number. Actual line numbers range from 1 to the number of lines in the file, If the input is zero, the program quits. Otherwise, the program prints the line associated with that number. Use **q2.txt** to test your program.\n",
    "\n"
   ]
  },
  {
   "cell_type": "code",
   "execution_count": null,
   "metadata": {},
   "outputs": [],
   "source": []
  },
  {
   "cell_type": "markdown",
   "metadata": {},
   "source": [
    "3.\tA file, **q3.txt**, contains words separated by newlines. \n",
    "\n",
    "(a)\tWrite a program that print all of the unique words in the file in alphabetical order\n",
    "\n",
    "(b)\tWrite a program that output the unique words and their frequencies in alphabetical order\n",
    "\n",
    "(c)\tWrite a program that output the most frequent word(s) in alphabetical order\n",
    "\n"
   ]
  },
  {
   "cell_type": "code",
   "execution_count": null,
   "metadata": {},
   "outputs": [],
   "source": []
  }
 ],
 "metadata": {
  "kernelspec": {
   "display_name": "Python 3",
   "language": "python",
   "name": "python3"
  },
  "language_info": {
   "codemirror_mode": {
    "name": "ipython",
    "version": 3
   },
   "file_extension": ".py",
   "mimetype": "text/x-python",
   "name": "python",
   "nbconvert_exporter": "python",
   "pygments_lexer": "ipython3",
   "version": "3.6.4"
  }
 },
 "nbformat": 4,
 "nbformat_minor": 2
}