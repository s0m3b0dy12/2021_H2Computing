{
 "cells": [
  {
   "cell_type": "code",
   "execution_count": 2,
   "metadata": {},
   "outputs": [],
   "source": [
    "def swap(A, i, j):\n",
    "# interchange the values of A[i] and A[j]\n",
    "    temp = A[i]      \n",
    "    A[i] = A[j]     \n",
    "    A[j] = temp\n",
    "\n",
    "                \n",
    "def printList(A, n):\n",
    "# print each value of the n-element list (A[0], . . ., A[n-1]) \n",
    "    for i in range(0, n):\n",
    "        print (A[i], end = ' ')\n",
    "    print ()\n"
   ]
  },
  {
   "cell_type": "markdown",
   "metadata": {},
   "source": [
    "**quick sort partition algorithm** \n",
    "1.\tChoose a pivot (assume 1st item)\n",
    "2.\tCreate a left reference, pointing to the element at the lowest index  (not pivot)\n",
    "3.\tCreate a right reference, pointing to the element at highest index\n",
    "4.\tWhile left reference is less than or equal to the pivot, move the pointer one element to the right. While right reference is greater than pivot, move the pointer one element to the left.\n",
    "5.\tIf **both** left reference is greater than pivot **AND** right reference is smaller than pivot, swap the elements at the two references.\n",
    "6.\tOnce the index of the left reference is greater than the index of the right reference, swap the pivot with the element at the right reference.\n"
   ]
  },
  {
   "cell_type": "markdown",
   "metadata": {},
   "source": [
    "1 (a) For the following array A, use **quick sort** algorithm to sort the elements in ascending order. Select a pivot from the midpoint in the array. During each pass, list all exchanges that will move a corrseponding pair of elements in the lower and upper sublist and list the ordering of elements after each pass.\n",
    "```\n",
    "________________________________________________\n",
    "|  i  |  0  |  1  |  2  |  3  |  4  |  5  |  6  |\n",
    "|-----|-----|-----|-----|-----|-----|-----|-----|\n",
    "|A[i] |  6  |  7  |  4  |  3  |  2  |  8  |  5  |\n",
    "|_____|_____|_____|_____|_____|_____|_____|_____|\n",
    "```"
   ]
  },
  {
   "cell_type": "code",
   "execution_count": null,
   "metadata": {},
   "outputs": [],
   "source": []
  },
  {
   "cell_type": "markdown",
   "metadata": {},
   "source": [
    "1 (b) Write a function to implement the quick sort partition algorithm.\n",
    "\n",
    "**def partition_1(A, low, high):**\n",
    "```\n",
    "# split the list (A[low], . . , A[high]) into two sublists\n",
    "# rearranges the list so that the pivot is properly positioned at A[pos]\n",
    "# returns the final position of pivot\n",
    "```\n"
   ]
  },
  {
   "cell_type": "code",
   "execution_count": null,
   "metadata": {},
   "outputs": [],
   "source": [
    "def partition_1 (A, low, high):\n",
    "# split the list (A[low], . . , A[high]) into two sublists\n",
    "# rearranges the list so that the pivot is properly positioned at A[pos]\n",
    "# returns the final position of pivot\n",
    "      \n",
    "    \n",
    "      .\n",
    "      .  \n",
    "\n",
    "\n",
    "  \n",
    "    \n",
    "    \n",
    "    \n",
    "    \n",
    "def quickSort(A, low, high):\n",
    "# sort array elements A[low], . . ., A[high] using quick sort algorithm\n",
    "\n",
    "    if low < high:                   # list has more than one element\n",
    "        pos = partition_1(A, low, high)    # split into two sublists; pos is the final position of pivot\n",
    "        quickSort(A, low, pos-1)     # sort left sublist\n",
    "        quickSort(A, pos+1, high)    # sort right sublist\n",
    "   \n",
    "    # else list has 0 or 1 element and requires no sorting\n",
    "\n",
    "    \n",
    "def main():     \n",
    "    A = [38, 58, 13, 15, 51, 27, 10, 19, 12, 86, 49, 67, 84, 60, 25]\n",
    "    n = len(A)\n",
    "    \n",
    "    print (\"Original List: \")\n",
    "    printList(A, n)\n",
    "\n",
    "    quickSort(A, 0, n-1)\n",
    "\n",
    "    print (\"Sorted List: \")\n",
    "    printList (A, n)\n",
    "\n",
    "main()\n"
   ]
  },
  {
   "cell_type": "markdown",
   "metadata": {},
   "source": [
    "2 (a)  **Sequential quick sort partition**\n",
    "       https://www.youtube.com/watch?v=COk73cpQbFQ\n",
    "```\n",
    "```\n",
    "For the following array A, use **quick sort** algorithm to sort the elements in ascending order. Select the last element as the pivot. During each pass, list all exchanges that will move a corrseponding pair of elements in the lower and upper sublist and list the ordering of elements after each pass.\n",
    "```\n",
    "________________________________________________\n",
    "|  i  |  0  |  1  |  2  |  3  |  4  |  5  |  6  |\n",
    "|-----|-----|-----|-----|-----|-----|-----|-----\n",
    "|A[i] |  6  |  7  |  4  |  3  |  2  |  8  |  5  |\n",
    "|_____|_____|_____|_____|_____|_____|_____|_____|\n",
    "```"
   ]
  },
  {
   "cell_type": "code",
   "execution_count": null,
   "metadata": {},
   "outputs": [],
   "source": []
  },
  {
   "cell_type": "markdown",
   "metadata": {},
   "source": [
    "2 (b) Write a function to implement the **sequential quick sort partition** algorithm.\n",
    "\n",
    "**def partition_2(A, low, high):**\n",
    "```\n",
    "# split the list (A[low], . . , A[high]) into two sublists\n",
    "# rearranges the list so that the pivot is properly positioned at A[pos]\n",
    "# returns the final position of pivot\n",
    "```"
   ]
  },
  {
   "cell_type": "code",
   "execution_count": null,
   "metadata": {},
   "outputs": [],
   "source": [
    "def partition_2 (A, low, high):\n",
    "# split the list (A[low], . . , A[high]) into two sublists\n",
    "# rearranges the list so that the pivot is properly positioned at A[pos]\n",
    "# returns the final position of pivot\n",
    "\n",
    "    .\n",
    "    .\n",
    "    .\n",
    "    .\n",
    "\n",
    "    \n",
    "    \n",
    "    \n",
    "    \n",
    "def quickSort(A, low, high):\n",
    "# sort array elements A[low], . . ., A[high] using quick sort algorithm\n",
    "\n",
    "    if low < high:                   # list has more than one element\n",
    "        pos = partition_2(A, low, high)    # split into two sublists; pos is the final position of pivot\n",
    "        quickSort(A, low, pos-1)     # sort left sublist\n",
    "        quickSort(A, pos+1, high)    # sort right sublist\n",
    "   \n",
    "    # else list has 0 or 1 element and requires no sorting\n",
    "\n",
    "    \n",
    "def main():     \n",
    "    A = [38, 58, 13, 15, 51, 27, 10, 19, 12, 86, 49, 67, 84, 60, 25]\n",
    "    n = len(A)\n",
    "    \n",
    "    print (\"Original List: \")\n",
    "    printList(A, n)\n",
    "\n",
    "    quickSort(A, 0, n-1)\n",
    "\n",
    "    print (\"Sorted List: \")\n",
    "    printList (A, n)\n",
    "\n",
    "main()\n"
   ]
  }
 ],
 "metadata": {
  "kernelspec": {
   "display_name": "Python 3",
   "language": "python",
   "name": "python3"
  },
  "language_info": {
   "codemirror_mode": {
    "name": "ipython",
    "version": 3
   },
   "file_extension": ".py",
   "mimetype": "text/x-python",
   "name": "python",
   "nbconvert_exporter": "python",
   "pygments_lexer": "ipython3",
   "version": "3.6.4"
  }
 },
 "nbformat": 4,
 "nbformat_minor": 2
}
