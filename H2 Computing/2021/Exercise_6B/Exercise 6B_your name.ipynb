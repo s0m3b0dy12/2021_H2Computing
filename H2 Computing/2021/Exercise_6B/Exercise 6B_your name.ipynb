{
 "cells": [
  {
   "cell_type": "markdown",
   "source": [
    "1 Given a file named **text.txt**. The text that is in the file is stored as one sentence per line.\n",
    "\n",
    "Write a program that reads the file’s contents and calculates the average number of words per sentence.\n",
    "(ans: 26.0)"
   ],
   "metadata": {
    "collapsed": false
   }
  },
  {
   "cell_type": "code",
   "execution_count": 8,
   "metadata": {},
   "outputs": [
    {
     "name": "stdout",
     "output_type": "stream",
     "text": [
      "Average number of words per sentence is 26.0\n"
     ]
    }
   ],
   "source": [
    "file = open(\"text.txt\", \"r\")\n",
    "total = 0\n",
    "num_lines = 0\n",
    "text_len = []\n",
    "for line in file:\n",
    "    num_lines+=1\n",
    "    line = line.strip().split()\n",
    "    total+=len(line)\n",
    "\n",
    "avg = total/num_lines\n",
    "print(\"Average number of words per sentence is\", avg)\n",
    "file.close()"
   ]
  },
  {
   "cell_type": "markdown",
   "metadata": {},
   "source": [
    "2  Using the same file **text.txt** in question 1, write a program that reads the file’s contents and determines the following:\n",
    " \n",
    "* The number of uppercase letters in the file  (ans: 29)\n",
    "* The number of lowercase letters in the file  (ans: 1228)\n",
    "* The number of digits in the file             (ans: 30) \n",
    "* The number of whitespace characters in the file (ans:260)\n",
    "\n"
   ]
  },
  {
   "cell_type": "code",
   "execution_count": 10,
   "metadata": {},
   "outputs": [
    {
     "name": "stdout",
     "output_type": "stream",
     "text": [
      "The number of uppercase letters in the file is:  29\n",
      "The number of lowercase letters in the file is:  1228\n",
      "The number of digits in the file is:  30\n",
      "The number of whitespace characters in the file is:  260\n"
     ]
    }
   ],
   "source": [
    "up = 0\n",
    "low = 0\n",
    "dig = 0\n",
    "white = 0\n",
    "\n",
    "file = open(\"text.txt\", \"r\")\n",
    "\n",
    "for line in file:\n",
    "    for i in line:\n",
    "        if i.isupper():\n",
    "            up+=1\n",
    "        elif i.islower():\n",
    "            low+=1\n",
    "        elif i.isdigit():\n",
    "            dig+=1\n",
    "        elif i.isspace():\n",
    "            white+=1\n",
    "\n",
    "print(\"The number of uppercase letters in the file is: \", up)\n",
    "print(\"The number of lowercase letters in the file is: \", low)\n",
    "print(\"The number of digits in the file is: \", dig)\n",
    "print(\"The number of whitespace characters in the file is: \", white)\n",
    "\n",
    "file.close()"
   ]
  },
  {
   "cell_type": "markdown",
   "metadata": {},
   "source": [
    "3  The file **words1.txt** store a list of single word computing terms used in a text book.\n",
    "\n",
    "Each entry has the following format:\n",
    "```\n",
    "<computing term>\n",
    "<number>\n",
    "``` \n",
    "One of the entries is:\n",
    "```\n",
    "program\n",
    "52```\n",
    "This means that after a complete scan of the texbook the word ```program``` was found ```52``` times. \n",
    "Write a program code to find and output the term with the highest number of occurrences.  (ans: computing  75)\n",
    "\n",
    "[9]\n"
   ]
  },
  {
   "cell_type": "code",
   "execution_count": 93,
   "metadata": {},
   "outputs": [
    {
     "name": "stdout",
     "output_type": "stream",
     "text": [
      "The term with the highest number of occurrences is: 'computing'. It appeared  75 times\n"
     ]
    }
   ],
   "source": [
    "f = open(\"words1.txt\", \"r\")\n",
    "maxi = 0\n",
    "text = {}\n",
    "holder = \"\"\n",
    "num = False\n",
    "for line in f:\n",
    "    line = line.strip()\n",
    "    if num:\n",
    "        line = int(line)\n",
    "        if line > maxi:\n",
    "            maxi = line\n",
    "        text.update({f\"{holder}\": line})\n",
    "        num = False\n",
    "    else:\n",
    "        holder = line\n",
    "        num = True\n",
    "\n",
    "\n",
    "for k,v in text.items():\n",
    "    if v == maxi:\n",
    "        print(f\"The term with the highest number of occurrences is: '{k}'. It appeared \",maxi,\"times\")\n",
    "\n",
    "f.close()"
   ]
  },
  {
   "cell_type": "markdown",
   "metadata": {},
   "source": [
    "4(a)  A librarian wishes to keep records of the books held in the library. Each book has the following data recorded:\n",
    "\n",
    "* **CatalogueNo** is used to identify a particular book and is five digits\n",
    "* **Title** represents the title of the book and is at most 25 characters\n",
    "* **Format** is a single character and is used to indicate whether the book is of standard size(```S```) or  paperback (```P```)\n",
    "\n",
    "Write a program to allow the user to enter and store data into a text file named **books.txt**. The file has the following structure:\n",
    "```\n",
    "<NumberOfBooks>\n",
    "<CatalogueNo><Title><Format>\n",
    "<CatalogueNO><Title><Format>\n",
    "............................\n",
    "<CatalogueNO><Title><Format>\n",
    "```\n",
    "**NumberOfBooks** is the number of books in the file e.g. ```3```.\n"
   ]
  },
  {
   "cell_type": "code",
   "execution_count": 92,
   "metadata": {},
   "outputs": [],
   "source": [
    "file = open(\"books.txt\", \"w\")\n",
    "books_num = 3\n",
    "file.write(f\"{books_num}\\n\")\n",
    "for i in range(books_num):\n",
    "    cat_no = input(\"Input catalogue number: \")\n",
    "    title = input(\"Input title of the book\")\n",
    "    form = (input(\"Input format of the book\")).upper()\n",
    "    file.write(f\"{cat_no:<6}{title:25}{form:>2}\\n\")\n",
    "\n",
    "file.close()"
   ]
  },
  {
   "cell_type": "markdown",
   "metadata": {},
   "source": [
    "4(b) Write a program to read the data from **books.txt** in 4(a) and display them in the following format:\n",
    "\n",
    "```\n",
    "Number of books: 3\n",
    "No  Catalogue  Title                   Format\n",
    "1   20200      The C++ Workbook        S\n",
    "2   20223      Practical Programming   P\n",
    "3   20210      The Mega Pioneers       S\n",
    "```\n"
   ]
  },
  {
   "cell_type": "code",
   "execution_count": 112,
   "metadata": {},
   "outputs": [
    {
     "name": "stdout",
     "output_type": "stream",
     "text": [
      "Number of books:  3\n",
      "\n",
      "No  Catalogue      Title                     Format\n",
      "1   20200          The C++ Workbook          S             \n",
      "2   20223          Practical Programming     P             \n",
      "3   20210          The Mega Pioneers         S             \n"
     ]
    }
   ],
   "source": [
    "file = open(\"books.txt\", \"r\")\n",
    "first_line = True\n",
    "row = 1\n",
    "for line in file:\n",
    "    if first_line:\n",
    "        print(\"Number of books: \", line)\n",
    "        first_line = False\n",
    "        print(f\"{'No':<4}{'Catalogue':<15}{'Title':<26}{'Format'}\")\n",
    "    else:\n",
    "        line = line.strip()\n",
    "        print(f\"{row:<4}{line[:5]:<15}{line[6:40]:<40}{line[41:]}\")\n",
    "        row+=1"
   ]
  },
  {
   "cell_type": "markdown",
   "metadata": {},
   "source": [
    "5. A text file, **tides.txt**, contains the low and high tide information for each day of a month. Each line contains tab-delimited data that shows the date, the time, whether the tide is high or low and the tide height in metres.\n",
    "\n",
    "Each line is in the format:\n",
    "```YYYY-MM-DD\\tHH:mm\\tTIDE\\tHEIGHT\\n```\n",
    "\n",
    "* The date is in the format ```YYYY-MM-DD```, for example, **2019-05-23**\n",
    "* The time is in the format ```HH:mm```, for example, **13:47**\n",
    "* ```TIDE``` is either **HIGH** or **LOW**\n",
    "* ```HEIGHT``` is a positive number shown to one decimal place\n",
    "* ```\\t``` represents the tab character\n",
    "* ```\\n``` represents the newline character\n",
    "\n",
    "The text file is stored in ascending order of date and time.\n",
    "\n",
    "Write program code to:\n",
    "* read the tide data from **tides.txt**\n",
    "* find the highest high tide and print this value  (ans: 7.4) \n",
    "* find the lowest low tide and print this value (ans: 0.1)\n",
    "\n",
    "[9]"
   ]
  },
  {
   "cell_type": "code",
   "execution_count": 116,
   "metadata": {
    "pycharm": {
     "name": "#%%\n"
    }
   },
   "outputs": [
    {
     "name": "stdout",
     "output_type": "stream",
     "text": [
      "Highest tide is:  7.4\n",
      "Lowest tide is:  0.1\n"
     ]
    }
   ],
   "source": [
    "high = []\n",
    "low = []\n",
    "maxi = 0\n",
    "mini = 1\n",
    "\n",
    "f = open(\"tides.txt\", \"r\")\n",
    "for line in f:\n",
    "    line = line.strip().split()\n",
    "    if line[2] == 'LOW':\n",
    "        low.append(float(line[-1]))\n",
    "    else:\n",
    "        high.append(float(line[-1]))\n",
    "\n",
    "for i in high:\n",
    "    if i > maxi:\n",
    "        maxi = i\n",
    "\n",
    "for i in low:\n",
    "    if i < mini:\n",
    "        mini = i\n",
    "\n",
    "print(\"Highest tide is: \", maxi)\n",
    "print(\"Lowest tide is: \", mini)\n"
   ]
  }
 ],
 "metadata": {
  "kernelspec": {
   "display_name": "Python 3",
   "language": "python",
   "name": "python3"
  },
  "language_info": {
   "codemirror_mode": {
    "name": "ipython",
    "version": 3
   },
   "file_extension": ".py",
   "mimetype": "text/x-python",
   "name": "python",
   "nbconvert_exporter": "python",
   "pygments_lexer": "ipython3",
   "version": "3.6.4"
  }
 },
 "nbformat": 4,
 "nbformat_minor": 2
}