{
 "cells": [
  {
   "cell_type": "markdown",
   "metadata": {},
   "source": [
    "####           Class Test 1\n",
    "\n",
    "```\n",
    "Date: Apr 2021 \n",
    "Total marks: 20 \n",
    "Duration: 30 mins\n",
    "\n",
    "```\n"
   ]
  },
  {
   "cell_type": "markdown",
   "metadata": {},
   "source": [
    "1. Write a program that displays a temperature conversion table for degrees Celsius and degrees Fahrenheit. The table should include rows for all temperatures between 0 and 100 degrees Celsius that are multiples of 10 degrees Celsius. The formula to convert degrees Celsius (C) and degrees Fahrenheit (F) is  **F = (C * 9 / 5) + 32**. Format the output as follows:\n",
    "\n",
    "```\n",
    "               Celsius    Fahrenheit\n",
    "                     0            32\n",
    "                    10            50\n",
    "                     .             .\n",
    "                     .             . \n",
    "                     .             .\n",
    "                    90           194\n",
    "                   100           212 \n",
    "                                                                                           [5]\n",
    "                                                                                           \n",
    "```"
   ]
  },
  {
   "cell_type": "code",
   "execution_count": 6,
   "metadata": {},
   "outputs": [
    {
     "name": "stdout",
     "output_type": "stream",
     "text": [
      "Celcius    Fahrenheit\n",
      "     0             32\n",
      "    10             50\n",
      "    20             68\n",
      "    30             86\n",
      "    40            104\n",
      "    50            122\n",
      "    60            140\n",
      "    70            158\n",
      "    80            176\n",
      "    90            194\n",
      "   100            212\n"
     ]
    }
   ],
   "source": [
    "def convert(c):\n",
    "    change = (c*9/5) + 32\n",
    "    return change\n",
    "\n",
    "def main():\n",
    "    print(\"Celcius    Fahrenheit\")\n",
    "    for i in range(0,100+1,10):\n",
    "        fah = convert(i)\n",
    "        print(f\"{i:>6}{fah:15.0f}\")\n",
    "\n",
    "main()"
   ]
  },
  {
   "cell_type": "markdown",
   "metadata": {},
   "source": [
    "2.    A game which uses a coin is played between two players, P (the player) and R (the receiver), as follows.\n",
    "\n",
    "```\n",
    "The coin is tossed. If it is a head, P pays R one dollar and the game is over. Otherwise, it \n",
    "is a tail, and the coin is tossed a second time. If it is a head this time, P pays R two \n",
    "dollars and the game is over. But if it is another tail, the coin is tossed a third time. \n",
    "If it is now a head, P pays R four dollars and the game is over. If it is still a tail, \n",
    "the coin is tossed again. This continues, doubling the payment each time a tail is tossed,\n",
    "until a head is tossed, at which point P pays R and the game is over.\n",
    "\n",
    "```\n",
    "Write a program which will simulate the playing of this game 5 times. For each game, display an __H__ each time the outcome is heads, and a **T** each time the outcome is tails, with all of the outcomes shown on the same line. The final line of the printout should state the average payment made by P to R. \n",
    "\n",
    " **Hint:** Use **randint** from the random module to simulate the tossing of a coin.  \n",
    "e.g.  **randint(0, 1)** generates either 0 (indicates a tail) or 1 (indicates a head)\n",
    "\n",
    "**Note:** Do not use break statements in your program.\n",
    "\n",
    "\n",
    "A sample output is shown below.\n",
    " \n",
    "``` \n",
    " Game 1:  T T T T H \n",
    " P pays R $16.00\n",
    "\n",
    " Game 2:  H \n",
    " P pays R $1.00\n",
    "\n",
    " Game 3:  T H \n",
    " P pays R $2.00\n",
    "\n",
    " Game 4:  H \n",
    " P pays R $1.00\n",
    "\n",
    " Game 5:  T T H \n",
    " P pays R $4.00\n",
    "\n",
    " Average payment made by P to R is $4.80\n",
    "                                                                                          [8]\n",
    "                                                                                         \n",
    "                                                                                          ```\n",
    "                                                                                      \n",
    "        "
   ]
  },
  {
   "cell_type": "code",
   "execution_count": null,
   "metadata": {},
   "outputs": [],
   "source": []
  },
  {
   "cell_type": "markdown",
   "metadata": {},
   "source": [
    "3. The value of __pi__ can be approximated by the following infinite series:\n",
    "                 \n",
    "**pi = 3 + (4 / (2 \\* 3 \\* 4)) - (4 / (4 \\* 5 \\* 6)) + (4 / (6 \\* 7 \\* 8)) - (4 / (8 \\* 9 \\* 10)) + . . . . . . .** \n",
    "\n",
    "                 \n",
    "Write a program that displays 15 approximations of **pi** . The first approximation should make use of only the first term from the infinite series. Each additional approximation displayed by your program should include one more term in the series, making it a better approximation of **pi** than any of the approximations displayed previously. \n",
    "```\n",
    "                                                                                           [7]\n",
    "                                                                                           ```\n"
   ]
  },
  {
   "cell_type": "code",
   "execution_count": 16,
   "metadata": {},
   "outputs": [
    {
     "name": "stdout",
     "output_type": "stream",
     "text": [
      "0.16666666666666652\n"
     ]
    }
   ],
   "source": []
  },
  {
   "cell_type": "code",
   "execution_count": null,
   "metadata": {},
   "outputs": [],
   "source": []
  }
 ],
 "metadata": {
  "kernelspec": {
   "display_name": "Python 3",
   "language": "python",
   "name": "python3"
  },
  "language_info": {
   "codemirror_mode": {
    "name": "ipython",
    "version": 3
   },
   "file_extension": ".py",
   "mimetype": "text/x-python",
   "name": "python",
   "nbconvert_exporter": "python",
   "pygments_lexer": "ipython3",
   "version": "3.6.4"
  }
 },
 "nbformat": 4,
 "nbformat_minor": 2
}
