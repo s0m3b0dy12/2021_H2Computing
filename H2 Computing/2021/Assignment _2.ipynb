{
 "cells": [
  {
   "cell_type": "markdown",
   "metadata": {},
   "source": [
    "1.\tWrite a program that accepts the user’s name (as text) and age (as an integer) as input. The program should output a sentence containing the user’s name and current age, and age in 10 years’ time."
   ]
  },
  {
   "cell_type": "code",
   "execution_count": 8,
   "metadata": {},
   "outputs": [
    {
     "name": "stdout",
     "output_type": "stream",
     "text": [
      "Please key in your nameNic\n",
      "Please key in your age18\n",
      "Nic's current age is 18 and will be 28 in 10 years time\n"
     ]
    }
   ],
   "source": [
    "name = input(\"Please key in your name\")\n",
    "age = int(input(\"Please key in your age\"))\n",
    "\n",
    "new_age = age + 10\n",
    "\n",
    "print(f\"{name}'s current age is {age} and will be {new_age} in 10 years time\")\n"
   ]
  },
  {
   "cell_type": "markdown",
   "metadata": {},
   "source": [
    "2.\tWrite a program that takes the radius of a sphere (a floating-point number) as input and output the sphere’s diameter, circumference, surface area, and volume. "
   ]
  },
  {
   "cell_type": "code",
   "execution_count": 7,
   "metadata": {},
   "outputs": [
    {
     "name": "stdout",
     "output_type": "stream",
     "text": [
      "Please input the radius of a sphere5\n",
      "When the radius of a sphere is 5.0 units, \n",
      "Its diameter is 10.00 units\n",
      "Its circumference is 31.42 units\n",
      "Its surface area is 314.16 squared units\n",
      "Its volume is 523.60 cubed units\n"
     ]
    }
   ],
   "source": [
    "import math\n",
    "\n",
    "pi = math.pi\n",
    "\n",
    "rad = float(input(\"Please input the radius of a sphere\"))\n",
    "dia = 2 * rad\n",
    "circ = dia * pi\n",
    "surf_area = 4 * pi * rad * rad\n",
    "vol = (4/3) * pi * (rad ** 3)\n",
    "\n",
    "print(f\"When the radius of a sphere is {rad} units, \\nIts diameter is {dia:.2f} units\\nIts circumference is {circ:.2f} units\\nIts surface area is {surf_area:.2f} squared units\\nIts volume is {vol:.2f} cubed units\")"
   ]
  },
  {
   "cell_type": "markdown",
   "metadata": {},
   "source": [
    " 3.\tAn employee’s total weekly pay equals the hourly wage multiplied by the total number of regular hours plus overtime pay. Overtime pay equals the overtime hours multiplied by 1.5 times the hourly wage. Write a program that takes as inputs the hourly wage, total regular hours, and total overtime hours and display an employee’s total weekly pay (round to the nearest dollar). "
   ]
  },
  {
   "cell_type": "code",
   "execution_count": 9,
   "metadata": {},
   "outputs": [
    {
     "name": "stdout",
     "output_type": "stream",
     "text": [
      "Please input your hourly pay7\n",
      "Please input your total regular hours44\n",
      "Please input your total overtime hours5\n",
      "Your total pay for the week is 324\n"
     ]
    }
   ],
   "source": [
    "hour_pay = float(input(\"Please input your hourly pay\"))\n",
    "hours = int(input(\"Please input your total regular hours\"))\n",
    "ot_hour = int(input(\"Please input your total overtime hours\"))\n",
    "ot_pay = hour_pay * 1.5\n",
    "\n",
    "total = (hour_pay * hours) + (ot_hour + ot_pay)\n",
    "\n",
    "print(f\"Your total pay for the week is {total:.0f}\")"
   ]
  },
  {
   "cell_type": "code",
   "execution_count": null,
   "metadata": {},
   "outputs": [],
   "source": []
  }
 ],
 "metadata": {
  "kernelspec": {
   "display_name": "Python 3",
   "language": "python",
   "name": "python3"
  },
  "language_info": {
   "codemirror_mode": {
    "name": "ipython",
    "version": 3
   },
   "file_extension": ".py",
   "mimetype": "text/x-python",
   "name": "python",
   "nbconvert_exporter": "python",
   "pygments_lexer": "ipython3",
   "version": "3.6.4"
  }
 },
 "nbformat": 4,
 "nbformat_minor": 2
}
