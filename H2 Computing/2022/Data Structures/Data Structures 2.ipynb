{
 "cells": [
  {
   "cell_type": "code",
   "source": [
    "# Initialise node class\n",
    "class Node:\n",
    "    def __init__(self,data,Next=None):\n",
    "        self._data = data\n",
    "        self._next = Next\n",
    "\n",
    "    def getData(self):\n",
    "        return self._data\n",
    "\n",
    "    def setData(self,data):\n",
    "        self._data = data\n",
    "\n",
    "    def getNext(self):\n",
    "        return self._next\n",
    "\n",
    "    def setNext(self,node):\n",
    "        self._next = node\n",
    "\n",
    "    def __str__(self):\n",
    "        ret = f\"Data: {self.getData()}\"\n",
    "        if self.getNext():\n",
    "            ret+= f\", Next: {self.getNext().getData()}\"\n",
    "        else:\n",
    "            ret+= f\", Next: None\"\n",
    "        return ret"
   ],
   "metadata": {
    "collapsed": false,
    "pycharm": {
     "name": "#%%\n"
    }
   },
   "execution_count": 1,
   "outputs": []
  },
  {
   "cell_type": "code",
   "execution_count": 2,
   "outputs": [],
   "source": [
    "# Initialise Array stack\n",
    "\n",
    "class ArrayStack:\n",
    "    def __init__(self):\n",
    "        self._size = 0\n",
    "        self.max_size = 20\n",
    "        self._items = [None] * self.max_size\n",
    "\n",
    "    def push(self, item):\n",
    "        if self._size == self.max_size:\n",
    "            print('Stack is full')\n",
    "        else:\n",
    "            self._items[self._size] = item\n",
    "            self._size += 1\n",
    "\n",
    "    def pop(self):\n",
    "        if self._size==0:\n",
    "            print(\"Stack is empty\")\n",
    "        else:\n",
    "            popped=self._items[self._size-1]\n",
    "            self._items[self._size-1]=None\n",
    "            self._size-=1\n",
    "            return popped\n",
    "\n",
    "    def __str__(self):\n",
    "        out = \"\"\n",
    "        for i in self._items:\n",
    "            if i is not None:\n",
    "                out = out + str(i)\n",
    "        return out\n",
    "\n",
    "    def size(self):\n",
    "        return self._size\n",
    "\n",
    "    def is_empty(self):\n",
    "        if self._size==0:\n",
    "            return True\n",
    "        else:\n",
    "            return False\n",
    "\n",
    "    def peek(self):\n",
    "        return self._items[self._size-1]"
   ],
   "metadata": {
    "collapsed": false,
    "pycharm": {
     "name": "#%%\n"
    }
   }
  },
  {
   "cell_type": "markdown",
   "metadata": {
    "collapsed": true,
    "pycharm": {
     "name": "#%% md\n"
    }
   },
   "source": [
    "#### Tutorial 10BQ1\n",
    "\n",
    "Write a program that uses a stack to test input strings to determine whether they are palindromes. A palindrome is a sequence of words that reads the same as the sequence in reverse: for example, the word  ***madam***  or the sentence ***rats live on no evil star***."
   ]
  },
  {
   "cell_type": "code",
   "execution_count": 3,
   "outputs": [
    {
     "name": "stdout",
     "output_type": "stream",
     "text": [
      "True\n",
      "True\n",
      "True\n",
      "False\n"
     ]
    }
   ],
   "source": [
    "def isPalindrome(string):\n",
    "    stack = ArrayStack()\n",
    "    count=0\n",
    "\n",
    "    string = string.replace(' ','') # To remove the spaces\n",
    "\n",
    "    mid=len(string)//2\n",
    "\n",
    "    for i in string:\n",
    "        if count < mid:\n",
    "            stack.push(i)\n",
    "            count+=1\n",
    "        elif count == mid and mid%2==1:\n",
    "            count+=1\n",
    "        else:\n",
    "            if i == stack.peek():\n",
    "                stack.pop()\n",
    "\n",
    "    if not stack.peek():\n",
    "        return True\n",
    "    else:\n",
    "        return False\n",
    "\n",
    "\n",
    "# ------------------------------------------------------\n",
    "print(isPalindrome(\"madam\"))\n",
    "print(isPalindrome(\"rats live on no evil star\"))\n",
    "print(isPalindrome(\"nurses run\"))\n",
    "print(isPalindrome(\"hello\"))"
   ],
   "metadata": {
    "collapsed": false,
    "pycharm": {
     "name": "#%%\n"
    }
   }
  },
  {
   "cell_type": "markdown",
   "source": [
    "### Tutorial 10BQ2\n",
    "\n",
    "Write a function  ***def  selectItem (s,  n):***\n",
    "that uses stack operations to find the first occurrence of *integer n* on *stack s* and move it to the top of the stack.  Maintain ordering for all other elements."
   ],
   "metadata": {
    "collapsed": false,
    "pycharm": {
     "name": "#%% md\n"
    }
   }
  },
  {
   "cell_type": "code",
   "execution_count": 4,
   "outputs": [
    {
     "name": "stdout",
     "output_type": "stream",
     "text": [
      "0123457896\n",
      "n not found\n"
     ]
    }
   ],
   "source": [
    "import random\n",
    "def selectItem(s, n):\n",
    "    found=False\n",
    "    hold = ArrayStack()\n",
    "    top = s.peek()\n",
    "    while top and top!=n:\n",
    "        hold.push(s.pop())\n",
    "        top = s.peek()\n",
    "    if top == n:\n",
    "            found=True\n",
    "    if found:\n",
    "        newTop = s.pop()\n",
    "        while hold.peek() is not None:\n",
    "            s.push(hold.pop())\n",
    "        s.push(newTop)\n",
    "    else:\n",
    "        return \"n not found\"\n",
    "    return s\n",
    "\n",
    "s = ArrayStack()\n",
    "for i in range(10):\n",
    "    s.push(i)\n",
    "\n",
    "# ---------------------------------------------------------\n",
    "# Test with n in the array stack\n",
    "print(selectItem(s,6))\n",
    "# Test with the n not in array stack\n",
    "print(selectItem(s,12))\n"
   ],
   "metadata": {
    "collapsed": false,
    "pycharm": {
     "name": "#%%\n"
    }
   }
  },
  {
   "cell_type": "markdown",
   "source": [
    "### Tutorial 10BQ3\n",
    "\n",
    "Write a function  ***def  multiBaseOutput ( num,  b):***\n",
    "that takes a non-negative *integer num* and a *base b* in the range 2 – 9 and write num to the screen as a base b number."
   ],
   "metadata": {
    "collapsed": false,
    "pycharm": {
     "name": "#%% md\n"
    }
   }
  },
  {
   "cell_type": "code",
   "execution_count": 6,
   "outputs": [
    {
     "name": "stdout",
     "output_type": "stream",
     "text": [
      "22\n",
      "26\n"
     ]
    }
   ],
   "source": [
    "def multiBaseOutput(num, base):\n",
    "    stack=ArrayStack()\n",
    "    quo = num\n",
    "    out = ''\n",
    "    while quo >=1:\n",
    "        rem = quo % base\n",
    "        stack.push(rem)\n",
    "        quo = quo // base\n",
    "\n",
    "    while stack.size() > 0:\n",
    "        out+=str(stack.pop())\n",
    "\n",
    "    return out\n",
    "\n",
    "print(multiBaseOutput(10,4))\n",
    "print(multiBaseOutput(20,7))"
   ],
   "metadata": {
    "collapsed": false,
    "pycharm": {
     "name": "#%%\n"
    }
   }
  },
  {
   "cell_type": "markdown",
   "source": [
    "### Tutorial 10BQ6\n",
    "\n",
    "Explain what is meant by a recursive routine in a program and how a stack may be used in its implementation. To illustrate your answer, show what happens when the function call ***fib(3)*** where the function ***fib*** has a single non-negative integer perimeter ***n*** and has the value ***fibval*** given by\n",
    "\n",
    "***if n<2 then fibval=n\n",
    "else fibval = fib(n-1) + fib(n+2)***\n",
    "\n",
    "Show the order in which the calls to the function are made, the order in which the returns are made, and the data that are stacked at each cell. Use diagrams wherever possible in your answer"
   ],
   "metadata": {
    "collapsed": false,
    "pycharm": {
     "name": "#%% md\n"
    }
   }
  },
  {
   "cell_type": "code",
   "execution_count": 6,
   "outputs": [],
   "source": [],
   "metadata": {
    "collapsed": false,
    "pycharm": {
     "name": "#%%\n"
    }
   }
  },
  {
   "cell_type": "markdown",
   "source": [
    "### Tutorial 10BQ8"
   ],
   "metadata": {
    "collapsed": false,
    "pycharm": {
     "name": "#%% md\n"
    }
   }
  },
  {
   "cell_type": "code",
   "execution_count": null,
   "outputs": [],
   "source": [],
   "metadata": {
    "collapsed": false,
    "pycharm": {
     "name": "#%%\n"
    }
   }
  }
 ],
 "metadata": {
  "kernelspec": {
   "display_name": "Python 3",
   "language": "python",
   "name": "python3"
  },
  "language_info": {
   "codemirror_mode": {
    "name": "ipython",
    "version": 2
   },
   "file_extension": ".py",
   "mimetype": "text/x-python",
   "name": "python",
   "nbconvert_exporter": "python",
   "pygments_lexer": "ipython2",
   "version": "2.7.6"
  }
 },
 "nbformat": 4,
 "nbformat_minor": 0
}