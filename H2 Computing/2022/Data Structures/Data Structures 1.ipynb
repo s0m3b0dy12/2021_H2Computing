{
 "cells": [
  {
   "cell_type": "code",
   "execution_count": 1,
   "id": "2f1b935d",
   "metadata": {},
   "outputs": [
    {
     "name": "stdout",
     "output_type": "stream",
     "text": [
      "Data: A, Next: None\n",
      "Data: B, Next: A\n"
     ]
    }
   ],
   "source": [
    "class Node:\n",
    "    def __init__(self,data,Next=None):\n",
    "        self._data = data\n",
    "        self._next = Next\n",
    "        \n",
    "    def getData(self):\n",
    "        return self._data\n",
    "    \n",
    "    def setData(self,data):\n",
    "        self._data = data\n",
    "    \n",
    "    def getNext(self):\n",
    "        return self._next\n",
    "    \n",
    "    def setNext(self,node):\n",
    "        self._next = node\n",
    "        \n",
    "    def __str__(self):\n",
    "        ret = f\"Data: {self.getData()}\"\n",
    "        if self.getNext():\n",
    "            ret+= f\", Next: {self.getNext().getData()}\"\n",
    "        else:\n",
    "            ret+= f\", Next: None\"\n",
    "        return (ret)\n",
    "\n",
    "        \n",
    "node = Node(\"A\")\n",
    "print(node)\n",
    "\n",
    "\n",
    "node2 = Node(\"B\",node)\n",
    "print(node2)\n",
    " "
   ]
  },
  {
   "cell_type": "code",
   "execution_count": 2,
   "id": "c653c6a7",
   "metadata": {},
   "outputs": [
    {
     "name": "stdout",
     "output_type": "stream",
     "text": [
      "Data: 5, Next: 4\n",
      "Data: 4, Next: 3\n",
      "Data: 3, Next: 2\n",
      "Data: 2, Next: 1\n",
      "Data: 1, Next: None\n"
     ]
    }
   ],
   "source": [
    "ptr=None # ptr = pointer\n",
    "for count in range(5):\n",
    "    ptr = Node(count+1,ptr)\n",
    "while ptr!=None:\n",
    "    print(ptr)\n",
    "    ptr = ptr.getNext()\n",
    "    \n",
    "# Nodes = [5>4>3>2>1]"
   ]
  },
  {
   "cell_type": "code",
   "execution_count": 3,
   "id": "1e2cff77",
   "metadata": {},
   "outputs": [],
   "source": [
    "# Transversal\n",
    "# The trasversal of a singly linked structure visits every node and terminates when an empty link is reached.\n",
    "# The value None terminates the program"
   ]
  },
  {
   "cell_type": "code",
   "execution_count": 4,
   "id": "df997410",
   "metadata": {},
   "outputs": [
    {
     "name": "stdout",
     "output_type": "stream",
     "text": [
      "Nodes\n",
      "\n",
      "Data: 5, Next: 4\n",
      "Data: 4, Next: 3\n",
      "Data: 3, Next: 2\n",
      "Data: 2, Next: 1\n",
      "Data: 1, Next: None\n",
      "\n",
      "Test\n",
      "\n",
      "Data to search: 10\n",
      "Result: False\n",
      "Data to search: 3\n",
      "Result: True\n"
     ]
    }
   ],
   "source": [
    "# Searching\n",
    "\n",
    "# The difference between a search and a transversal is that a node may terminate when the value is found, or when a None\n",
    "# value is found. \n",
    "\n",
    "def Search(dataToReplace, head):\n",
    "    found = False\n",
    "    print(f\"Data to search: {dataToSearch}\")\n",
    "    probe = head\n",
    "    while (probe!=None) and (dataToSearch!=probe.getData()):\n",
    "        probe = probe.getNext()\n",
    "    if probe != None:\n",
    "        found = True\n",
    "    else:\n",
    "        found = False\n",
    "    return found\n",
    "\n",
    "# Nodes\n",
    "# Nodes = [5,4,3,2,1]\n",
    "print(\"Nodes\\n\")\n",
    "head = None\n",
    "for count in range(5):\n",
    "    head = Node(count+1, head)\n",
    "probe = head \n",
    "while probe!=None:\n",
    "    print(probe)\n",
    "    probe = probe.getNext()\n",
    "    \n",
    "    \n",
    "# Test\n",
    "print(\"\\nTest\\n\")\n",
    "dataToSearch = 10\n",
    "print(f\"Result: {Search(dataToSearch,head)}\")\n",
    "dataToSearch = 3\n",
    "print(f\"Result: {Search(dataToSearch,head)}\")"
   ]
  },
  {
   "cell_type": "code",
   "execution_count": 5,
   "id": "c814c129",
   "metadata": {},
   "outputs": [
    {
     "name": "stdout",
     "output_type": "stream",
     "text": [
      "Data: 5, Next: 4\n",
      "Data: 4, Next: 3\n",
      "Data: 3, Next: 2\n",
      "Data: 2, Next: 1\n",
      "Data: 1, Next: None\n",
      "\n",
      "\n",
      "Data to replace: 11\n",
      "Result: True\n",
      "\n",
      "\n",
      "Data: 11, Next: 3\n",
      "Data: 3, Next: 2\n",
      "Data: 2, Next: 1\n",
      "Data: 1, Next: None\n"
     ]
    }
   ],
   "source": [
    "# Replacement\n",
    "\n",
    "# If target item is not present, no replacement occurs and the operation returns False\n",
    "# Else if target item is present, replacement occurs and the operation returns True\n",
    "\n",
    "def replace(findData, replaceData, head):\n",
    "    replaced = False\n",
    "    print(f\"Data to replace: {replaceData}\")\n",
    "    probe = head\n",
    "    while probe!=None and findData!=probe.getData():\n",
    "        probe = probe.getNext()\n",
    "    if probe!=None:\n",
    "        probe.setData(replaceData)\n",
    "        replaced=True\n",
    "    else:\n",
    "        replaced=False\n",
    "    print(f\"Result: {replaced}\")\n",
    "    return head\n",
    "\n",
    "# Create the linked structure\n",
    "head = None\n",
    "for count in range(5):\n",
    "    head = Node(count+1, head)\n",
    "probe = head\n",
    "while probe!=None:\n",
    "    print(probe)\n",
    "    probe=probe.getNext()\n",
    "\n",
    "print(\"\\n\")\n",
    "findData = 4\n",
    "replaceData = 11\n",
    "head = replace(findData,replaceData,head)\n",
    "probe=head\n",
    "probe=probe.getNext()\n",
    "\n",
    "print(\"\\n\")\n",
    "while probe!=None:\n",
    "    print(probe)\n",
    "    probe = probe.getNext()\n",
    "    "
   ]
  },
  {
   "cell_type": "code",
   "execution_count": 6,
   "id": "785a3892",
   "metadata": {},
   "outputs": [
    {
     "name": "stdout",
     "output_type": "stream",
     "text": [
      "Data to insert: 12\n",
      "\n",
      "Data: 12, Next: 5\n",
      "Data: 5, Next: 4\n",
      "Data: 4, Next: 3\n",
      "Data: 3, Next: 2\n",
      "Data: 2, Next: 1\n",
      "Data: 1, Next: None\n"
     ]
    }
   ],
   "source": [
    "# Inserting at the beginning (prepend)\n",
    "\n",
    "def prepend(newNode, head):\n",
    "    print(f\"Data to insert: {newNode.getData()}\\n\")\n",
    "    if head:\n",
    "          newNode.setNext(head)\n",
    "          head = newNode\n",
    "    else:\n",
    "          head = newNode\n",
    "    return head\n",
    "\n",
    "# Create linked structure\n",
    "head = None\n",
    "for count in range(5):\n",
    "    head = Node(count+1, head)\n",
    "\n",
    "newNode = Node(12)\n",
    "head = prepend(newNode,head)\n",
    "probe = head\n",
    "while probe!=None:\n",
    "    print(probe)\n",
    "    probe = probe.getNext()"
   ]
  },
  {
   "cell_type": "code",
   "execution_count": 7,
   "id": "319ced5d",
   "metadata": {},
   "outputs": [
    {
     "name": "stdout",
     "output_type": "stream",
     "text": [
      "Links: Data: 1, Next: None\n",
      "Links: Data: 2, Next: 1\n",
      "Links: Data: 3, Next: 2\n",
      "Links: Data: 4, Next: 3\n",
      "Links: Data: 5, Next: 4\n",
      "Data: 5, Next: 4\n",
      "Data: 4, Next: 3\n",
      "Data: 3, Next: 2\n",
      "Data: 2, Next: 1\n",
      "Data: 1, Next: 0\n",
      "Data: 0, Next: None\n"
     ]
    }
   ],
   "source": [
    "# Inserting at the end\n",
    "\n",
    "def append(newNode,head):\n",
    "    if head:\n",
    "        probe = head\n",
    "        while probe.getNext()!=None:\n",
    "            probe=probe.getNext()\n",
    "        probe.setNext(newNode)\n",
    "    else:\n",
    "        head = newNode    \n",
    "    return head\n",
    "\n",
    "# Create linked structure\n",
    "head = None\n",
    "for count in range(5):\n",
    "    head = Node(count+1,head)\n",
    "    print(\"Links:\", head)\n",
    "    \n",
    "# Add new element\n",
    "newNode = Node(0,None)\n",
    "head = append(newNode,head)\n",
    "probe = head\n",
    "while probe!=None:\n",
    "    print(probe)\n",
    "    probe = probe.getNext()\n"
   ]
  },
  {
   "cell_type": "code",
   "execution_count": 8,
   "id": "bc11780f",
   "metadata": {
    "scrolled": true
   },
   "outputs": [
    {
     "name": "stdout",
     "output_type": "stream",
     "text": [
      "Data: 5, Next: 4\n",
      "Data: 4, Next: 3\n",
      "Data: 3, Next: 2\n",
      "Data: 2, Next: 1\n",
      "Data: 1, Next: None\n",
      "Data returned: 5\n",
      "Data: 4, Next: 3\n",
      "Data: 3, Next: 2\n",
      "Data: 2, Next: 1\n",
      "Data: 1, Next: None\n"
     ]
    }
   ],
   "source": [
    "# Removing at the beginning\n",
    "def pop(head):\n",
    "    data = None\n",
    "    if head:\n",
    "        data = head.getData()\n",
    "        head = head.getNext()\n",
    "    return data, head\n",
    "    \n",
    "# Create linked structure\n",
    "head = None\n",
    "for count in range(5):\n",
    "    head = Node(count+1,head)\n",
    "probe = head\n",
    "while probe!=None:\n",
    "    print(probe)\n",
    "    probe=probe.getNext()\n",
    "\n",
    "\n",
    "data,head = pop(head)\n",
    "print(f\"Data returned: {data}\")\n",
    "probe = head\n",
    "while probe!=None:\n",
    "    print(probe)\n",
    "    probe=probe.getNext()\n"
   ]
  },
  {
   "cell_type": "code",
   "execution_count": 9,
   "id": "72345d43",
   "metadata": {},
   "outputs": [
    {
     "name": "stdout",
     "output_type": "stream",
     "text": [
      "Data: 3, Next: 2\n",
      "Data: 2, Next: 1\n",
      "Data: 1, Next: None\n",
      "--------------------\n",
      "--------------------\n",
      "Data: 3, Next: 2\n",
      "Data: 2, Next: None\n"
     ]
    }
   ],
   "source": [
    "# Removing from the end\n",
    "def removeLast(head):\n",
    "    if head:\n",
    "        probe=head\n",
    "        if probe.getNext():\n",
    "            while probe.getNext().getNext():\n",
    "                probe = probe.getNext()\n",
    "            probe.setNext(None)\n",
    "        else:\n",
    "            head = probe.getNext()\n",
    "    \n",
    "    return head\n",
    "    \n",
    "# Create linked structure\n",
    "head = None\n",
    "for count in range(3):\n",
    "    head = Node(count+1,head)\n",
    "probe = head\n",
    "while probe!=None:\n",
    "    print(probe)\n",
    "    probe=probe.getNext()\n",
    "print('--------------------')\n",
    "    \n",
    "\n",
    "# Test out removelast function\n",
    "head=removeLast(head)\n",
    "print('--------------------')\n",
    "probe = head\n",
    "while probe!=None:\n",
    "    print(probe)\n",
    "    probe = probe.getNext()\n"
   ]
  },
  {
   "cell_type": "code",
   "execution_count": 2,
   "id": "dd56d833",
   "metadata": {},
   "outputs": [
    {
     "ename": "NameError",
     "evalue": "name 'Node' is not defined",
     "output_type": "error",
     "traceback": [
      "\u001b[1;31m---------------------------------------------------------------------------\u001b[0m",
      "\u001b[1;31mNameError\u001b[0m                                 Traceback (most recent call last)",
      "\u001b[1;32m~\\AppData\\Local\\Temp/ipykernel_20024/3029993869.py\u001b[0m in \u001b[0;36m<module>\u001b[1;34m\u001b[0m\n\u001b[0;32m     21\u001b[0m \u001b[0mhead\u001b[0m\u001b[1;33m=\u001b[0m\u001b[1;32mNone\u001b[0m\u001b[1;33m\u001b[0m\u001b[1;33m\u001b[0m\u001b[0m\n\u001b[0;32m     22\u001b[0m \u001b[1;32mfor\u001b[0m \u001b[0mcount\u001b[0m \u001b[1;32min\u001b[0m \u001b[0mrange\u001b[0m\u001b[1;33m(\u001b[0m\u001b[1;36m5\u001b[0m\u001b[1;33m,\u001b[0m\u001b[1;36m0\u001b[0m\u001b[1;33m,\u001b[0m\u001b[1;33m-\u001b[0m\u001b[1;36m1\u001b[0m\u001b[1;33m)\u001b[0m\u001b[1;33m:\u001b[0m\u001b[1;33m\u001b[0m\u001b[1;33m\u001b[0m\u001b[0m\n\u001b[1;32m---> 23\u001b[1;33m     \u001b[0mhead\u001b[0m \u001b[1;33m=\u001b[0m \u001b[0mNode\u001b[0m\u001b[1;33m(\u001b[0m\u001b[0mcount\u001b[0m\u001b[1;33m,\u001b[0m\u001b[0mhead\u001b[0m\u001b[1;33m)\u001b[0m\u001b[1;33m\u001b[0m\u001b[1;33m\u001b[0m\u001b[0m\n\u001b[0m\u001b[0;32m     24\u001b[0m \u001b[0mprobe\u001b[0m \u001b[1;33m=\u001b[0m \u001b[0mhead\u001b[0m\u001b[1;33m\u001b[0m\u001b[1;33m\u001b[0m\u001b[0m\n\u001b[0;32m     25\u001b[0m \u001b[1;32mwhile\u001b[0m \u001b[0mprobe\u001b[0m\u001b[1;33m:\u001b[0m\u001b[1;33m\u001b[0m\u001b[1;33m\u001b[0m\u001b[0m\n",
      "\u001b[1;31mNameError\u001b[0m: name 'Node' is not defined"
     ]
    }
   ],
   "source": [
    "# Inserting from any position\n",
    "def insert(dataToAdd,pos,head):\n",
    "    if head:\n",
    "        if pos<1:\n",
    "            dataToAdd.setNext(head)\n",
    "            head=dataToAdd\n",
    "        else:\n",
    "            probe=head\n",
    "            while pos>0 and probe.getNext():\n",
    "                probe=probe.getNext()\n",
    "                pos-=1\n",
    "            dataToAdd.setNext(probe.getNext())\n",
    "            probe.setNext(dataToAdd)\n",
    "            \n",
    "    else:\n",
    "        head=dataToAdd\n",
    "    return head\n",
    "    \n",
    "    \n",
    "# Create linked list\n",
    "head=None\n",
    "for count in range(5,0,-1):\n",
    "    head = Node(count,head)\n",
    "probe = head\n",
    "while probe:\n",
    "    print(probe)\n",
    "    probe=probe.getNext()\n",
    "print('----------------------')\n",
    "\n",
    "    \n",
    "\n",
    "# Test out insert function\n",
    "dataToAdd=Node(\"'Added'\",None)\n",
    "insert(dataToAdd,2,head)\n",
    "probe=head\n",
    "while probe:\n",
    "    print(probe)\n",
    "    probe=probe.getNext()\n"
   ]
  },
  {
   "cell_type": "code",
   "execution_count": 13,
   "id": "e0bb94a2",
   "metadata": {},
   "outputs": [
    {
     "name": "stdout",
     "output_type": "stream",
     "text": [
      "Data: 1, Next: 2\n",
      "Data: 2, Next: 3\n",
      "Data: 3, Next: 4\n",
      "Data: 4, Next: 5\n",
      "Data: 5, Next: None\n",
      "-------------------------\n",
      "Data: 1, Next: 2\n",
      "Data: 2, Next: 4\n",
      "Data: 4, Next: 5\n",
      "Data: 5, Next: None\n"
     ]
    }
   ],
   "source": [
    "# Removal from any position\n",
    "def removeAny(pos,head):\n",
    "    if head:\n",
    "        if pos<1:\n",
    "            head=head.getNext()\n",
    "        else:\n",
    "            probe=head\n",
    "            if probe.getNext():\n",
    "                while pos>1 and probe.getNext().getNext():\n",
    "                    probe=probe.getNext()\n",
    "                    pos-=1\n",
    "                probe.setNext(probe.getNext().getNext())\n",
    "            else:\n",
    "                head=probe.getNext()\n",
    "                \n",
    "    return head\n",
    "\n",
    "# Create linked structure\n",
    "head=None\n",
    "for count in range(5,0,-1):\n",
    "    head=Node(count,head)\n",
    "probe=head\n",
    "while probe:\n",
    "    print(probe)\n",
    "    probe=probe.getNext()\n",
    "print('-------------------------')\n",
    "    \n",
    "# Test out removeAny function\n",
    "probe=head\n",
    "head = removeAny(2,head)\n",
    "while probe:\n",
    "    print(probe)\n",
    "    probe=probe.getNext()\n",
    "\n",
    "    "
   ]
  }
 ],
 "metadata": {
  "kernelspec": {
   "display_name": "Python 3 (ipykernel)",
   "language": "python",
   "name": "python3"
  },
  "language_info": {
   "codemirror_mode": {
    "name": "ipython",
    "version": 3
   },
   "file_extension": ".py",
   "mimetype": "text/x-python",
   "name": "python",
   "nbconvert_exporter": "python",
   "pygments_lexer": "ipython3",
   "version": "3.9.9"
  }
 },
 "nbformat": 4,
 "nbformat_minor": 5
}
