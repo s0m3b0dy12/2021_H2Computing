{
 "cells": [
  {
   "cell_type": "code",
   "execution_count": 30,
   "id": "2f1b935d",
   "metadata": {},
   "outputs": [
    {
     "name": "stdout",
     "output_type": "stream",
     "text": [
      "Data: A, Next: None\n",
      "Data: B, Next: A\n"
     ]
    }
   ],
   "source": [
    "class Node:\n",
    "    def __init__(self,data,Next=None):\n",
    "        self._data = data\n",
    "        self._next = Next\n",
    "        \n",
    "    def getData(self):\n",
    "        return self._data\n",
    "    \n",
    "    def setData(self,data):\n",
    "        self._data = data\n",
    "    \n",
    "    def getNext(self):\n",
    "        return self._next\n",
    "    \n",
    "    def setNext(self,node):\n",
    "        self._next = node\n",
    "        \n",
    "    def __str__(self):\n",
    "        ret = f\"Data: {self.getData()}\"\n",
    "        if self.getNext():\n",
    "            ret+= f\", Next: {self.getNext().getData()}\"\n",
    "        else:\n",
    "            ret+= f\", Next: None\"\n",
    "        return (ret)\n",
    "\n",
    "        \n",
    "node = Node(\"A\",None)\n",
    "print(node)\n",
    "\n",
    "\n",
    "node2 = Node(\"B\",node)\n",
    "print(node2)\n",
    " "
   ]
  },
  {
   "cell_type": "code",
   "execution_count": 5,
   "id": "c653c6a7",
   "metadata": {},
   "outputs": [
    {
     "name": "stdout",
     "output_type": "stream",
     "text": [
      "Data: 5, Next: 4\n",
      "Data: 4, Next: 3\n",
      "Data: 3, Next: 2\n",
      "Data: 2, Next: 1\n",
      "Data: 1, Next: None\n"
     ]
    }
   ],
   "source": [
    "ptr=None # ptr = pointer\n",
    "for count in range(5):\n",
    "    ptr = Node(count+1,ptr)\n",
    "while ptr!=None:\n",
    "    print(ptr)\n",
    "    ptr = ptr.getNext()"
   ]
  },
  {
   "cell_type": "code",
   "execution_count": 6,
   "id": "1e2cff77",
   "metadata": {},
   "outputs": [],
   "source": [
    "# Transversal\n",
    "# The trasversal of a singly linked structure visits every node and terminates when an empty link is reached.\n",
    "# The value None terminates the program"
   ]
  },
  {
   "cell_type": "code",
   "execution_count": 29,
   "id": "df997410",
   "metadata": {},
   "outputs": [
    {
     "name": "stdout",
     "output_type": "stream",
     "text": [
      "Nodes\n",
      "\n",
      "Data: 5, Next: 4\n",
      "Data: 4, Next: 3\n",
      "Data: 3, Next: 2\n",
      "Data: 2, Next: 1\n",
      "Data: 1, Next: None\n",
      "\n",
      "Test\n",
      "\n",
      "Data to search: 10\n",
      "Result: False\n",
      "Data to search: 3\n",
      "Result: True\n"
     ]
    }
   ],
   "source": [
    "# Searching\n",
    "\n",
    "# The difference between a search and a transversal is that a node may terminate when the value is found, or when a None\n",
    "# value is found. \n",
    "\n",
    "def Search(dataToReplace, head):\n",
    "    found = False\n",
    "    print(f\"Data to search: {dataToSearch}\")\n",
    "    probe = head\n",
    "    while (probe!=None) and (dataToSearch!=probe.getData()):\n",
    "        probe = probe.getNext()\n",
    "    if probe != None:\n",
    "        found = True\n",
    "    else:\n",
    "        found = False\n",
    "    return found\n",
    "\n",
    "# Nodes\n",
    "print(\"Nodes\\n\")\n",
    "head = None\n",
    "for count in range(5):\n",
    "    head = Node(count+1, head)\n",
    "probe = head \n",
    "while probe!=None:\n",
    "    print(probe)\n",
    "    probe = probe.getNext()\n",
    "    \n",
    "    \n",
    "# Test\n",
    "print(\"\\nTest\\n\")\n",
    "dataToSearch = 10\n",
    "print(f\"Result: {Search(dataToSearch,head)}\")\n",
    "dataToSearch = 3\n",
    "print(f\"Result: {Search(dataToSearch,head)}\")"
   ]
  },
  {
   "cell_type": "code",
   "execution_count": 39,
   "id": "c814c129",
   "metadata": {},
   "outputs": [
    {
     "name": "stdout",
     "output_type": "stream",
     "text": [
      "Data: 5, Next: 4\n",
      "Data: 4, Next: 3\n",
      "Data: 3, Next: 2\n",
      "Data: 2, Next: 1\n",
      "Data: 1, Next: None\n",
      "\n",
      "\n",
      "Data to replace: 11\n",
      "Result: True\n",
      "\n",
      "\n",
      "Data: 11, Next: 3\n",
      "Data: 3, Next: 2\n",
      "Data: 2, Next: 1\n",
      "Data: 1, Next: None\n"
     ]
    }
   ],
   "source": [
    "# Replacement\n",
    "\n",
    "def replace(findData, replaceData, head):\n",
    "    replaced = False\n",
    "    print(f\"Data to replace: {replaceData}\")\n",
    "    probe = head\n",
    "    while probe!=None and findData!=probe.getData():\n",
    "        probe = probe.getNext()\n",
    "    if probe!=None:\n",
    "        probe.setData(replaceData)\n",
    "        replaced=True\n",
    "    else:\n",
    "        replaced=False\n",
    "    print(f\"Result: {replaced}\")\n",
    "    return head\n",
    "\n",
    "# Create the linked structure\n",
    "head = None\n",
    "for count in range(5):\n",
    "    head=Node(count+1,head)\n",
    "probe = head\n",
    "while probe!=None:\n",
    "    print(probe)\n",
    "    probe=probe.getNext()\n",
    "\n",
    "print(\"\\n\")\n",
    "findData = 4\n",
    "replaceData = 11\n",
    "head = replace(findData,replaceData,head)\n",
    "probe=head\n",
    "probe=probe.getNext()\n",
    "\n",
    "print(\"\\n\")\n",
    "while probe!=None:\n",
    "    print(probe)\n",
    "    probe = probe.getNext()\n",
    "    "
   ]
  }
 ],
 "metadata": {
  "kernelspec": {
   "display_name": "Python 3 (ipykernel)",
   "language": "python",
   "name": "python3"
  },
  "language_info": {
   "codemirror_mode": {
    "name": "ipython",
    "version": 3
   },
   "file_extension": ".py",
   "mimetype": "text/x-python",
   "name": "python",
   "nbconvert_exporter": "python",
   "pygments_lexer": "ipython3",
   "version": "3.9.9"
  }
 },
 "nbformat": 4,
 "nbformat_minor": 5
}
