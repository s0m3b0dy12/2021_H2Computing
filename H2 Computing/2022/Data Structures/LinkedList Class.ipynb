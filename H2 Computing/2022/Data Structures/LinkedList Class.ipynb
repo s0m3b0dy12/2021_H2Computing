{
 "cells": [
  {
   "cell_type": "code",
   "execution_count": 1,
   "id": "5b0a80da",
   "metadata": {},
   "outputs": [
    {
     "name": "stdout",
     "output_type": "stream",
     "text": [
      "Data: A, Next: None\n",
      "Data: B, Next: A\n"
     ]
    }
   ],
   "source": [
    "class Node:\n",
    "    def __init__(self,data,Next=None):\n",
    "        self._data = data\n",
    "        self._next = Next\n",
    "        \n",
    "    def getData(self):\n",
    "        return self._data\n",
    "    \n",
    "    def setData(self,data):\n",
    "        self._data = data\n",
    "    \n",
    "    def getNext(self):\n",
    "        return self._next\n",
    "    \n",
    "    def setNext(self,node):\n",
    "        self._next = node\n",
    "        \n",
    "    def __str__(self):\n",
    "        ret = f\"Data: {self.getData()}\"\n",
    "        if self.getNext():\n",
    "            ret+= f\", Next: {self.getNext().getData()}\"\n",
    "        else:\n",
    "            ret+= f\", Next: None\"\n",
    "        return (ret)\n",
    "\n",
    "        \n",
    "node = Node(\"A\")\n",
    "print(node)\n",
    "\n",
    "\n",
    "node2 = Node(\"B\",node)\n",
    "print(node2)"
   ]
  },
  {
   "cell_type": "code",
   "execution_count": 2,
   "id": "6f23840e",
   "metadata": {},
   "outputs": [],
   "source": [
    "class SingleLinkedList:\n",
    "    def __init__(self,size=0):\n",
    "        self._head=None\n",
    "        self._tail=None # To use if last node needs to be changed\n",
    "        self.size=size\n",
    "        \n",
    "    def __str__(self):\n",
    "        output=\"Linked list:\\n\"\n",
    "        probe = s._head\n",
    "        while probe!=None:\n",
    "            output+=str(probe)+'\\n'\n",
    "            probe = probe.getNext()\n",
    "        return output\n",
    "        \n",
    "    def create(self,size):\n",
    "        self.size=size\n",
    "        print(\"Creating linked list\\n\")\n",
    "        for count in range(size,0,-1):\n",
    "            if not self._tail:\n",
    "                self._tail=Node(count,None)\n",
    "                self._head=self._tail\n",
    "            else: \n",
    "                self._head=Node(count,self._head)\n",
    "        return self._head\n",
    "    \n",
    "    def isEmpty(self):\n",
    "        if self.size>0:\n",
    "            return False\n",
    "        else:\n",
    "            return True\n",
    "        \n",
    "    def size(self): \n",
    "        return self.size\n",
    "        \n",
    "    def append(self,newNode):  \n",
    "        if self._head:\n",
    "            self._tail.setNext(newNode)\n",
    "        else:\n",
    "            self._head.setData(newNode)\n",
    "        return self._head\n",
    "        \n",
    "    def insert(self,dataToAdd,pos):\n",
    "        # Assume position>=0\n",
    "        pos-=1\n",
    "        if self._head:\n",
    "            if pos<1:\n",
    "                dataToAdd.setNext(self._head)\n",
    "                self._head=dataToAdd\n",
    "            else:\n",
    "                probe=self._head\n",
    "                while pos>0 and probe.getNext():\n",
    "                    probe=probe.getNext()\n",
    "                    pos-=1\n",
    "                dataToAdd.setNext(probe.getNext())\n",
    "                probe.setNext(dataToAdd)\n",
    "        else:\n",
    "            self._head=dataToAdd\n",
    "        return self._head\n",
    "        \n",
    "    def remove(self,pos):\n",
    "        # Assume pos>=0\n",
    "        self.size-=1\n",
    "        head=self._head\n",
    "        if head:\n",
    "            if pos<1:\n",
    "                head=head.getNext()\n",
    "            else:\n",
    "                probe=head\n",
    "                if probe.getNext():\n",
    "                    while pos>1 and probe.getNext().getNext():\n",
    "                        probe=probe.getNext()\n",
    "                        pos-=1\n",
    "                    probe.setNext(probe.getNext().getNext())\n",
    "                else:\n",
    "                    head=probe.getNext()\n",
    "        return None\n",
    "        \n",
    "    def peek(self):\n",
    "        # Returns the first node in the list\n",
    "        if self._head:\n",
    "            return self._head.getData()\n",
    "        \n",
    "    def pop(self):\n",
    "        #Returns the data value of the first node in the list and remove the node\n",
    "        data = None\n",
    "        if self._head:\n",
    "            data = self._head.getData()\n",
    "            self._head = self._head.getNext()\n",
    "            print(self._head)\n",
    "        return data\n",
    "        \n",
    "    def find(self,dataToFind):\n",
    "        head=self._head\n",
    "        count=1\n",
    "        probe=head\n",
    "        while probe:\n",
    "            if probe.getData()!=dataToFind:\n",
    "                probe=probe.getNext()\n",
    "                count+=1\n",
    "            else:\n",
    "                return count\n",
    "        print(\"Not found\")\n",
    "        return -1\n",
    "    \n",
    "        # Returns the position of the node with the data value, returns -1 if not found\n",
    "    \n"
   ]
  },
  {
   "cell_type": "code",
   "execution_count": 3,
   "id": "20617c3a",
   "metadata": {},
   "outputs": [
    {
     "name": "stdout",
     "output_type": "stream",
     "text": [
      "Test 'isEmpty()'\n",
      "\n",
      "s.isEmpty(): True\n",
      "Creating linked list\n",
      "\n",
      "Data: 1, Next: 2\n",
      "Data: 2, Next: 3\n",
      "Data: 3, Next: 4\n",
      "Data: 4, Next: 5\n",
      "Data: 5, Next: 6\n",
      "Data: 6, Next: 7\n",
      "Data: 7, Next: 8\n",
      "Data: 8, Next: 9\n",
      "Data: 9, Next: 10\n",
      "Data: 10, Next: None\n",
      "Test 'isEmpty()'\n",
      "\n",
      "s.isEmpty(): False\n"
     ]
    }
   ],
   "source": [
    "# Defining linked list \n",
    "s=SingleLinkedList()\n",
    "\n",
    "# Testing isEmpty() method (for true)\n",
    "print(\"Test 'isEmpty()'\\n\")\n",
    "print(\"s.isEmpty():\", s.isEmpty())\n",
    "\n",
    "# Creating linked list\n",
    "s.create(10)\n",
    "probe = s._head\n",
    "while probe!=None:\n",
    "    print(probe)\n",
    "    probe = probe.getNext()\n",
    "\n",
    "#Testing isEmpty() method (for false)\n",
    "print(\"Test 'isEmpty()'\\n\")\n",
    "print(\"s.isEmpty():\", s.isEmpty())"
   ]
  },
  {
   "cell_type": "code",
   "execution_count": 4,
   "id": "b5164426",
   "metadata": {},
   "outputs": [
    {
     "name": "stdout",
     "output_type": "stream",
     "text": [
      "Testing size() method, checking size of linked list\n",
      "\n",
      "Size is:  10\n"
     ]
    }
   ],
   "source": [
    "# Checking size of linked list\n",
    "print(\"Testing size() method, checking size of linked list\\n\")\n",
    "print(\"Size is: \",s.size)\n"
   ]
  },
  {
   "cell_type": "code",
   "execution_count": 5,
   "id": "2e618d52",
   "metadata": {},
   "outputs": [
    {
     "name": "stdout",
     "output_type": "stream",
     "text": [
      "Testing remove() method, removing the element in index 2\n",
      "\n",
      "Linked list:\n",
      "Data: 1, Next: 2\n",
      "Data: 2, Next: 4\n",
      "Data: 4, Next: 5\n",
      "Data: 5, Next: 6\n",
      "Data: 6, Next: 7\n",
      "Data: 7, Next: 8\n",
      "Data: 8, Next: 9\n",
      "Data: 9, Next: 10\n",
      "Data: 10, Next: None\n",
      "\n",
      "Size of linked list is now: 9\n"
     ]
    }
   ],
   "source": [
    "# Testing remove() method\n",
    "print(\"Testing remove() method, removing the element in index 2\\n\")\n",
    "s.remove(2)\n",
    "probe = s._head\n",
    "print(s)\n",
    "print(\"Size of linked list is now:\", s.size)\n"
   ]
  },
  {
   "cell_type": "code",
   "execution_count": 6,
   "id": "2ed0b818",
   "metadata": {},
   "outputs": [
    {
     "name": "stdout",
     "output_type": "stream",
     "text": [
      "Testing peek() method, checking first element in linked list\n",
      "\n",
      "First element is:  1\n"
     ]
    }
   ],
   "source": [
    "# Testing peek() method\n",
    "print(\"Testing peek() method, checking first element in linked list\\n\")\n",
    "print(\"First element is: \", s.peek())\n"
   ]
  },
  {
   "cell_type": "code",
   "execution_count": 7,
   "id": "6194c70b",
   "metadata": {},
   "outputs": [
    {
     "name": "stdout",
     "output_type": "stream",
     "text": [
      "Testing pop() method\n",
      "Data: 2, Next: 4\n",
      "Data popped: 1\n"
     ]
    }
   ],
   "source": [
    "# Testing pop() method\n",
    "print(\"Testing pop() method\")\n",
    "print(\"Data popped:\", s.pop())\n"
   ]
  },
  {
   "cell_type": "code",
   "execution_count": 8,
   "id": "ad82853b",
   "metadata": {},
   "outputs": [
    {
     "name": "stdout",
     "output_type": "stream",
     "text": [
      "Testing find() method (item is in linked list)\n",
      "Find output:  4 \n",
      "\n",
      "Testing find() method (item is in linked list)\n",
      "Not found\n",
      "Find output: -1\n"
     ]
    }
   ],
   "source": [
    "# Testing find() method (item is in linked list)\n",
    "print(\"Testing find() method (item is in linked list)\")\n",
    "print(\"Find output: \", s.find(6),\"\\n\")\n",
    "\n",
    "# Testing find() method (item is not in linked list)\n",
    "print(\"Testing find() method (item is in linked list)\")\n",
    "print(\"Find output:\", s.find(12))\n"
   ]
  },
  {
   "cell_type": "code",
   "execution_count": 9,
   "id": "2cdb754e",
   "metadata": {},
   "outputs": [
    {
     "name": "stdout",
     "output_type": "stream",
     "text": [
      "Testing append() method\n",
      "Appended element 5000000\n",
      "Linked list:\n",
      "Data: 2, Next: 4\n",
      "Data: 4, Next: 5\n",
      "Data: 5, Next: 6\n",
      "Data: 6, Next: 7\n",
      "Data: 7, Next: 8\n",
      "Data: 8, Next: 9\n",
      "Data: 9, Next: 10\n",
      "Data: 10, Next: 5000000\n",
      "Data: 5000000, Next: None\n",
      "\n"
     ]
    }
   ],
   "source": [
    "# Testing append() method \n",
    "print(\"Testing append() method\")\n",
    "newNode=Node(5000000,None)\n",
    "print(\"Appended element\",newNode.getData())\n",
    "s.append(newNode)\n",
    "print(s)\n"
   ]
  },
  {
   "cell_type": "code",
   "execution_count": 10,
   "id": "2e0a0b61",
   "metadata": {},
   "outputs": [
    {
     "name": "stdout",
     "output_type": "stream",
     "text": [
      "Testing insert() method\n",
      "Inserting number 5000000 in position 2\n",
      "Inserted element 3000000\n",
      "Linked list:\n",
      "Data: 2, Next: 4\n",
      "Data: 4, Next: 3000000\n",
      "Data: 3000000, Next: 5\n",
      "Data: 5, Next: 6\n",
      "Data: 6, Next: 7\n",
      "Data: 7, Next: 8\n",
      "Data: 8, Next: 9\n",
      "Data: 9, Next: 10\n",
      "Data: 10, Next: 5000000\n",
      "Data: 5000000, Next: None\n",
      "\n",
      "Size:  9\n"
     ]
    }
   ],
   "source": [
    "# Testing insert() method\n",
    "print(f\"Testing insert() method\\nInserting number {newNode.getData()} in position 2\")\n",
    "newNode=Node(3000000,None)\n",
    "s.insert(newNode,2)\n",
    "print(\"Inserted element\",newNode.getData())\n",
    "print(s)\n",
    "print(\"Size: \",s.size)"
   ]
  },
  {
   "cell_type": "code",
   "execution_count": null,
   "id": "ed2192fc",
   "metadata": {},
   "outputs": [],
   "source": []
  }
 ],
 "metadata": {
  "kernelspec": {
   "display_name": "Python 3 (ipykernel)",
   "language": "python",
   "name": "python3"
  },
  "language_info": {
   "codemirror_mode": {
    "name": "ipython",
    "version": 3
   },
   "file_extension": ".py",
   "mimetype": "text/x-python",
   "name": "python",
   "nbconvert_exporter": "python",
   "pygments_lexer": "ipython3",
   "version": "3.9.9"
  }
 },
 "nbformat": 4,
 "nbformat_minor": 5
}
