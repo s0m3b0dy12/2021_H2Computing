{
 "cells": [
  {
   "cell_type": "markdown",
   "metadata": {},
   "source": [
    "## Binary Search Tree\n",
    "\n",
    "A **Binary Search Tree** is a binary tree where nodes are ordered in the following way:\n",
    "* each node contains one key (also known as data)\n",
    "* the keys in the left subtree are less then the key in its parent node\n",
    "* the keys in the right subtree are greater the key in its parent node\n",
    "* the left and right subtree each must also be a binary search tree.\n",
    "* duplicate keys are not allowed\n",
    "\n",
    "### Exercise 1 \n",
    "Implement a `Node` class which has the follwing attributes\n",
    "* `data` contains the data\n",
    "* `left` pointer that points to the left subtree\n",
    "* `right` pointer that points to the right subtree\n",
    "\n",
    "* Initialize `data`, `left` and `right` in initializer. Both `left` and `right` has default value of `None`.\n",
    "* Implement `__str__()` method to return string with format `Node(data, left.data, right.data)`\n"
   ]
  },
  {
   "cell_type": "code",
   "execution_count": 7,
   "metadata": {},
   "outputs": [
    {
     "name": "stdout",
     "output_type": "stream",
     "text": [
      "10\n",
      "5\n",
      "15\n"
     ]
    }
   ],
   "source": [
    "class Node:\n",
    "    def __init__(self,data,left=None,right=None):\n",
    "        self._data = data\n",
    "        self._left = left\n",
    "        self._right = right\n",
    "\n",
    "    def getData(self):\n",
    "        return self._data\n",
    "\n",
    "    def getLeft(self):\n",
    "        return self._left\n",
    "\n",
    "    def setLeft(self,data):\n",
    "        self._left = data\n",
    "\n",
    "    def getRight(self):\n",
    "        return self._right\n",
    "\n",
    "    def setRight(self,data):\n",
    "        self._right = data\n",
    "\n",
    "    def __str__(self):\n",
    "        out = f\"{self._data}\"\n",
    "        return out\n",
    "\n",
    "\n",
    "\n",
    "\n",
    "\n",
    "l = Node(5)\n",
    "r = Node(15)\n",
    "n1 = Node(10, l, r)\n",
    "print(n1)\n",
    "print(n1.getLeft())\n",
    "print(n1.getRight())"
   ]
  },
  {
   "cell_type": "markdown",
   "metadata": {},
   "source": [
    "### Exercise 2\n",
    "\n",
    "Implement a class BinarySearchTree.\n",
    "\n",
    "It has a root attribute pointing to its root node.\n",
    "Define an `add()` method to add a val to the tree.\n",
    "\n",
    "The operation to insert a value is a recursive process at each node of the tree. \n",
    "* First we compare with the root node.\n",
    "* If root node is a None, put it in root node.\n",
    "* If the value is greater then the root node, recurse into right subtree.\n",
    "* If the value is less than the root node, recurse into left subtree.\n",
    "* Recurse until it reach a leaf node with None value, and add the node to the tree."
   ]
  },
  {
   "cell_type": "code",
   "execution_count": 8,
   "metadata": {},
   "outputs": [],
   "source": [
    "class BinarySearchTree1:\n",
    "    def __init__(self,root=None):\n",
    "        self._root = root\n",
    "\n",
    "    def getRoot(self):\n",
    "        return self._root\n",
    "\n",
    "    def add(self, new):\n",
    "        if self._root is None:\n",
    "            self._root = Node(new)\n",
    "\n",
    "        else:\n",
    "            self.recAdd(self._root, new)\n",
    "\n",
    "    def recAdd(self, root, new):\n",
    "        if new < root.getData():\n",
    "            if root._left:\n",
    "                self.recAdd(root.getLeft(), new)\n",
    "            else:\n",
    "                root._left = Node(new)\n",
    "        else:\n",
    "            if root._right:\n",
    "                self.recAdd(root.getRight(), new)\n",
    "            else:\n",
    "                root._right = Node(new)\n",
    "\n",
    "                \n",
    "t = BinarySearchTree1()\n",
    "t.add(10)\n",
    "t.add(5)\n",
    "t.add(15)\n",
    "t.add(1)\n",
    "\n",
    " "
   ]
  },
  {
   "cell_type": "markdown",
   "metadata": {},
   "source": [
    "### Exercise 3\n",
    "\n",
    "* Define a `inorder` method that perform an inorder traversal of the tree \n",
    "\n",
    "#### Inorder Traversal \n",
    "* Traverse the left subtree\n",
    "* Visit the root.\n",
    "* Traverse the right subtree\n",
    "\n",
    "Inorder traversal gives nodes in increasing order."
   ]
  },
  {
   "cell_type": "code",
   "execution_count": 9,
   "metadata": {},
   "outputs": [
    {
     "name": "stdout",
     "output_type": "stream",
     "text": [
      "Inorder: 1 5 7 10 12 15 17 \n"
     ]
    }
   ],
   "source": [
    "class BinarySearchTree2(BinarySearchTree1):\n",
    "    def __init__(self, root=None):\n",
    "        BinarySearchTree1.__init__(self, root)\n",
    "\n",
    "    def inOrder(self, root):\n",
    "        out = \"\"\n",
    "        if root:\n",
    "            out = str(self.inOrder(root.getLeft())) + str(root.getData()) + \" \" + out + str(self.inOrder(root.getRight()))\n",
    "        return out\n",
    "\n",
    "\n",
    "\n",
    "\n",
    "t = BinarySearchTree2()\n",
    "t.add(10)\n",
    "t.add(5)\n",
    "t.add(15)\n",
    "t.add(1)\n",
    "t.add(7)\n",
    "t.add(12)\n",
    "t.add(17)\n",
    "print(f\"Inorder: {t.inOrder(t.getRoot())}\")\n",
    "\n"
   ]
  },
  {
   "cell_type": "markdown",
   "metadata": {},
   "source": [
    "### Exercise 4\n",
    "\n",
    "* Define a `preorder` method that perform a preorder traversal of the tree \n",
    "\n",
    "#### Preorder Traversal \n",
    "* Visit the root.\n",
    "* Traverse the left subtree\n",
    "* Traverse the right subtree\n",
    "\n",
    "Preorder traversal is used to create a copy of the tree "
   ]
  },
  {
   "cell_type": "code",
   "execution_count": 10,
   "metadata": {},
   "outputs": [
    {
     "name": "stdout",
     "output_type": "stream",
     "text": [
      "Inorder: 10 5 1 7 15 12 17 \n"
     ]
    }
   ],
   "source": [
    "class BinarySearchTree3(BinarySearchTree1):\n",
    "    def __init__(self,root=None):\n",
    "        BinarySearchTree1.__init__(self,root)\n",
    "\n",
    "    def preOrder(self, root):\n",
    "        out = \"\"\n",
    "        if root:\n",
    "            out = str(root.getData()) + \" \" + self.preOrder(root.getLeft()) + out + str(self.preOrder(root.getRight()))\n",
    "        return out\n",
    "\n",
    "\n",
    "            \n",
    "if __name__ == '__main__':\n",
    "    t = BinarySearchTree3()\n",
    "    t.add(10)\n",
    "    t.add(5)\n",
    "    t.add(15)\n",
    "    t.add(1)\n",
    "    t.add(7)\n",
    "    t.add(12)\n",
    "    t.add(17)\n",
    "    #t.inOrder(t.root)\n",
    "    print(f\"Inorder: {t.preOrder(t.getRoot())}\")"
   ]
  },
  {
   "cell_type": "markdown",
   "metadata": {},
   "source": [
    "### Exercise 5\n",
    "\n",
    "* Define a `postorder` method that perform a postorder traversal of the tree \n",
    "\n",
    "#### Postorder Traversal \n",
    "* Traverse the left subtree\n",
    "* Traverse the right subtree\n",
    "* Visit the root.\n",
    "\n",
    "Postorder traversal is used to delete the tree."
   ]
  },
  {
   "cell_type": "code",
   "execution_count": 11,
   "metadata": {},
   "outputs": [
    {
     "name": "stdout",
     "output_type": "stream",
     "text": [
      "Postorder: 1 7 5 12 17 15 10 \n"
     ]
    }
   ],
   "source": [
    "class BinarySearchTree4(BinarySearchTree1):\n",
    "    def __init__(self,root=None):\n",
    "        BinarySearchTree1.__init__(self,root)\n",
    "\n",
    "    def postOrder(self, root):\n",
    "        out = \"\"\n",
    "        if root:\n",
    "            out = str(self.postOrder(root.getLeft()))  + str(self.postOrder(root.getRight())) + str(root.getData()) + \" \"\n",
    "        return out\n",
    "\n",
    "    \n",
    "            \n",
    "\n",
    "t = BinarySearchTree4()\n",
    "t.add(10)\n",
    "t.add(5)\n",
    "t.add(15)\n",
    "t.add(1)\n",
    "t.add(7)\n",
    "t.add(12)\n",
    "t.add(17)\n",
    "print(f\"Postorder: {t.postOrder(t.getRoot())}\")\n",
    "    "
   ]
  },
  {
   "cell_type": "markdown",
   "metadata": {},
   "source": [
    "### Exercise 6\n",
    "\n",
    "* Define a `find` method that accept a value. The method returns the node if the value is found, otherwise None is returned.\n",
    "\n",
    "#### Find item\n",
    "To search a given value in Binary Search Tree, we compare it with root.\n",
    "\n",
    "* If the value is present at root, we return the root.\n",
    "* If the value is greater than root’s value, we recurse into the right subtree of root node.\n",
    "* Otherwise we recurse in the left subtree.\n"
   ]
  },
  {
   "cell_type": "code",
   "execution_count": 80,
   "metadata": {},
   "outputs": [
    {
     "name": "stdout",
     "output_type": "stream",
     "text": [
      "node 20\n",
      "Found: Node: 20\n"
     ]
    }
   ],
   "source": [
    "class BinarySearchTree5(BinarySearchTree1):\n",
    "\n",
    "    def __init__(self,root=None):\n",
    "        BinarySearchTree1.__init__(self,root)\n",
    "\n",
    "    def find(self,key):\n",
    "        if key != self.getRoot().getData():\n",
    "            if key < self.getRoot().getData():\n",
    "                self._root = self._root.getLeft()  # Move to left node if the key is less than root\n",
    "                return self.find(key) # Recurse\n",
    "            else:\n",
    "                self._root = self._root.getRight() # Move to right node if the key is more than root\n",
    "                return self.find(key) # Recurse\n",
    "        else:\n",
    "            out = self.getRoot().getData()\n",
    "            return out\n",
    "\n",
    "t = BinarySearchTree5()\n",
    "t.add(10)\n",
    "t.add(5)\n",
    "t.add(15)\n",
    "t.add(1)\n",
    "t.add(7)\n",
    "t.add(12)\n",
    "t.add(17)\n",
    "t.add(20)\n",
    "t.add(16)\n",
    "t.add(18)\n",
    "node = t.find(20)\n",
    "print(\"node\", node)\n",
    "if node is not None:\n",
    "    print(f\"Found: Node: {node}\")\n",
    "else:\n",
    "    print(\"Not found\")"
   ]
  },
  {
   "cell_type": "markdown",
   "metadata": {},
   "source": [
    "### Exercise 7\n",
    "\n",
    "* Define a `insert` method that add a val to the tree **without recursion**\n"
   ]
  },
  {
   "cell_type": "code",
   "execution_count": 91,
   "metadata": {},
   "outputs": [],
   "source": [
    "class BinarySearchTree6(BinarySearchTree1):\n",
    "    def __init__(self,root=None):\n",
    "        BinarySearchTree1.__init__(self,root)\n",
    "\n",
    "    def insert(self, new):\n",
    "        if self._root is None:\n",
    "            self._root = Node(new)\n",
    "\n",
    "        else:\n",
    "            probe = self.getRoot()\n",
    "            while probe is not None and probe != new:\n",
    "                if new < probe:\n",
    "                    probe = probe.getLeft()\n",
    "\n",
    "                else:\n",
    "                    probe = probe.getRight()\n",
    "\n",
    "            probe = Node(new)\n",
    "\n",
    "\n",
    "t = BinarySearchTree6()\n",
    "t.add(10)\n",
    "t.add(5)\n",
    "t.add(15)\n",
    "t.add(1)\n",
    "t.add(7)\n",
    "t.add(12)\n",
    "t.add(17)\n",
    "t.add(20)\n",
    "t.add(16)\n",
    "t.add(18)\n"
   ]
  },
  {
   "cell_type": "markdown",
   "metadata": {},
   "source": [
    "### Exercise 8\n",
    "\n",
    "* Define a `search` method that search for a val in the tree **without recursion**. The method returns the Node if the value is found, otherwise None will be returned.\n"
   ]
  },
  {
   "cell_type": "code",
   "execution_count": 90,
   "metadata": {
    "pycharm": {
     "name": "#%%\n"
    }
   },
   "outputs": [
    {
     "name": "stdout",
     "output_type": "stream",
     "text": [
      "node 20\n",
      "Found: Node: 20\n"
     ]
    }
   ],
   "source": [
    "class BinarySearchTree7(BinarySearchTree1):\n",
    "    def __init__(self,root=None):\n",
    "        BinarySearchTree1.__init__(self,root)\n",
    "\n",
    "    def iterativeSearch(self,key):\n",
    "        root = self.getRoot()\n",
    "        while root:\n",
    "            if key > root.getData():\n",
    "                root = root.getRight()\n",
    "\n",
    "            elif key < root.getData():\n",
    "                root = root.getLeft()\n",
    "            else:\n",
    "                return root\n",
    "        return root\n",
    "\n",
    "t = BinarySearchTree7()\n",
    "t.add(10)\n",
    "t.add(5)\n",
    "t.add(15)\n",
    "t.add(1)\n",
    "t.add(7)\n",
    "t.add(12)\n",
    "t.add(17)\n",
    "t.add(20)\n",
    "t.add(16)\n",
    "t.add(18)\n",
    "node = t.iterativeSearch(20)\n",
    "print(\"node\", node)\n",
    "if node is not None:\n",
    "    print(f\"Found: Node: {node}\")\n",
    "else:\n",
    "    print(\"Not found\")"
   ]
  }
 ],
 "metadata": {
  "kernelspec": {
   "display_name": "Python 3",
   "language": "python",
   "name": "python3"
  },
  "language_info": {
   "codemirror_mode": {
    "name": "ipython",
    "version": 3
   },
   "file_extension": ".py",
   "mimetype": "text/x-python",
   "name": "python",
   "nbconvert_exporter": "python",
   "pygments_lexer": "ipython3",
   "version": "3.8.5"
  }
 },
 "nbformat": 4,
 "nbformat_minor": 2
}