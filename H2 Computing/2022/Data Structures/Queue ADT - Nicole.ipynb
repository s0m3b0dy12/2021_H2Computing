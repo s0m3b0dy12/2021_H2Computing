{
 "cells": [
  {
   "cell_type": "markdown",
   "metadata": {},
   "source": [
    "## Queue ADT\n",
    "\n",
    "**Queue** is a First in First Out (FIFO) structure in which access is completely restricted to just one end – this end is known as top.\n",
    "\n",
    "### Operations\n",
    "The basic operations of a queue areto enqueue and dequeue item from its top. \n",
    "* **enqueue**: Add an item at the end of the queue.\n",
    "* **dequeue**: Remove and return the first item of the queue, if the queue is not empty\n",
    "\n",
    "Other supporting functions to be added are:\n",
    "* **isEmpty()**: Returns true if the queue is empty, otherwise false\n",
    "* **size()**: Returns the number of items in the queue\n",
    "* **peek()**: return the first item of the queue without removing it, if the queue is not empty\n",
    "\n",
    "### Exercise 1\n",
    "\n",
    "Complete the `ArrayQueue1` class implementation using Python list:\n",
    "* Initialize an empty list with a predefined size in initializer method\n",
    "* Code `enqueue()` and `dequeue()` methods to implement basic oprations of a queue\n",
    "* Code `isEmpty()`, `size()` and `peek()` methods \n",
    "\n",
    "#### Implement ArrayQueue1 with the following :\n",
    "* The front of the queue is always at position 0\n",
    "* Rear variable points to the last item at position n-1, where n is the number of items in queue\n",
    "* Dequeue operation will require shifting all the items in the array to the front. "
   ]
  },
  {
   "cell_type": "code",
   "execution_count": null,
   "metadata": {},
   "outputs": [],
   "source": []
  },
  {
   "cell_type": "markdown",
   "metadata": {},
   "source": [
    "### Exercise 2\n",
    "\n",
    "Complete the `ArrayQueue2` class implementation using Python list:\n",
    "* Initialize an empty list with a predefined size in initializer method\n",
    "* Code `enqueue()` and `dequeue()` methods to implement basic oprations of a queue\n",
    "* Code `isEmpty()`, `size()` and `peek()` methods \n",
    "\n",
    "#### Implement ArrayQueue2 with the following :\n",
    "* Maintain a variable `front` that points to the item at the front of the queue. Starts at 0 and advances as items dequeued.\n",
    "* Rear variable points to the last item at position n-1, where n is the number of items in queue\n",
    "* The items will be shifted to the start of the queue when the rear pointer is about to run off the end"
   ]
  },
  {
   "cell_type": "code",
   "execution_count": null,
   "metadata": {},
   "outputs": [],
   "source": [
    "Class ArrayQueue2:"
   ]
  },
  {
   "cell_type": "markdown",
   "metadata": {},
   "source": [
    "### Exercise 3\n",
    "\n",
    "Complete the `ArrayQueue3` class implementation using Python list:\n",
    "* Initialize an empty list with a predefined size in initializer method\n",
    "* Code `enqueue()` and `dequeue()` methods to implement basic oprations of a queue\n",
    "* Code `isEmpty()`, `size()` and `peek()` methods \n",
    "\n",
    "#### Implement ArrayQueue3 with the following :\n",
    "* Use a circular array implementation\n",
    "* Maintain 2 variables `rear` and `front`. `rear` starts from -1 and `front` starts from 0\n",
    "* When a pointer runs off the end of the array, it is reset to 0"
   ]
  },
  {
   "cell_type": "code",
   "execution_count": null,
   "metadata": {},
   "outputs": [],
   "source": [
    "Class ArrayQueue3:"
   ]
  },
  {
   "cell_type": "markdown",
   "metadata": {},
   "source": [
    "### Exercise 4\n",
    "\n",
    "Complete the LinkedListQueue class implementation using linked list:\n",
    "\n",
    "Define a Node class that is use to hold data and a reference to the next item."
   ]
  },
  {
   "cell_type": "code",
   "execution_count": null,
   "metadata": {},
   "outputs": [],
   "source": [
    "Class Node:\n",
    "    \n",
    "\n",
    "\n",
    "    "
   ]
  },
  {
   "cell_type": "markdown",
   "metadata": {},
   "source": [
    "Define a LinkedListQueue class that has 3 attributes.\n",
    " * front- points to the front of the queue\n",
    " * rear - points to the rear of the queue\n",
    " * size- contains the size of the queue\n",
    "\n",
    "Define the following methods.\n",
    "* Initialize the front and back to None and size to 0 in initializer method\n",
    "* Code `enqueue()` and `dequeue()` methods to implement basic oprations of a queue\n",
    "* Code `isEmpty()`, `size()` and `peek()` methods \n"
   ]
  },
  {
   "cell_type": "code",
   "execution_count": null,
   "metadata": {},
   "outputs": [],
   "source": [
    "Class LinkedListQueue:\n",
    "    "
   ]
  },
  {
   "cell_type": "markdown",
   "metadata": {},
   "source": [
    "### Exercise 5\n",
    "#### Tutorial 10C Q1\n",
    "\n",
    "Define a function named `stackToQueue`. \n",
    "* This function accept a stack as an argument.  \n",
    "* The function builds and returns an instance of LinkedQueue that contains the elements in the stack. \n",
    "* The function assumes that the stack has the interface described in the  previous stack section. \n",
    "* The function’s postconditions are that the stack is left in the  same state as it was before the function was called, and that the queue’s front element  is the one at the top of the stack. \n"
   ]
  },
  {
   "cell_type": "code",
   "execution_count": null,
   "metadata": {},
   "outputs": [],
   "source": [
    "def statckToQueue():"
   ]
  },
  {
   "cell_type": "markdown",
   "metadata": {},
   "source": [
    "### Exercise 6\n",
    "\n",
    "Define a class PNode which extends the `Node` class written above.  \n",
    "* The PNode class has an additional attribute `priority` which contains an integer value that defines the level of priority.\n"
   ]
  },
  {
   "cell_type": "code",
   "execution_count": null,
   "metadata": {},
   "outputs": [],
   "source": [
    "#define PNode here\n",
    "Class PNode:"
   ]
  },
  {
   "cell_type": "markdown",
   "metadata": {},
   "source": [
    "Define a class `PriorityQueue` which extends the `LinkedListQueue` written above. \n",
    "The `PriorityQueue` class override the following method of the `LinkedListQueue`\n",
    "* `enqueue()` add an new item (PNode) to the queue based on the priority of the item, the highest priority item will be placed at the front of the queue. If there are items with the same priority in the queue, the new item will be inserted behind the last item with the same priority. Provide test cases for this method. \n",
    "\n",
    "Add a new method\n",
    "* `dequeueByPriority(priority)` dequeue the first item with the priority given in the parameter of the method in the queue. Provide test cases for this method.\n",
    "* `getHighestPriority()` returns the value of the highest priority in the queue\n",
    "* `getLowestPriority()` returns the value of the lowest priority in the queue\n",
    "\n",
    "\n",
    "\n"
   ]
  },
  {
   "cell_type": "code",
   "execution_count": null,
   "metadata": {},
   "outputs": [],
   "source": [
    "Class PriorityQueue:"
   ]
  }
 ],
 "metadata": {
  "kernelspec": {
   "display_name": "Python 3",
   "language": "python",
   "name": "python3"
  },
  "language_info": {
   "codemirror_mode": {
    "name": "ipython",
    "version": 3
   },
   "file_extension": ".py",
   "mimetype": "text/x-python",
   "name": "python",
   "nbconvert_exporter": "python",
   "pygments_lexer": "ipython3",
   "version": "3.8.5"
  }
 },
 "nbformat": 4,
 "nbformat_minor": 2
}
