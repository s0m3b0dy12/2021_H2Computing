{
 "cells": [
  {
   "cell_type": "code",
   "execution_count": 1,
   "id": "96bff14d",
   "metadata": {},
   "outputs": [
    {
     "name": "stdout",
     "output_type": "stream",
     "text": [
      "Database already created\n"
     ]
    }
   ],
   "source": [
    "import sqlite3\n",
    "\n",
    "connection = sqlite3.connect(\"library.db\") # Create a library database file \n",
    "try:\n",
    "    connection.execute(\"CREATE TABLE Book \" + \"(ID INTEGER PRIMARY KEY, Title TEXT Author TEXT)\") \n",
    "    connection.commit() # Save the changes made to the database\n",
    "except:\n",
    "    print('Database already created')"
   ]
  },
  {
   "cell_type": "code",
   "execution_count": 4,
   "id": "8e071766",
   "metadata": {},
   "outputs": [],
   "source": [
    "f = open('books.txt','r')\n",
    "for line in f: \n",
    "    line = line.strip().split(' by ')\n",
    "    title = line[0]\n",
    "    author= line[1]\n",
    "    connection.execute(\"INSERT INTO Book(Title,Author)\" + \"VALUES(?,?)\",(title,author))\n",
    "    connection.commit()"
   ]
  },
  {
   "cell_type": "markdown",
   "id": "13d1fd60",
   "metadata": {},
   "source": [
    "Things to cover\n",
    "1. Create database and its headers (if it wasn't there in the first place)\n",
    "2. Insert values into database\n",
    "3. Remember to commit the changes to be able to see it in the database\n",
    "4. Delete rows from the database using prepared statement\n",
    "5. Use select statement (create a cursor) to select data from the database\n",
    "6. Change the ordering of the columns without having to copy and paste every row in the column\n",
    "7. try-except sql error"
   ]
  },
  {
   "cell_type": "code",
   "execution_count": null,
   "id": "ede0daff",
   "metadata": {},
   "outputs": [],
   "source": []
  }
 ],
 "metadata": {
  "kernelspec": {
   "display_name": "Python 3 (ipykernel)",
   "language": "python",
   "name": "python3"
  },
  "language_info": {
   "codemirror_mode": {
    "name": "ipython",
    "version": 3
   },
   "file_extension": ".py",
   "mimetype": "text/x-python",
   "name": "python",
   "nbconvert_exporter": "python",
   "pygments_lexer": "ipython3",
   "version": "3.9.9"
  }
 },
 "nbformat": 4,
 "nbformat_minor": 5
}