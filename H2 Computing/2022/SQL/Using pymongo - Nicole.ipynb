{
 "cells": [
  {
   "cell_type": "markdown",
   "metadata": {},
   "source": [
    "## Using pymongo \n",
    "\n",
    "#### Installing pyMongo in jupyter notebook\n",
    "Using pip : !pip install pymongo==3.12.3\n",
    "\n",
    "For anaconda : open anaconda prompt, type conda install -c anaconda pymongo or in the Environment, add pymongo module (make sure it is a version that is not higher than 3.12.3\n",
    "\n",
    "#### Import the books json files to the mongoDB server\n",
    "* Start the mongoDB server\n",
    "* Check that there are no existing bookdb database\n",
    "* Remove any bookdb database if it exists\n",
    "* Use monoimport to import the books.json file into the mongoDB server.\n",
    "* ``` mongoimport --db bookdb --collection book --file c:\\data\\books.json ```\n",
    "\n",
    "\n",
    "#### Connecting to the mongoDB database using pymongo\n",
    "\n",
    "```\n",
    "##import pymongo\n",
    "from pymongo import MongoClient\n",
    "\n",
    "##connect the client(program) to a mongoDB server\n",
    "client = MongoClient(\"localhost\", 27017)\n",
    "\n",
    "##list databases in your mongoDB server\n",
    "dbs = client.list_database_names()\n",
    "for d in dbs:\n",
    "    print(d)\n",
    "print(client.database_names())  #deprecated method - use list_database_names\n",
    "\n",
    "##close the connection\n",
    "client.close()\n",
    "```\n",
    "#### Exercise 1\n",
    "Copy the above code and run it! Make sure you have pymongo install in your jupyter notebook!"
   ]
  },
  {
   "cell_type": "code",
   "execution_count": 1,
   "metadata": {},
   "outputs": [
    {
     "name": "stdout",
     "output_type": "stream",
     "text": [
      "admin\n",
      "bookdb\n",
      "local\n",
      "['admin', 'bookdb', 'local']\n"
     ]
    },
    {
     "name": "stderr",
     "output_type": "stream",
     "text": [
      "C:\\Users\\scarl\\AppData\\Local\\Temp/ipykernel_4008/845585285.py:10: DeprecationWarning: database_names is deprecated. Use list_database_names instead.\n",
      "  print(client.database_names())  #deprecated method - use list_database_names\n"
     ]
    }
   ],
   "source": [
    "from pymongo import MongoClient\n",
    "\n",
    "##connect the client(program) to a mongoDB server\n",
    "client = MongoClient(\"localhost\", 27017)\n",
    "\n",
    "##list databases in your mongoDB server\n",
    "dbs = client.list_database_names()\n",
    "for d in dbs:\n",
    "    print(d)\n",
    "print(client.database_names())  #deprecated method - use list_database_names"
   ]
  },
  {
   "cell_type": "markdown",
   "metadata": {},
   "source": [
    "#### Creating Collection using pymongo \n",
    "\n",
    "```\n",
    "from pymongo import MongoClient\n",
    "\n",
    "#connect the client(program) to a mongoDB server\n",
    "client = MongoClient(\"localhost\", 27017)\n",
    "\n",
    "mydb = client[\"mydatabase\"]   ## use the database mydatabase\n",
    "mycoll = mydb[\"customers\"]    ## get the collection - customers\n",
    "client.close()\n",
    "```\n",
    "#### Dropping Collection using pymongo \n",
    "\n",
    "```\n",
    "from pymongo import MongoClient\n",
    "\n",
    "#connect the client(program) to a mongoDB server\n",
    "client = MongoClient(\"localhost\", 27017)\n",
    "\n",
    "mydb = client[\"mydatabase\"]   ## use the database mydatabase\n",
    "mycoll = mydb[\"customers\"]    ## get the collection - customers\n",
    "mycoll.drop()\n",
    "client.close()\n",
    "```\n",
    "#### Exercise 2 :\n",
    "\n",
    "Copy the above code and run it!  You can try dropping some of the collections you have created in your mongoDB server!"
   ]
  },
  {
   "cell_type": "code",
   "execution_count": 2,
   "metadata": {},
   "outputs": [],
   "source": [
    "mydb = client[\"mydatabase\"]   ## use the database mydatabase\n",
    "mycoll = mydb[\"customers\"]    ## get the collection - customers"
   ]
  },
  {
   "cell_type": "code",
   "execution_count": 3,
   "metadata": {},
   "outputs": [],
   "source": [
    "mydb = client[\"mydatabase\"]   ## use the database mydatabase\n",
    "mycoll = mydb[\"customers\"]    ## get the collection - customers\n",
    "mycoll.drop()\n",
    "client.close()"
   ]
  },
  {
   "cell_type": "markdown",
   "metadata": {},
   "source": [
    "#### List the collections in the database\n",
    "\n",
    "```\n",
    "from pymongo import MongoClient\n",
    "\n",
    "##connect the client(program) to a mongoDB server\n",
    "try:\n",
    "    client = MongoClient(\"localhost\", 27017)\n",
    "    print(\"Connected\")\n",
    "except:\n",
    "    print(\"Cannot connect to database\")\n",
    "\n",
    "mydb = client[\"mydatabase\"]   ## use the database mydatabase\n",
    "mycoll = mydb[\"customers\"]    ## get the collection - customers\n",
    "\n",
    "print(mydb.list_collection_names())\n",
    "client.close()\n",
    "\n",
    "```\n",
    "#### Exercise 3\n",
    "\n",
    "Copy the above code and run it! "
   ]
  },
  {
   "cell_type": "code",
   "execution_count": 4,
   "metadata": {},
   "outputs": [
    {
     "name": "stdout",
     "output_type": "stream",
     "text": [
      "Connected\n",
      "[]\n"
     ]
    }
   ],
   "source": [
    "from pymongo import MongoClient\n",
    "\n",
    "##connect the client(program) to a mongoDB server\n",
    "try:\n",
    "    client = MongoClient(\"localhost\", 27017)\n",
    "    print(\"Connected\")\n",
    "except:\n",
    "    print(\"Cannot connect to database\")\n",
    "\n",
    "mydb = client[\"mydatabase\"]   ## use the database mydatabase\n",
    "mycoll = mydb[\"customers\"]    ## get the collection - customers\n",
    "\n",
    "print(mydb.list_collection_names())\n",
    "client.close()"
   ]
  },
  {
   "cell_type": "markdown",
   "metadata": {},
   "source": [
    "#### Exercise 4\n",
    "\n",
    "List the collections in the bookdb"
   ]
  },
  {
   "cell_type": "code",
   "execution_count": 5,
   "metadata": {},
   "outputs": [
    {
     "name": "stdout",
     "output_type": "stream",
     "text": [
      "[]\n"
     ]
    }
   ],
   "source": [
    "print(mydb.list_collection_names())"
   ]
  },
  {
   "cell_type": "markdown",
   "metadata": {},
   "source": [
    "#### Inserting document/s into collection\n",
    "\n",
    "* Using insert_one() to insert document. \n",
    "\n",
    "The insert_one() method returns an instance of InsertOneResult, which has a property, inserted_id, that holds the id of the inserted document.\n",
    "\n",
    "\n",
    "```\n",
    "from pymongo import MongoClient\n",
    "\n",
    "#connect the client(program) to a mongoDB server\n",
    "try:\n",
    "    client = MongoClient(\"localhost\", 27017)\n",
    "    print(\"Connected\")\n",
    "except:\n",
    "    print(\"Cannot connect to database\")\n",
    "\n",
    "mydb = client[\"mydatabase\"]   ## use the database mydatabase\n",
    "mycoll = mydb[\"customers\"]    ## get the collection - customers\n",
    "\n",
    "document = {\"name\":\"Peter\", \"address\":\"abc def\"} ##dictionary\n",
    "x=mycoll.insert_one(document)\n",
    "print(x.inserted_id)\n",
    "client.close()\n",
    "```\n",
    "* Using insert_many to insert documents. \n",
    "\n",
    "The insert_many() method returns an instance of InsertManyResult, which has a property, inserted_ids, that holds the list of ids of the inserted documents\n",
    "\n",
    "```\n",
    "from pymongo import MongoClient\n",
    "\n",
    "custList =[\n",
    "    {\"name\": \"Amy\", \"address\":\"Apple ST 652\"},\n",
    "    {\"name\": \"Hannah\", \"address\":\"Montain 21\"},\n",
    "    {\"name\": \"Michael\", \"address\":\"Valley 345\"},\n",
    "    {\"name\": \"Sandy\", \"address\":\"Ocean blvd 2\"},\n",
    "    {\"name\": \"Betty\", \"address\":\"Green Grass 1\"},\n",
    "    {\"name\": \"Richard\", \"address\":\"Sky st 331\"}\n",
    "]\n",
    "\n",
    "#connect the client(program) to a mongoDB server\n",
    "try:\n",
    "    client = MongoClient(\"localhost\", 27017)\n",
    "    print(\"Connected\")\n",
    "except:\n",
    "    print(\"Cannot connect to database\")\n",
    "\n",
    "mydb = client[\"mydatabase\"]   ## use the database mydatabase\n",
    "mycoll = mydb[\"customers\"]    ## get the collection - customers\n",
    "x=mycoll.insert_many(custList)  ## insert many - a list of customers\n",
    "print(x.inserted_ids)\n",
    "client.close()\n",
    "```\n",
    "#### Exercise 5\n",
    "\n",
    "Copy and try the code above.\n"
   ]
  },
  {
   "cell_type": "code",
   "execution_count": 6,
   "metadata": {},
   "outputs": [
    {
     "name": "stdout",
     "output_type": "stream",
     "text": [
      "Connected\n",
      "625e308b99667a96a7be10a9\n"
     ]
    }
   ],
   "source": [
    "from pymongo import MongoClient\n",
    "\n",
    "#connect the client(program) to a mongoDB server\n",
    "try:\n",
    "    client = MongoClient(\"localhost\", 27017)\n",
    "    print(\"Connected\")\n",
    "except:\n",
    "    print(\"Cannot connect to database\")\n",
    "\n",
    "mydb = client[\"mydatabase\"]   ## use the database mydatabase\n",
    "mycoll = mydb[\"customers\"]    ## get the collection - customers\n",
    "\n",
    "document = {\"name\":\"Peter\", \"address\":\"abc def\"} ##dictionary\n",
    "x=mycoll.insert_one(document)\n",
    "print(x.inserted_id)\n",
    "client.close()"
   ]
  },
  {
   "cell_type": "code",
   "execution_count": 7,
   "metadata": {},
   "outputs": [
    {
     "name": "stdout",
     "output_type": "stream",
     "text": [
      "Connected\n",
      "[ObjectId('625e308b99667a96a7be10ab'), ObjectId('625e308b99667a96a7be10ac'), ObjectId('625e308b99667a96a7be10ad'), ObjectId('625e308b99667a96a7be10ae'), ObjectId('625e308b99667a96a7be10af'), ObjectId('625e308b99667a96a7be10b0')]\n"
     ]
    }
   ],
   "source": [
    "from pymongo import MongoClient\n",
    "\n",
    "custList =[\n",
    "    {\"name\": \"Amy\", \"address\":\"Apple ST 652\"},\n",
    "    {\"name\": \"Hannah\", \"address\":\"Montain 21\"},\n",
    "    {\"name\": \"Michael\", \"address\":\"Valley 345\"},\n",
    "    {\"name\": \"Sandy\", \"address\":\"Ocean blvd 2\"},\n",
    "    {\"name\": \"Betty\", \"address\":\"Green Grass 1\"},\n",
    "    {\"name\": \"Richard\", \"address\":\"Sky st 331\"}\n",
    "]\n",
    "\n",
    "#connect the client(program) to a mongoDB server\n",
    "try:\n",
    "    client = MongoClient(\"localhost\", 27017)\n",
    "    print(\"Connected\")\n",
    "except:\n",
    "    print(\"Cannot connect to database\")\n",
    "\n",
    "mydb = client[\"mydatabase\"]   ## use the database mydatabase\n",
    "mycoll = mydb[\"customers\"]    ## get the collection - customers\n",
    "x=mycoll.insert_many(custList)  ## insert many - a list of customers\n",
    "print(x.inserted_ids)\n",
    "client.close()"
   ]
  },
  {
   "cell_type": "markdown",
   "metadata": {},
   "source": [
    "#### Exercise 6\n",
    "\n",
    "Insert the following book to the book collection in bookdb.\n",
    "\n",
    "```\n",
    "{ \"title\" : \"Cryptography Demystified\", \"isbn\" : \"0071406387\", \"pageCount\" : 356, \"thumbnailUrl\" : \"https://m.media-amazon.com/images/I/710c8mSVe9L._AC_UY218_ML3_.jpg\", \"status\" : \"MEAP\", \"authors\" : [ \"John Hershey\"], \"categories\" : ['Demystified'] }\n",
    "\n",
    "```\n"
   ]
  },
  {
   "cell_type": "code",
   "execution_count": 8,
   "metadata": {},
   "outputs": [
    {
     "name": "stdout",
     "output_type": "stream",
     "text": [
      "Connected\n",
      "625e308b99667a96a7be10b2\n"
     ]
    }
   ],
   "source": [
    "from pymongo import MongoClient\n",
    "\n",
    "# Connect the client(program) to a mongoDB server\n",
    "try:\n",
    "    client = MongoClient(\"localhost\", 27017)\n",
    "    print(\"Connected\")\n",
    "except:\n",
    "    print(\"Cannot connect to database\")\n",
    "    \n",
    "mydb = client[\"bookdb\"]   ## use the database mydatabase\n",
    "mycoll = mydb[\"book\"]    ## get the collection - customers\n",
    "\n",
    "document = { \"title\" : \"Cryptography Demystified\", \"isbn\" : \"0071406387\", \n",
    "            \"pageCount\" : 356, \"thumbnailUrl\" : \"https://m.media-amazon.com/images/I/710c8mSVe9L._AC_UY218_ML3_.jpg\", \n",
    "            \"status\" : \"MEAP\", \"authors\" : [ \"John Hershey\"], \"categories\" : ['Demystified']}\n",
    "x=mycoll.insert_one(document)\n",
    "print(x.inserted_id)\n",
    "client.close()"
   ]
  },
  {
   "cell_type": "markdown",
   "metadata": {},
   "source": [
    "#### Exercise 7\n",
    "\n",
    "Insert the following list of books to the book collection in bookdb.\n",
    "\n",
    "```\n",
    "[\n",
    "{ \"title\" : \"Serious Cryptography: A Practical Introduction to Modern Encryption\", \"isbn\" : \"1593278268\", \"pageCount\" : 313, \"thumbnailUrl\" : \"https://m.media-amazon.com/images/I/51wv16GC0FL.jpg\", \"status\" : \"MEAP\", \"authors\" : [ \"Jean-Philippe Aumasson\"], \"categories\" : [] },\n",
    "\n",
    "{ \"title\" : \"Rootkits and Bootkits: Reversing Modern Malware and Next Generation Threats\", \"isbn\" : \"B07P8J5HZJ\", \"pageCount\" : 448, \"thumbnailUrl\" : \"https://m.media-amazon.com/images/I/51+Zko5mWpL.jpg\", \"status\" : \"MEAP\", \"authors\" : [ \"Alex Matrosov\", \"Eugene Rodionov\", \"Sergey Bratus\" ], \"categories\" : [\"Viruses & Malware\", \"Computer Viruses\"] },\n",
    "\n",
    "{ \"title\" : \"Understanding Cryptography: A Textbook for Students and Practitioners\", \"isbn\" : \"B014P9I39Q\", \"pageCount\" : 390, \"thumbnailUrl\" : \"https://m.media-amazon.com/images/I/61TXcy7R+kL._AC_UY218_ML3_.jpg\", \"status\" : \"MEAP\", \"authors\" : [ \"Prof. Dr.-Ing. Christof Paar\", \"Prof. Dr.-Ing. January Pelzl\"], \"categories\" : [\" Computer Information Theory\", \"Encryption\"] }\n",
    "]\n",
    "\n",
    "```"
   ]
  },
  {
   "cell_type": "code",
   "execution_count": 9,
   "metadata": {},
   "outputs": [
    {
     "name": "stdout",
     "output_type": "stream",
     "text": [
      "Connected\n"
     ]
    }
   ],
   "source": [
    "from pymongo import MongoClient\n",
    "\n",
    "# Connect the client(program) to a mongoDB server\n",
    "try:\n",
    "    client = MongoClient(\"localhost\", 27017)\n",
    "    print(\"Connected\")\n",
    "except:\n",
    "    print(\"Cannot connect to database\")\n",
    "    \n",
    "mydb = client[\"bookdb\"]   ## use the database mydatabase\n",
    "mycoll = mydb[\"book\"]    ## get the collection - customers\n",
    "\n",
    "document = [{ \"title\" : \"Serious Cryptography: A Practical Introduction to Modern Encryption\", \"isbn\" : \"1593278268\", \"pageCount\" : 313, \"thumbnailUrl\" : \"https://m.media-amazon.com/images/I/51wv16GC0FL.jpg\", \"status\" : \"MEAP\", \"authors\" : [ \"Jean-Philippe Aumasson\"], \"categories\" : [] },\n",
    "            { \"title\" : \"Rootkits and Bootkits: Reversing Modern Malware and Next Generation Threats\", \"isbn\" : \"B07P8J5HZJ\", \"pageCount\" : 448, \"thumbnailUrl\" : \"https://m.media-amazon.com/images/I/51+Zko5mWpL.jpg\", \"status\" : \"MEAP\", \"authors\" : [ \"Alex Matrosov\", \"Eugene Rodionov\", \"Sergey Bratus\" ], \"categories\" : [\"Viruses & Malware\", \"Computer Viruses\"] },\n",
    "            { \"title\" : \"Understanding Cryptography: A Textbook for Students and Practitioners\", \"isbn\" : \"B014P9I39Q\", \"pageCount\" : 390, \"thumbnailUrl\" : \"https://m.media-amazon.com/images/I/61TXcy7R+kL._AC_UY218_ML3_.jpg\", \"status\" : \"MEAP\", \"authors\" : [ \"Prof. Dr.-Ing. Christof Paar\", \"Prof. Dr.-Ing. January Pelzl\"], \"categories\" : [\" Computer Information Theory\", \"Encryption\"] }\n",
    "           ]\n",
    "x=mycoll.insert_many(document)\n",
    "client.close()\n"
   ]
  },
  {
   "cell_type": "markdown",
   "metadata": {},
   "source": [
    "#### Find document/s in the collection\n",
    "\n",
    "* Using find() to list the documents in a collection.\n",
    "\n",
    "    ```\n",
    "    from pymongo import MongoClient\n",
    "    #connect the client(program) to a mongoDB server\n",
    "    try:\n",
    "        client = MongoClient(\"localhost\", 27017)\n",
    "        print(\"Connected\")\n",
    "    except:\n",
    "        print(\"Cannot connect to database\")\n",
    "\n",
    "    mydb = client[\"mydatabase\"]   ## use the database mydatabase\n",
    "    mycoll = mydb[\"customers\"]    ## get the collection - customers\n",
    "\n",
    "    for document in mycoll.find():\n",
    "        print(document)\n",
    "    client.close()\n",
    "    \n",
    "    ```\n",
    " * List documents with conditions/queries.\n",
    " \n",
    " ```\n",
    "    from pymongo import MongoClient\n",
    "    #connect the client(program) to a mongoDB server\n",
    "    try:\n",
    "        client = MongoClient(\"localhost\", 27017)\n",
    "        print(\"Connected\")\n",
    "    except:\n",
    "        print(\"Cannot connect to database\")\n",
    "\n",
    "    mydb = client[\"mydatabase\"]   ## use the database mydatabase\n",
    "    mycoll = mydb[\"customers\"]    ## get the collection - customers\n",
    "\n",
    "    myquery = {\"address\": {\"$gt\":\"S\"}}\n",
    "    myprojections ={\"_id\":0}\n",
    "    myresult = mycoll.find(myquery, myprojections)\n",
    "    for x in myresult:\n",
    "        print(x)\n",
    " ```\n",
    " \n"
   ]
  },
  {
   "cell_type": "markdown",
   "metadata": {},
   "source": [
    "#### Exercise 8\n",
    "Find books with title containing the word **Hadoop**. Display the result in the following format:\n",
    "\n",
    "```\n",
    "Title                                    ISBN                                     Author/s                                          \n",
    "Hadoop in Action                         1935182196                               Chuck Lam                                         \n",
    "Hadoop in Practice                       1617290238                               Alex Holmes                                       \n",
    "Hadoop in Practice, Second Edition       1617292222                               Alex Holmes              \n",
    "```\n"
   ]
  },
  {
   "cell_type": "code",
   "execution_count": 10,
   "metadata": {},
   "outputs": [],
   "source": [
    "# your code here\n"
   ]
  },
  {
   "cell_type": "markdown",
   "metadata": {},
   "source": [
    "#### Exercise 9\n",
    "\n",
    "Find books with title containing the word **Programming**, pageCount is not zero and has author information. \n",
    "Display the documents as shown. The document should be sorted by title in ascending order\n",
    "and only the first 5 documents are listed.\n",
    "```\n",
    "Title                                              ISBN           Author/s                                          \n",
    "Distributed Programming with Java                  1884777651     Qusay H. Mahmoud                                  \n",
    "Elements of Programming with Perl                  1884777805     Andrew L. Johnson                                 \n",
    "Graphics Programming with Perl                     1930110022     Martien Verbruggen                                \n",
    "Java 3D Programming                                1930110359     Daniel Selman                                     \n",
    "Java Applets and Channels Without Programming      1884777392     Ronny Richardson,Michael Shoffner,Marq Singer,Bruce Murray,,Jack Gambol                                                    \n",
    "```"
   ]
  },
  {
   "cell_type": "code",
   "execution_count": 11,
   "metadata": {},
   "outputs": [],
   "source": [
    "# your code here"
   ]
  },
  {
   "cell_type": "markdown",
   "metadata": {},
   "source": [
    "#### Update document/s in the collection\n",
    "\n",
    "* Using update_one() to update the first document that satisfies the query/filterin a collection.\n",
    "\n",
    "    ```\n",
    "    from pymongo import MongoClient\n",
    "    #connect the client(program) to a mongoDB server\n",
    "    try:\n",
    "        client = MongoClient(\"localhost\", 27017)\n",
    "        print(\"Connected\")\n",
    "    except:\n",
    "        print(\"Cannot connect to database\")\n",
    "\n",
    "    mydb = client[\"mydatabase\"]   ## use the database mydatabase\n",
    "    mycoll = mydb[\"customers\"]    ## get the collection - customers\n",
    "    myquery = {\"address\": \"Valley 345\"}\n",
    "    newval = {\"$set\":{\"address\":\"Canyon 123\"}}\n",
    "    mycoll.update_one(myquery, newval)\n",
    "    \n",
    "    for document in mycoll.find():\n",
    "        print(document)\n",
    "    client.close()\n",
    "    \n",
    "    ```\n",
    "* Using update_many() to update the all documents that satisfy the query/filter in a collection.\n",
    "\n",
    "    ```\n",
    "    from pymongo import MongoClient\n",
    "        #connect the client(program) to a mongoDB server\n",
    "    try:\n",
    "        client = MongoClient(\"localhost\", 27017)\n",
    "        print(\"Connected\")\n",
    "    except:\n",
    "        print(\"Cannot connect to database\")\n",
    "\n",
    "    mydb = client[\"mydatabase\"]   ## use the database mydatabase\n",
    "    mycoll = mydb[\"customers\"]    ## get the collection - customers\n",
    "    myquery = {\"name\": \"Minnies\"}\n",
    "    newval = {\"$set\":{\"name\":\"Minnie\"}}\n",
    "    x = mycoll.update_many(myquery, newval)\n",
    "\n",
    "    print(\"No of documents updated : {}\".format(x.modified_count))\n",
    "\n",
    "    client.close()\n",
    "    ```"
   ]
  },
  {
   "cell_type": "markdown",
   "metadata": {},
   "source": [
    "#### Exercise 10\n",
    "\n",
    "Find the first book with title containing the word **in Action** and replace the word **Action** to **Motion**.\n",
    "Take note that only the word **Action** is replace and not the whole title.\n",
    "After the replacement, display the document as follows (the book shown might not be the same):\n",
    "```\n",
    "Title                                              ISBN           Author/s                                          \n",
    "Distributed Programming with Java in Motion        1884777651     Qusay H. Mahmoud                                  \n",
    "```"
   ]
  },
  {
   "cell_type": "code",
   "execution_count": 12,
   "metadata": {},
   "outputs": [],
   "source": [
    "# your code here"
   ]
  },
  {
   "cell_type": "markdown",
   "metadata": {},
   "source": [
    "#### Other useful methods\n",
    "\n",
    "* count() - to count the documents a collection.\n",
    "    ```\n",
    "        mycoll = mydb[\"cars\"]\n",
    "        print(mycoll.count())\n",
    "        \n",
    "    ```\n",
    "* Using cursor \n",
    "    ```\n",
    "    cursor = mycoll.find()\n",
    "    for x in cursor:\n",
    "        print(x)\n",
    "    ```\n",
    "\n",
    "#### Exercise 11\n",
    "\n",
    "Print out the number of documents left in the **book** collection.\n",
    "\n",
    "```"
   ]
  },
  {
   "cell_type": "code",
   "execution_count": null,
   "metadata": {},
   "outputs": [],
   "source": []
  },
  {
   "cell_type": "markdown",
   "metadata": {},
   "source": [
    "#### Exercise 12\n",
    "\n",
    "For each status in the book collection, print out the number of documents.\n",
    "```\n",
    "Status:PUBLISH Count:363\n",
    "Status:MEAP Count:68\n",
    "```"
   ]
  },
  {
   "cell_type": "code",
   "execution_count": 13,
   "metadata": {},
   "outputs": [],
   "source": [
    "# your code here"
   ]
  },
  {
   "cell_type": "markdown",
   "metadata": {},
   "source": [
    "#### Exercise 13\n",
    "\n",
    "Replace the value of the **status** field of the documents with \"PUBLISH\" to \"PUBLISHED\".\n",
    "\n",
    "After the replacement, print out the number of the documents with status = \"PUBLISHED\".\n",
    "```\n",
    "Status:PUBLISHED Count:363  \n",
    "       \n",
    "```"
   ]
  },
  {
   "cell_type": "code",
   "execution_count": 14,
   "metadata": {},
   "outputs": [],
   "source": [
    "# your code here"
   ]
  },
  {
   "cell_type": "markdown",
   "metadata": {},
   "source": [
    "#### Delete document/s in the collection\n",
    "\n",
    "* Using delete_one() to delete the first document that satisfies the query/filter in a collection.\n",
    "\n",
    "    ```\n",
    "    from pymongo import MongoClient\n",
    "    #connect the client(program) to a mongoDB server\n",
    "    try:\n",
    "        client = MongoClient(\"localhost\", 27017)\n",
    "        print(\"Connected\")\n",
    "    except:\n",
    "        print(\"Cannot connect to database\")\n",
    "\n",
    "    mydb = client[\"mydatabase\"]   ## use the database mydatabase\n",
    "    mycoll = mydb[\"customers\"]    ## get the collection - customers\n",
    "    myquery = {\"address\": \"Canyon 123\"}\n",
    "    mycoll.delete_one(myquery)\n",
    "    \n",
    "    for document in mycoll.find():\n",
    "        print(document)\n",
    "    client.close()\n",
    "    \n",
    "    ```\n",
    "* Using delete_many() to update the all documents that satisfy the query/filter in a collection.\n",
    "\n",
    "    ```\n",
    "    from pymongo import MongoClient\n",
    "        #connect the client(program) to a mongoDB server\n",
    "    try:\n",
    "        client = MongoClient(\"localhost\", 27017)\n",
    "        print(\"Connected\")\n",
    "    except:\n",
    "        print(\"Cannot connect to database\")\n",
    "\n",
    "    mydb = client[\"mydatabase\"]   ## use the database mydatabase\n",
    "    mycoll = mydb[\"customers\"]    ## get the collection - customers\n",
    "    myquery = {\"name\": \"Minnie\"}\n",
    "    x = mycoll.delete_many(myquery)\n",
    "\n",
    "    print(\"No of documents updated : {}\".format(x.modified_count))\n",
    "\n",
    "    client.close()\n",
    "    ```\n",
    "* Note that mycoll.delete_many({}) will delete all document in the collection.  Use with care!"
   ]
  },
  {
   "cell_type": "markdown",
   "metadata": {},
   "source": [
    "#### Exercise 14\n",
    "\n",
    "Delete the book with isbn = '1930110596' from the collection. Verify that the document is deleted using mongodb shell.\n"
   ]
  },
  {
   "cell_type": "code",
   "execution_count": 15,
   "metadata": {},
   "outputs": [],
   "source": [
    "# your code here"
   ]
  },
  {
   "cell_type": "markdown",
   "metadata": {},
   "source": [
    "#### Exercise 15\n",
    "\n",
    "Delete all the books that have pageCount=0 from the collection. Verify that the document is deleted using mongodb shell.\n"
   ]
  },
  {
   "cell_type": "code",
   "execution_count": 16,
   "metadata": {},
   "outputs": [],
   "source": [
    "# your code here"
   ]
  },
  {
   "cell_type": "markdown",
   "metadata": {},
   "source": [
    "#### Exercise 16\n",
    "\n",
    "Verify that the documents with pageCount=0 are deleted by counting the documents with pageCount=0."
   ]
  },
  {
   "cell_type": "code",
   "execution_count": 17,
   "metadata": {},
   "outputs": [],
   "source": [
    "# your code here"
   ]
  },
  {
   "cell_type": "markdown",
   "metadata": {},
   "source": [
    "#### Exercise 17\n",
    "Import data in csv file into MongoDB\n",
    "\n",
    "a. Write Python code to read **language.csv** and insert the records into the collection **language** in database **lang**  of MongoDB.  \n",
    "\n",
    "b. Verify that the data has been inserted."
   ]
  },
  {
   "cell_type": "code",
   "execution_count": 18,
   "metadata": {},
   "outputs": [],
   "source": [
    "# your code here\n",
    "import csv"
   ]
  },
  {
   "cell_type": "markdown",
   "metadata": {},
   "source": [
    "#### Exercise 18\n",
    "Import data in json file into MongoDB\n",
    "\n",
    "a. Write Python code to read **intern.json** and insert the records into **intern** collection of database **hrdb** in mongoDB.\n",
    "\n",
    "b. Verify that the data has been inserted."
   ]
  },
  {
   "cell_type": "code",
   "execution_count": null,
   "metadata": {},
   "outputs": [],
   "source": []
  }
 ],
 "metadata": {
  "kernelspec": {
   "display_name": "Python 3 (ipykernel)",
   "language": "python",
   "name": "python3"
  },
  "language_info": {
   "codemirror_mode": {
    "name": "ipython",
    "version": 3
   },
   "file_extension": ".py",
   "mimetype": "text/x-python",
   "name": "python",
   "nbconvert_exporter": "python",
   "pygments_lexer": "ipython3",
   "version": "3.9.9"
  }
 },
 "nbformat": 4,
 "nbformat_minor": 2
}
